{
  "nbformat": 4,
  "nbformat_minor": 0,
  "metadata": {
    "colab": {
      "name": "u34_u36_심사문제.ipynb",
      "provenance": [],
      "collapsed_sections": []
    },
    "kernelspec": {
      "name": "python3",
      "display_name": "Python 3"
    },
    "language_info": {
      "name": "python"
    }
  },
  "cells": [
    {
      "cell_type": "markdown",
      "metadata": {
        "id": "mYZVWASC7OZf"
      },
      "source": [
        "# u34"
      ]
    },
    {
      "cell_type": "markdown",
      "metadata": {
        "id": "LExKzBBj7Y43"
      },
      "source": [
        "표준 입력으로 게임 캐릭터 능력치(체력, 마나, AP)가 입력됩니다.\n",
        "다음 소스 코드에서 애니(Annie) 클래스를 작성하여 티버(tibbers) 스킬의 피해량이 출력되게 만드세요.\n",
        "티버의 피해량은 AP * 0.65 + 400이며 AP(Ability Power, 주문력)는 마법 능력치를 뜻합니다."
      ]
    },
    {
      "cell_type": "code",
      "metadata": {
        "id": "u1566N057f6K"
      },
      "source": [
        "class Annie:\n",
        "    def __init__(self, health, mana, ability_power):\n",
        "        self.health = health\n",
        "        self.mana = mana\n",
        "        self.ability_power = ability_power\n",
        "    \n",
        "    def tibbers(self):\n",
        "        val = self.ability_power * 0.65 + 400\n",
        "        print(f'티버: 피해량 {val}')"
      ],
      "execution_count": 1,
      "outputs": []
    },
    {
      "cell_type": "code",
      "metadata": {
        "colab": {
          "base_uri": "https://localhost:8080/"
        },
        "id": "Kn9NXC3J7hX4",
        "outputId": "1d44b863-c8c8-4d28-c444-43ee5f4849e7"
      },
      "source": [
        "# 1803.68 1184.0 645\n",
        "health, mana, ability_power = map(float, input().split())\n",
        " \n",
        "x = Annie(health=health, mana=mana, ability_power=ability_power)\n",
        "x.tibbers()"
      ],
      "execution_count": 2,
      "outputs": [
        {
          "output_type": "stream",
          "text": [
            "1803.68 1184.0 645\n",
            "티버: 피해량 819.25\n"
          ],
          "name": "stdout"
        }
      ]
    },
    {
      "cell_type": "markdown",
      "metadata": {
        "id": "UvOEw1iP7OXk"
      },
      "source": [
        "# u35"
      ]
    },
    {
      "cell_type": "markdown",
      "metadata": {
        "id": "TXJg7D8R7ZUU"
      },
      "source": [
        "표준 입력으로 시:분:초 형식의 시간이 입력됩니다. 다음 소스 코드에서 Time 클래스를 완성하여 시, 분, 초가 출력되게 만드세요.\n",
        "from_string은 문자열로 인스턴스를 만드는 메서드이며 is_time_valid는 문자열이 올바른 시간인지 검사하는 메서드입니다.\n",
        "시간은 24시까지, 분은 59분까지, 초는 60초까지 있어야 합니다.\n",
        "정답에 코드를 작성할 때는 class Time:에 맞춰서 들여쓰기를 해주세요"
      ]
    },
    {
      "cell_type": "code",
      "metadata": {
        "id": "NgzPKLg27mGW"
      },
      "source": [
        "class Time:\n",
        "    def __init__(self, hour, minute, second):\n",
        "        self.hour = hour\n",
        "        self.minute = minute\n",
        "        self.second = second\n",
        "\n",
        "    @staticmethod\n",
        "    def is_time_valid(time_string):\n",
        "        h, m, s = map(int, time_string.split(':'))\n",
        "        return 0<h<=24 and 0<=m<=59 and 0<s<=60\n",
        "\n",
        "    @classmethod\n",
        "    def from_string(cls, time_string):\n",
        "        h, m, s = map(int, time_string.split(':'))\n",
        "        t = cls(h,m,s)\n",
        "        return t"
      ],
      "execution_count": 3,
      "outputs": []
    },
    {
      "cell_type": "code",
      "metadata": {
        "id": "SXxgayn97noM"
      },
      "source": [
        "time_string = input()\n",
        " \n",
        "if Time.is_time_valid(time_string):\n",
        "    t = Time.from_string(time_string)\n",
        "    print(t.hour, t.minute, t.second)\n",
        "else:\n",
        "    print('잘못된 시간 형식입니다.')"
      ],
      "execution_count": null,
      "outputs": []
    },
    {
      "cell_type": "markdown",
      "metadata": {
        "id": "VoaiS2D47OVn"
      },
      "source": [
        "# u36"
      ]
    },
    {
      "cell_type": "markdown",
      "metadata": {
        "id": "YfVetLTG7d4S"
      },
      "source": [
        "다음 소스 코드에서 동물 클래스 Animal과 날개 클래스 Wing을 상속받아 새 클래스 Bird를 작성하여\n",
        "'먹다', '파닥거리다', '날다', True, True가 각 줄에 출력되게 만드세요."
      ]
    },
    {
      "cell_type": "code",
      "metadata": {
        "id": "lOjy8jxP7CM-"
      },
      "source": [
        "class Animal:\n",
        "    def eat(self):\n",
        "        print('먹다')\n",
        " \n",
        "class Wing:\n",
        "    def flap(self):\n",
        "        print('파닥거리다')\n",
        "\n",
        "class Bird(Animal, Wing):\n",
        "    def fly(self):\n",
        "        print('날다')"
      ],
      "execution_count": 5,
      "outputs": []
    },
    {
      "cell_type": "code",
      "metadata": {
        "colab": {
          "base_uri": "https://localhost:8080/"
        },
        "id": "_brAxxdX7sbD",
        "outputId": "05e3c3af-28a9-4f11-8cdf-ab9a4be47e05"
      },
      "source": [
        "b = Bird()\n",
        "b.eat()\n",
        "b.flap()\n",
        "b.fly()\n",
        "print(issubclass(Bird, Animal))\n",
        "print(issubclass(Bird, Wing))"
      ],
      "execution_count": 6,
      "outputs": [
        {
          "output_type": "stream",
          "text": [
            "먹다\n",
            "파닥거리다\n",
            "날다\n",
            "True\n",
            "True\n"
          ],
          "name": "stdout"
        }
      ]
    },
    {
      "cell_type": "code",
      "metadata": {
        "id": "3j8DCwR87taU"
      },
      "source": [
        ""
      ],
      "execution_count": null,
      "outputs": []
    }
  ]
}