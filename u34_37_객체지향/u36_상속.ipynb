{
  "nbformat": 4,
  "nbformat_minor": 0,
  "metadata": {
    "colab": {
      "name": "u36_상속.ipynb",
      "provenance": [],
      "collapsed_sections": []
    },
    "kernelspec": {
      "name": "python3",
      "display_name": "Python 3"
    },
    "language_info": {
      "name": "python"
    }
  },
  "cells": [
    {
      "cell_type": "markdown",
      "metadata": {
        "id": "DTIoNOJm6HB1"
      },
      "source": [
        "# Unit 36. 상속(Inheritance)"
      ]
    },
    {
      "cell_type": "markdown",
      "metadata": {
        "id": "rUiaJVNm6HAJ"
      },
      "source": [
        "### 36.1 기본 상속"
      ]
    },
    {
      "cell_type": "code",
      "metadata": {
        "id": "R7Hy7Ft_6ZvD"
      },
      "source": [
        "class Person:\n",
        "    def greeting(self):\n",
        "        print('안녕하세요?')\n",
        "\n",
        "class Student(Person):\n",
        "    def study(self):\n",
        "        print('공부하기')"
      ],
      "execution_count": 1,
      "outputs": []
    },
    {
      "cell_type": "code",
      "metadata": {
        "colab": {
          "base_uri": "https://localhost:8080/"
        },
        "id": "_unAqwSI6ftg",
        "outputId": "472b2e0d-8ad7-4e2f-cd79-639bb82a05d0"
      },
      "source": [
        "james = Student()\n",
        "james.greeting()"
      ],
      "execution_count": 2,
      "outputs": [
        {
          "output_type": "stream",
          "text": [
            "안녕하세요?\n"
          ],
          "name": "stdout"
        }
      ]
    },
    {
      "cell_type": "code",
      "metadata": {
        "colab": {
          "base_uri": "https://localhost:8080/"
        },
        "id": "j-4EEQ2t6ej-",
        "outputId": "2848164b-5309-4f72-b98a-e600b0d15e83"
      },
      "source": [
        "james.study()"
      ],
      "execution_count": 3,
      "outputs": [
        {
          "output_type": "stream",
          "text": [
            "공부하기\n"
          ],
          "name": "stdout"
        }
      ]
    },
    {
      "cell_type": "markdown",
      "metadata": {
        "id": "ohrGNjdt6NJN"
      },
      "source": [
        "### 36.3 기반 클래스의 속성 사용하기"
      ]
    },
    {
      "cell_type": "code",
      "metadata": {
        "id": "EZDEPGKn6iT8"
      },
      "source": [
        "class Person:\n",
        "    def __init__(self):\n",
        "        self.hello = '안녕하세요?'\n",
        "        print('Person.__init__')\n",
        "\n",
        "class Student(Person):\n",
        "    def __init__(self):\n",
        "        self.school = '파이썬'\n",
        "        print('Student.__init__')"
      ],
      "execution_count": 4,
      "outputs": []
    },
    {
      "cell_type": "code",
      "metadata": {
        "colab": {
          "base_uri": "https://localhost:8080/",
          "height": 53
        },
        "id": "nN-PTUab6kFa",
        "outputId": "0959b3d0-6617-44ed-ca61-5440da11e3de"
      },
      "source": [
        "james = Student()\n",
        "james.school"
      ],
      "execution_count": 5,
      "outputs": [
        {
          "output_type": "stream",
          "text": [
            "Student.__init__\n"
          ],
          "name": "stdout"
        },
        {
          "output_type": "execute_result",
          "data": {
            "application/vnd.google.colaboratory.intrinsic+json": {
              "type": "string"
            },
            "text/plain": [
              "'파이썬'"
            ]
          },
          "metadata": {
            "tags": []
          },
          "execution_count": 5
        }
      ]
    },
    {
      "cell_type": "markdown",
      "metadata": {
        "id": "7BhjmULH6Spp"
      },
      "source": [
        "### super()로 기반 클래스 초기화"
      ]
    },
    {
      "cell_type": "code",
      "metadata": {
        "id": "abUw0A5F6obo"
      },
      "source": [
        "class Person:\n",
        "    def __init__(self):\n",
        "        self.hello = '안녕하세요?'\n",
        "        print('Person.__init__')\n",
        "\n",
        "class Student(Person):\n",
        "    def __init__(self):\n",
        "        super().__init__()\n",
        "        self.school = '파이썬'\n",
        "        print('Student.__init__')"
      ],
      "execution_count": 7,
      "outputs": []
    },
    {
      "cell_type": "code",
      "metadata": {
        "colab": {
          "base_uri": "https://localhost:8080/",
          "height": 72
        },
        "id": "-u7v_4VD6p-Q",
        "outputId": "1c8110c4-2880-4c34-e4ce-9b6c84776768"
      },
      "source": [
        "james = Student()\n",
        "james.hello"
      ],
      "execution_count": 8,
      "outputs": [
        {
          "output_type": "stream",
          "text": [
            "Person.__init__\n",
            "Student.__init__\n"
          ],
          "name": "stdout"
        },
        {
          "output_type": "execute_result",
          "data": {
            "application/vnd.google.colaboratory.intrinsic+json": {
              "type": "string"
            },
            "text/plain": [
              "'안녕하세요?'"
            ]
          },
          "metadata": {
            "tags": []
          },
          "execution_count": 8
        }
      ]
    },
    {
      "cell_type": "code",
      "metadata": {
        "id": "d0Bccd866r0Q"
      },
      "source": [
        "class Person:\n",
        "    def __init__(self):\n",
        "        self.hello = '안녕하세요?'\n",
        "        print('Person.__init__')\n",
        "\n",
        "class Student(Person):\n",
        "    pass"
      ],
      "execution_count": 9,
      "outputs": []
    },
    {
      "cell_type": "code",
      "metadata": {
        "colab": {
          "base_uri": "https://localhost:8080/",
          "height": 53
        },
        "id": "SRPqWPio6s7Q",
        "outputId": "b516fd6d-e0bf-4a94-901d-e766f80d507b"
      },
      "source": [
        "maria = Student()\n",
        "maria.hello"
      ],
      "execution_count": 10,
      "outputs": [
        {
          "output_type": "stream",
          "text": [
            "Person.__init__\n"
          ],
          "name": "stdout"
        },
        {
          "output_type": "execute_result",
          "data": {
            "application/vnd.google.colaboratory.intrinsic+json": {
              "type": "string"
            },
            "text/plain": [
              "'안녕하세요?'"
            ]
          },
          "metadata": {
            "tags": []
          },
          "execution_count": 10
        }
      ]
    },
    {
      "cell_type": "markdown",
      "metadata": {
        "id": "JlczXUix6U1_"
      },
      "source": [
        "### 36.4 Method Overriding"
      ]
    },
    {
      "cell_type": "code",
      "metadata": {
        "id": "pJBEpf756uZu"
      },
      "source": [
        "class Person:\n",
        "    def greeting(self):\n",
        "        print('안녕하세요?')\n",
        "\n",
        "class Student(Person):\n",
        "    def greeting(self):\n",
        "        print('안녕하세요? 저는 파이썬을 공부하는 학생입니다.')"
      ],
      "execution_count": 11,
      "outputs": []
    },
    {
      "cell_type": "code",
      "metadata": {
        "colab": {
          "base_uri": "https://localhost:8080/"
        },
        "id": "teubK6IO6uWd",
        "outputId": "8f7485cf-1a64-4af4-e270-542f20081c88"
      },
      "source": [
        "james = Student()\n",
        "james.greeting()"
      ],
      "execution_count": 12,
      "outputs": [
        {
          "output_type": "stream",
          "text": [
            "안녕하세요? 저는 파이썬을 공부하는 학생입니다.\n"
          ],
          "name": "stdout"
        }
      ]
    },
    {
      "cell_type": "code",
      "metadata": {
        "id": "MJUeFITv6wsE"
      },
      "source": [
        "class Person:\n",
        "    def greeting(self):\n",
        "        print('안녕하세요?')\n",
        "\n",
        "class Student(Person):\n",
        "    def greeting(self):\n",
        "        super().greeting()\n",
        "        print('안녕하세요? 저는 파이썬을 공부하는 학생입니다.')"
      ],
      "execution_count": 13,
      "outputs": []
    },
    {
      "cell_type": "code",
      "metadata": {
        "colab": {
          "base_uri": "https://localhost:8080/"
        },
        "id": "sOlog--76x6K",
        "outputId": "88df667a-f8d5-4558-b773-026c26960d6d"
      },
      "source": [
        "maria = Student()\n",
        "maria.greeting()"
      ],
      "execution_count": 14,
      "outputs": [
        {
          "output_type": "stream",
          "text": [
            "안녕하세요?\n",
            "안녕하세요? 저는 파이썬을 공부하는 학생입니다.\n"
          ],
          "name": "stdout"
        }
      ]
    },
    {
      "cell_type": "markdown",
      "metadata": {
        "id": "g_GIrqJ36W5P"
      },
      "source": [
        "### 36.6 추상 클래스 - Interface"
      ]
    },
    {
      "cell_type": "code",
      "metadata": {
        "id": "YfPOlp416FVG"
      },
      "source": [
        "from abc import *\n",
        "\n",
        "class StudentBase(metaclass=ABCMeta):\n",
        "    @abstractmethod                 # decorator\n",
        "    def study(self):\n",
        "        pass\n",
        "\n",
        "    @abstractmethod\n",
        "    def go_to_school(self):\n",
        "        pass"
      ],
      "execution_count": 16,
      "outputs": []
    },
    {
      "cell_type": "code",
      "metadata": {
        "id": "EZacamgd6zx-"
      },
      "source": [
        "class Student(StudentBase):\n",
        "    def study(self):\n",
        "        print('공부하기')"
      ],
      "execution_count": 17,
      "outputs": []
    },
    {
      "cell_type": "code",
      "metadata": {
        "colab": {
          "base_uri": "https://localhost:8080/",
          "height": 192
        },
        "id": "zFGPcF7w63w_",
        "outputId": "1342a362-d19a-49b6-fa3a-8cae937c9aba"
      },
      "source": [
        "james = Student()\n",
        "james.study()"
      ],
      "execution_count": 18,
      "outputs": [
        {
          "output_type": "error",
          "ename": "TypeError",
          "evalue": "ignored",
          "traceback": [
            "\u001b[0;31m---------------------------------------------------------------------------\u001b[0m",
            "\u001b[0;31mTypeError\u001b[0m                                 Traceback (most recent call last)",
            "\u001b[0;32m<ipython-input-18-5f2e5861623e>\u001b[0m in \u001b[0;36m<module>\u001b[0;34m()\u001b[0m\n\u001b[0;32m----> 1\u001b[0;31m \u001b[0mjames\u001b[0m \u001b[0;34m=\u001b[0m \u001b[0mStudent\u001b[0m\u001b[0;34m(\u001b[0m\u001b[0;34m)\u001b[0m\u001b[0;34m\u001b[0m\u001b[0;34m\u001b[0m\u001b[0m\n\u001b[0m\u001b[1;32m      2\u001b[0m \u001b[0mjames\u001b[0m\u001b[0;34m.\u001b[0m\u001b[0mstudy\u001b[0m\u001b[0;34m(\u001b[0m\u001b[0;34m)\u001b[0m\u001b[0;34m\u001b[0m\u001b[0;34m\u001b[0m\u001b[0m\n",
            "\u001b[0;31mTypeError\u001b[0m: Can't instantiate abstract class Student with abstract methods go_to_school"
          ]
        }
      ]
    },
    {
      "cell_type": "code",
      "metadata": {
        "id": "HGJ73oih65tN"
      },
      "source": [
        "class Student(StudentBase):\n",
        "    def study(self):\n",
        "        print('공부하기')\n",
        "    def go_to_school(self):\n",
        "        print('학교가기')"
      ],
      "execution_count": 19,
      "outputs": []
    },
    {
      "cell_type": "code",
      "metadata": {
        "colab": {
          "base_uri": "https://localhost:8080/"
        },
        "id": "aMfJ7Q8W66zy",
        "outputId": "24b0108f-fb73-47c9-9a20-2fbf5e572d84"
      },
      "source": [
        "james = Student()\n",
        "james.study()"
      ],
      "execution_count": 20,
      "outputs": [
        {
          "output_type": "stream",
          "text": [
            "공부하기\n"
          ],
          "name": "stdout"
        }
      ]
    },
    {
      "cell_type": "code",
      "metadata": {
        "id": "ICL3fNJi68NZ"
      },
      "source": [
        ""
      ],
      "execution_count": null,
      "outputs": []
    }
  ]
}