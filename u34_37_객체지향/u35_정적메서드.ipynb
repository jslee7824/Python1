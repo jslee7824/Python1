{
  "nbformat": 4,
  "nbformat_minor": 0,
  "metadata": {
    "colab": {
      "name": "u35_정적메서드.ipynb",
      "provenance": [],
      "collapsed_sections": []
    },
    "kernelspec": {
      "name": "python3",
      "display_name": "Python 3"
    },
    "language_info": {
      "name": "python"
    }
  },
  "cells": [
    {
      "cell_type": "markdown",
      "metadata": {
        "id": "95TipbYIBf8i"
      },
      "source": [
        "# Unit 35. 정적메서드"
      ]
    },
    {
      "cell_type": "code",
      "metadata": {
        "id": "_0bE-tB1BboV"
      },
      "source": [
        "class Calc:\n",
        "    @staticmethod\n",
        "    def add(a, b):\n",
        "        print(a + b)"
      ],
      "execution_count": 1,
      "outputs": []
    },
    {
      "cell_type": "code",
      "metadata": {
        "colab": {
          "base_uri": "https://localhost:8080/"
        },
        "id": "FhMiFuV7BvM9",
        "outputId": "633b248b-665a-4b28-afef-b6237f66ab64"
      },
      "source": [
        "Calc.add(10,20)"
      ],
      "execution_count": 2,
      "outputs": [
        {
          "output_type": "stream",
          "text": [
            "30\n"
          ],
          "name": "stdout"
        }
      ]
    },
    {
      "cell_type": "code",
      "metadata": {
        "id": "MpQwYvSLBxRP"
      },
      "source": [
        ""
      ],
      "execution_count": null,
      "outputs": []
    }
  ]
}