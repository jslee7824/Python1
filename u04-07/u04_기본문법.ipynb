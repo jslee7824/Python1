{
  "nbformat": 4,
  "nbformat_minor": 0,
  "metadata": {
    "colab": {
      "name": "u04_기본문법.ipynb",
      "provenance": []
    },
    "kernelspec": {
      "name": "python3",
      "display_name": "Python 3"
    },
    "language_info": {
      "name": "python"
    }
  },
  "cells": [
    {
      "cell_type": "markdown",
      "metadata": {
        "id": "s_nxIa5ia4sV"
      },
      "source": [
        "# Unit 4. 기본 문법 알아보기 "
      ]
    },
    {
      "cell_type": "markdown",
      "metadata": {
        "id": "gic9SU-tbGaH"
      },
      "source": [
        "##4.1 세미콜론"
      ]
    },
    {
      "cell_type": "code",
      "metadata": {
        "colab": {
          "base_uri": "https://localhost:8080/"
        },
        "id": "lsbovMnkayst",
        "outputId": "cb2922dc-2fa1-4234-e9e2-e5264c3d238a"
      },
      "source": [
        "print('Hello, world!')"
      ],
      "execution_count": 3,
      "outputs": [
        {
          "output_type": "stream",
          "text": [
            "Hello, world!\n"
          ],
          "name": "stdout"
        }
      ]
    },
    {
      "cell_type": "code",
      "metadata": {
        "colab": {
          "base_uri": "https://localhost:8080/"
        },
        "id": "o1Y7mTy4bCZE",
        "outputId": "1e95e3b2-bab8-47a5-db5d-a7f4f7e4c5fb"
      },
      "source": [
        "print('Hello'); print('1234')"
      ],
      "execution_count": 4,
      "outputs": [
        {
          "output_type": "stream",
          "text": [
            "Hello\n",
            "1234\n"
          ],
          "name": "stdout"
        }
      ]
    },
    {
      "cell_type": "markdown",
      "metadata": {
        "id": "LZeTaqxGbt3N"
      },
      "source": [
        "## 4.2 주석"
      ]
    },
    {
      "cell_type": "markdown",
      "metadata": {
        "id": "a2eoa_hDb2lD"
      },
      "source": [
        "###4.2.1 한 줄 주석"
      ]
    },
    {
      "cell_type": "code",
      "metadata": {
        "colab": {
          "base_uri": "https://localhost:8080/"
        },
        "id": "xVcS-jxjbh5Y",
        "outputId": "e88befc3-1014-4e16-a708-d85bd17a1b50"
      },
      "source": [
        "# Hello, world! 출력\n",
        "print('Hello, world!')"
      ],
      "execution_count": 5,
      "outputs": [
        {
          "output_type": "stream",
          "text": [
            "Hello, world!\n"
          ],
          "name": "stdout"
        }
      ]
    },
    {
      "cell_type": "code",
      "metadata": {
        "colab": {
          "base_uri": "https://localhost:8080/"
        },
        "id": "yrava0CYcVQo",
        "outputId": "e1f8782e-79dd-4b96-97dc-989dc37fa095"
      },
      "source": [
        "print(\"Hello, world!\") # comment"
      ],
      "execution_count": 6,
      "outputs": [
        {
          "output_type": "stream",
          "text": [
            "Hello, world!\n"
          ],
          "name": "stdout"
        }
      ]
    },
    {
      "cell_type": "code",
      "metadata": {
        "id": "AAKQWw0fcbaY"
      },
      "source": [
        "###4.2.2 블록 주석"
      ],
      "execution_count": 7,
      "outputs": []
    },
    {
      "cell_type": "code",
      "metadata": {
        "id": "rmB8UtsTfA1j"
      },
      "source": [
        "#더하기"
      ],
      "execution_count": 9,
      "outputs": []
    },
    {
      "cell_type": "code",
      "metadata": {
        "colab": {
          "base_uri": "https://localhost:8080/",
          "height": 36
        },
        "id": "QMFnaJ1XfGPk",
        "outputId": "681a6746-21da-4d15-8f33-10de13378bfb"
      },
      "source": [
        "\"\"\"\n",
        "이 안에 포함된 내용이 블록 주석\n",
        "\"\"\""
      ],
      "execution_count": 11,
      "outputs": [
        {
          "output_type": "execute_result",
          "data": {
            "application/vnd.google.colaboratory.intrinsic+json": {
              "type": "string"
            },
            "text/plain": [
              "'\\n이 안에 포함된 내용이 블록 주석\\n'"
            ]
          },
          "metadata": {
            "tags": []
          },
          "execution_count": 11
        }
      ]
    },
    {
      "cell_type": "code",
      "metadata": {
        "colab": {
          "base_uri": "https://localhost:8080/",
          "height": 36
        },
        "id": "pS_LcCHGfLbL",
        "outputId": "99530b56-3d88-4bcc-e068-37d5f3a98bea"
      },
      "source": [
        "'''a = 1 + 2\n",
        "print(Hello, world!)'''"
      ],
      "execution_count": 12,
      "outputs": [
        {
          "output_type": "execute_result",
          "data": {
            "application/vnd.google.colaboratory.intrinsic+json": {
              "type": "string"
            },
            "text/plain": [
              "'a = 1 + 2\\nprint(Hello, world!)'"
            ]
          },
          "metadata": {
            "tags": []
          },
          "execution_count": 12
        }
      ]
    },
    {
      "cell_type": "markdown",
      "metadata": {
        "id": "IeYkm49RiYSq"
      },
      "source": [
        "##4.3 들여쓰기 (Indentation)"
      ]
    },
    {
      "cell_type": "code",
      "metadata": {
        "colab": {
          "base_uri": "https://localhost:8080/"
        },
        "id": "T4fMwrmLjHgz",
        "outputId": "f62b5f97-acaa-479e-c8fa-1fba6d24c7af"
      },
      "source": [
        "#파이썬 예\n",
        "sum = 0\n",
        "for i in range(1,11): \n",
        "   sum += i\n",
        "print(sum)"
      ],
      "execution_count": 14,
      "outputs": [
        {
          "output_type": "stream",
          "text": [
            "55\n"
          ],
          "name": "stdout"
        }
      ]
    },
    {
      "cell_type": "code",
      "metadata": {
        "id": "WGJS72tVkLXl"
      },
      "source": [
        "#기본 공백: 공백 4개, 탭/백탭(Shift+TAB)"
      ],
      "execution_count": 15,
      "outputs": []
    },
    {
      "cell_type": "markdown",
      "metadata": {
        "id": "ceXjZ3q_fmEk"
      },
      "source": [
        "# 새 섹션"
      ]
    }
  ]
}