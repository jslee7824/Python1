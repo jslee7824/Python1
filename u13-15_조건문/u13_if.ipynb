{
  "nbformat": 4,
  "nbformat_minor": 0,
  "metadata": {
    "colab": {
      "name": "u13_if.ipynb",
      "provenance": [],
      "collapsed_sections": []
    },
    "kernelspec": {
      "name": "python3",
      "display_name": "Python 3"
    },
    "language_info": {
      "name": "python"
    }
  },
  "cells": [
    {
      "cell_type": "markdown",
      "metadata": {
        "id": "a8ubC2hBhuch"
      },
      "source": [
        "# Unit 13. if 조건문"
      ]
    },
    {
      "cell_type": "markdown",
      "metadata": {
        "id": "_06nYHGZh0bD"
      },
      "source": [
        "## 13.1 if 조건문"
      ]
    },
    {
      "cell_type": "code",
      "metadata": {
        "colab": {
          "base_uri": "https://localhost:8080/"
        },
        "id": "mrlL4fMegFU_",
        "outputId": "d3acbe0f-e967-46e9-efb6-c063780e34dc"
      },
      "source": [
        "x = 10\n",
        "if x == 10:\n",
        "    print('It is 10.')\n"
      ],
      "execution_count": 4,
      "outputs": [
        {
          "output_type": "stream",
          "text": [
            "It is 10.\n"
          ],
          "name": "stdout"
        }
      ]
    },
    {
      "cell_type": "code",
      "metadata": {
        "colab": {
          "base_uri": "https://localhost:8080/"
        },
        "id": "_a2lrwefh5BU",
        "outputId": "5b21c80a-e1d2-4481-8eca-0bccda5fdd41"
      },
      "source": [
        "x = 9\n",
        "if x:                  \n",
        "    print('It is 10.')\n",
        "# x가 0이 아니면 참"
      ],
      "execution_count": 7,
      "outputs": [
        {
          "output_type": "stream",
          "text": [
            "It is 10.\n"
          ],
          "name": "stdout"
        }
      ]
    },
    {
      "cell_type": "markdown",
      "metadata": {
        "id": "iA6SZHuXizxd"
      },
      "source": [
        "## 13.2 들여쓰기"
      ]
    },
    {
      "cell_type": "code",
      "metadata": {
        "colab": {
          "base_uri": "https://localhost:8080/"
        },
        "id": "CxV-AglMiNVY",
        "outputId": "e1f30f26-96a3-4f1b-cc8a-2052e2d8751e"
      },
      "source": [
        "x = 10\n",
        "\n",
        "if x == 10:\n",
        "    print('x값은')\n",
        "    print('10입니다.')\n",
        "print('언제나 출력됩니다.')"
      ],
      "execution_count": 9,
      "outputs": [
        {
          "output_type": "stream",
          "text": [
            "x값은\n",
            "10입니다.\n",
            "언제나 출력됩니다.\n"
          ],
          "name": "stdout"
        }
      ]
    },
    {
      "cell_type": "markdown",
      "metadata": {
        "id": "ghkWmFTej9tx"
      },
      "source": [
        "## 13.3 중첩 if 조건문"
      ]
    },
    {
      "cell_type": "code",
      "metadata": {
        "colab": {
          "base_uri": "https://localhost:8080/"
        },
        "id": "ugvLB3PNjLIe",
        "outputId": "c314c330-8c1c-40ed-9edb-00af5e535a8c"
      },
      "source": [
        "x = 15\n",
        "if x > 10:\n",
        "    print('10보다 큰 숫자이다')\n",
        "    if x == 15:\n",
        "      print('15이다')\n",
        "    if x == 20:\n",
        "      print('20이다')"
      ],
      "execution_count": 10,
      "outputs": [
        {
          "output_type": "stream",
          "text": [
            "10보다 큰 숫자이다\n",
            "15이다\n"
          ],
          "name": "stdout"
        }
      ]
    },
    {
      "cell_type": "code",
      "metadata": {
        "colab": {
          "base_uri": "https://localhost:8080/"
        },
        "id": "53KILuFwkcGq",
        "outputId": "b0dda85c-5485-4432-f9ba-0be4557e5a0f"
      },
      "source": [
        "x = int(input('정수입력>'))\n",
        "if x > 10:\n",
        "    print('10보다 큰 숫자이다')\n",
        "    if x == 15:\n",
        "      print('15이다')\n",
        "    if x == 20:\n",
        "      print('20이다')"
      ],
      "execution_count": 12,
      "outputs": [
        {
          "output_type": "stream",
          "text": [
            "정수입력>13\n",
            "10보다 큰 숫자이다\n"
          ],
          "name": "stdout"
        }
      ]
    },
    {
      "cell_type": "code",
      "metadata": {
        "id": "ECZPLz2YlLSc"
      },
      "source": [
        ""
      ],
      "execution_count": null,
      "outputs": []
    }
  ]
}