{
  "nbformat": 4,
  "nbformat_minor": 0,
  "metadata": {
    "colab": {
      "name": "5회차_이준성.ipynb",
      "provenance": [],
      "collapsed_sections": []
    },
    "kernelspec": {
      "name": "python3",
      "display_name": "Python 3"
    },
    "language_info": {
      "name": "python"
    }
  },
  "cells": [
    {
      "cell_type": "markdown",
      "metadata": {
        "id": "LBe3jq1Tzw2j"
      },
      "source": [
        "# 과제1. Chap 8 ~ 14"
      ]
    },
    {
      "cell_type": "markdown",
      "metadata": {
        "id": "id5r3iIiz88F"
      },
      "source": [
        "###chapter 8"
      ]
    },
    {
      "cell_type": "markdown",
      "metadata": {
        "id": "4F1lpnpAMpEh"
      },
      "source": [
        "### 문제 : 표준 입력으로 국어, 영어, 수학, 과학 점수가 입력됩니다. 국어는 90점 이상, 영어는 80점 초과, 수학은 85점 초과, 과학은 80점 이상일 때 합격이라고 정했습니다(한 과목이라도 조건에 만족하지 않으면 불합격). 다음 소스 코드를 완성하여 합격이면 True, 불합격이면 False가 출력되게 만드세요(input에서 안내 문자열은 출력하지 않아야 합니다)."
      ]
    },
    {
      "cell_type": "code",
      "metadata": {
        "colab": {
          "base_uri": "https://localhost:8080/"
        },
        "id": "TudmGVAJ7hnz",
        "outputId": "f766280d-fd23-4a08-fc94-5d23edbff92d"
      },
      "source": [
        "korean, english, math, science = map(int, input().split())\n",
        "print(korean>=90 and english>80 and math>85 and science>=80)"
      ],
      "execution_count": 17,
      "outputs": [
        {
          "output_type": "stream",
          "text": [
            "90 81 86 80\n",
            "True\n"
          ],
          "name": "stdout"
        }
      ]
    },
    {
      "cell_type": "markdown",
      "metadata": {
        "id": "zUAklg6c8k_M"
      },
      "source": [
        "### chapter 9"
      ]
    },
    {
      "cell_type": "markdown",
      "metadata": {
        "id": "0RAvpY7YMMZO"
      },
      "source": [
        "문제 : 다음 소스 코드를 완성하여 실행 결과대로 문자열이 출력되게 만드세요."
      ]
    },
    {
      "cell_type": "code",
      "metadata": {
        "colab": {
          "base_uri": "https://localhost:8080/"
        },
        "id": "Y0awWwZG0TtK",
        "outputId": "e44b29fa-1745-432f-9ccb-33ddd38ebf44"
      },
      "source": [
        "s = \"\"\"'Python' is a \"programming language\"\n",
        "that lets you work quickly\n",
        "and\n",
        "integrate systems more effectively.\"\"\"\n",
        "print(s)"
      ],
      "execution_count": 8,
      "outputs": [
        {
          "output_type": "stream",
          "text": [
            "'Python' is a \"programming language\"\n",
            "that lets you work quickly\n",
            "and\n",
            "integrate systems more effectively.\n"
          ],
          "name": "stdout"
        }
      ]
    },
    {
      "cell_type": "markdown",
      "metadata": {
        "id": "nfAMQ6Rs0Igm"
      },
      "source": [
        "###chapter 10"
      ]
    },
    {
      "cell_type": "markdown",
      "metadata": {
        "id": "jxlmggC-MDM7"
      },
      "source": [
        "### 문제 : 표준 입력으로 정수가 입력됩니다. range의 시작하는 숫자는 -10, 끝나는 숫자는 10이며 입력된 정수만큼 증가하는 숫자가 들어가도록 튜플을 만들고, 해당 튜플을 출력하는 프로그램을 만드세요(input에서 안내 문자열은 출력하지 않아야 합니다)."
      ]
    },
    {
      "cell_type": "code",
      "metadata": {
        "colab": {
          "base_uri": "https://localhost:8080/"
        },
        "id": "7gpwfbHW89pM",
        "outputId": "9fa7a2be-bdfc-4d90-952c-8e021ff4bb15"
      },
      "source": [
        "a = input()\n",
        "ans = tuple(range(-10, 10, int(a)))\n",
        "print(ans)\n",
        "\n"
      ],
      "execution_count": 34,
      "outputs": [
        {
          "output_type": "stream",
          "text": [
            "2\n",
            "(-10, -8, -6, -4, -2, 0, 2, 4, 6, 8)\n"
          ],
          "name": "stdout"
        }
      ]
    },
    {
      "cell_type": "code",
      "metadata": {
        "colab": {
          "base_uri": "https://localhost:8080/"
        },
        "id": "vwes_C0u_QBe",
        "outputId": "4e26c6c7-a524-43c5-e498-9e9b29911c7e"
      },
      "source": [
        "a = input()\n",
        "ans = tuple(range(-10, 10, int(a)))\n",
        "print(ans)"
      ],
      "execution_count": 35,
      "outputs": [
        {
          "output_type": "stream",
          "text": [
            "3\n",
            "(-10, -7, -4, -1, 2, 5, 8)\n"
          ],
          "name": "stdout"
        }
      ]
    },
    {
      "cell_type": "markdown",
      "metadata": {
        "id": "eFQ_EAPo89Hs"
      },
      "source": [
        ""
      ]
    },
    {
      "cell_type": "markdown",
      "metadata": {
        "id": "khONNNqP0KA1"
      },
      "source": [
        "###chapter 11"
      ]
    },
    {
      "cell_type": "markdown",
      "metadata": {
        "id": "zCflWm_WLSTX"
      },
      "source": [
        "### 문제 : 표준 입력으로 숫자 또는 문자열 여러 개가 입력되어 리스트 x에 저장됩니다(입력되는 숫자 또는 문자열의 개수는 정해져 있지 않음). 다음 소스 코드를 완성하여 리스트 x의 마지막 요소 5개를 삭제한 뒤 튜플로 출력되게 만드세요."
      ]
    },
    {
      "cell_type": "code",
      "metadata": {
        "colab": {
          "base_uri": "https://localhost:8080/"
        },
        "id": "soc2yb4YBZzc",
        "outputId": "6b5d69ff-c09a-4d33-db06-c6248da55fd1"
      },
      "source": [
        "x = input().split()\n",
        "del x[5:10]\n",
        "ans = tuple(x)\n",
        "print(ans)"
      ],
      "execution_count": 54,
      "outputs": [
        {
          "output_type": "stream",
          "text": [
            "1 2 3 4 5 6 7 8 9 10\n",
            "('1', '2', '3', '4', '5')\n"
          ],
          "name": "stdout"
        }
      ]
    },
    {
      "cell_type": "code",
      "metadata": {
        "colab": {
          "base_uri": "https://localhost:8080/"
        },
        "id": "Y-kHhg-3BsgT",
        "outputId": "59f7d1f4-bb44-4149-ba6e-9e531be37782"
      },
      "source": [
        "x = input().split()\n",
        "del x[-5:]\n",
        "ans = tuple(x)\n",
        "print(ans)"
      ],
      "execution_count": 49,
      "outputs": [
        {
          "output_type": "stream",
          "text": [
            "1 2 3 4 5 6 7 8 9 10\n",
            "('1', '2', '3', '4', '5')\n"
          ],
          "name": "stdout"
        }
      ]
    },
    {
      "cell_type": "code",
      "metadata": {
        "colab": {
          "base_uri": "https://localhost:8080/"
        },
        "id": "IwcpBWB9L5GD",
        "outputId": "311a3764-4853-4c64-b940-64a28aed68e0"
      },
      "source": [
        "x = input().split()\n",
        "del x[-5:]\n",
        "print(tuple(x))"
      ],
      "execution_count": 78,
      "outputs": [
        {
          "output_type": "stream",
          "text": [
            "oven bat pony total leak wreck curl crop space navy loss knee\n",
            "('oven', 'bat', 'pony', 'total', 'leak', 'wreck', 'curl')\n"
          ],
          "name": "stdout"
        }
      ]
    },
    {
      "cell_type": "markdown",
      "metadata": {
        "id": "GLxuiwWoLx4V"
      },
      "source": [
        "###표준 입력으로 문자열 두 개가 각 줄에 입력됩니다(문자열의 길이는 정해져 있지 않음). 첫 번째 문자열에서 인덱스가 홀수인 문자와 두 번째 문자열에서 인덱스가 짝수인 문자를 연결하여 출력하는 프로그램을 만드세요(input에서 안내 문자열은 출력하지 않아야 합니다). 연결 순서는 첫 번째 문자열, 두 번째 문자열 순입니다. 그리고 0은 짝수로 처리합니다."
      ]
    },
    {
      "cell_type": "code",
      "metadata": {
        "colab": {
          "base_uri": "https://localhost:8080/"
        },
        "id": "DWypugTNLbEE",
        "outputId": "a0374fe9-502e-488d-d783-57aaf14a4f27"
      },
      "source": [
        "str1 = input()\n",
        "str2 = input()\n",
        "print(str1[1::2]+str2[::2])"
      ],
      "execution_count": 77,
      "outputs": [
        {
          "output_type": "stream",
          "text": [
            "python\n",
            "python\n",
            "yhnpto\n"
          ],
          "name": "stdout"
        }
      ]
    },
    {
      "cell_type": "markdown",
      "metadata": {
        "id": "21lQHAui0OQo"
      },
      "source": [
        "###chapter 12"
      ]
    },
    {
      "cell_type": "markdown",
      "metadata": {
        "id": "j6HruMeGLKz2"
      },
      "source": [
        "### 문제 : 표준 입력으로 문자열 여러 개와 숫자(실수) 여러 개가 두 줄로 입력됩니다. 입력된 첫 번째 줄은 키, 두 번째 줄은 값으로 하여 딕셔너리를 생성한 뒤 딕셔너리를 출력하는 프로그램을 만드세요. input().split()의 결과를 변수 한 개에 저장하면 리스트로 저장됩니다."
      ]
    },
    {
      "cell_type": "code",
      "metadata": {
        "colab": {
          "base_uri": "https://localhost:8080/"
        },
        "id": "G1mg3FRSCf03",
        "outputId": "f60789cd-5100-4bd9-8bfc-f8e76a0d547d"
      },
      "source": [
        "key = input().split()\n",
        "value = map(float, input().split())\n",
        "test_dict = dict(zip(key,value))\n",
        "print(test_dict)"
      ],
      "execution_count": 56,
      "outputs": [
        {
          "output_type": "stream",
          "text": [
            "health health_regen mana mana_regen\n",
            "575.6 1.7 338.8 1.63\n",
            "{'health': 575.6, 'health_regen': 1.7, 'mana': 338.8, 'mana_regen': 1.63}\n"
          ],
          "name": "stdout"
        }
      ]
    },
    {
      "cell_type": "code",
      "metadata": {
        "colab": {
          "base_uri": "https://localhost:8080/"
        },
        "id": "yp9hOXtYFv6Q",
        "outputId": "dac1152b-af06-4b87-d0ea-aa0aef5853fb"
      },
      "source": [
        "key = input().split()\n",
        "value = map(float, input().split())\n",
        "test_dict = dict(zip(key,value))\n",
        "print(test_dict)"
      ],
      "execution_count": 57,
      "outputs": [
        {
          "output_type": "stream",
          "text": [
            "health mana melee attack_speed magic_resistance\n",
            "573.6 308.8 600 0.625 35.7\n",
            "{'health': 573.6, 'mana': 308.8, 'melee': 600.0, 'attack_speed': 0.625, 'magic_resistance': 35.7}\n"
          ],
          "name": "stdout"
        }
      ]
    },
    {
      "cell_type": "markdown",
      "metadata": {
        "id": "RwabOib90P2h"
      },
      "source": [
        "###chapter 13"
      ]
    },
    {
      "cell_type": "markdown",
      "metadata": {
        "id": "Fw6_jvPgK9Da"
      },
      "source": [
        "### 문제 : 표준 입력으로 가격(정수)과 쿠폰 이름이 각 줄에 입력됩니다. Cash3000 쿠폰은 3,000원, Cash5000 쿠폰은 5,000원을 할인합니다. 쿠폰에 따라 할인된 가격을 출력하는 프로그램을 만드세요(input에서 안내 문자열은 출력하지 않아야 합니다)."
      ]
    },
    {
      "cell_type": "code",
      "metadata": {
        "colab": {
          "base_uri": "https://localhost:8080/"
        },
        "id": "UV5ltSCCCp0B",
        "outputId": "c35f764a-b971-45b2-ac4e-87efcd712598"
      },
      "source": [
        "price = int(input())\n",
        "coupon = input()\n",
        "if coupon == 'Cash3000':\n",
        " price = price - 3000\n",
        "if coupon == 'Cash5000':\n",
        " price = price - 5000\n",
        "print(price)"
      ],
      "execution_count": 66,
      "outputs": [
        {
          "output_type": "stream",
          "text": [
            "27000\n",
            "Cash3000\n",
            "24000\n"
          ],
          "name": "stdout"
        }
      ]
    },
    {
      "cell_type": "code",
      "metadata": {
        "colab": {
          "base_uri": "https://localhost:8080/"
        },
        "id": "siLL9juqISBE",
        "outputId": "802358fa-98d1-47ab-fcc5-9a1dd29fefb3"
      },
      "source": [
        "price = int(input())\n",
        "coupon = input()\n",
        "if coupon == 'Cash3000':\n",
        " price -= 3000\n",
        "if coupon == 'Cash5000':\n",
        " price -= 5000\n",
        "print(price)"
      ],
      "execution_count": 70,
      "outputs": [
        {
          "output_type": "stream",
          "text": [
            "72000\n",
            "Cash5000\n",
            "67000\n"
          ],
          "name": "stdout"
        }
      ]
    },
    {
      "cell_type": "markdown",
      "metadata": {
        "id": "qkOy92LP0RHl"
      },
      "source": [
        "###chapter 14"
      ]
    },
    {
      "cell_type": "markdown",
      "metadata": {
        "id": "XaVAkb4lK2cI"
      },
      "source": [
        "### 문제 : 표준 입력으로 국어, 영어, 수학, 과학 점수가 입력됩니다. 여기서 네 과목의 평균 점수가 80점 이상일 때 합격이라고 정했습니다. 평균 점수에 따라 '합격', '불합격'을 출력하는 프로그램을 만드세요(input에서 안내 문자열은 출력하지 않아야 합니다). 단, 점수는 0점부터 100점까지만 입력받을 수 있으며 범위를 벗어났다면 '잘못된 점수'를 출력하고 합격, 불합격 여부는 출력하지 않아야 합니다."
      ]
    },
    {
      "cell_type": "code",
      "metadata": {
        "colab": {
          "base_uri": "https://localhost:8080/"
        },
        "id": "W-m18wbSxgse",
        "outputId": "78e1ce7f-79ef-4ddb-ccb8-996e9593de2d"
      },
      "source": [
        "korean, english, math, science = map(int,input().split())\n",
        "if 0<=korean<=100 and 0<=english<=100 and 0<=math<=100 and 0<=science<=100:\n",
        "    if(korean + english + math + science):\n",
        "      print('합격')\n",
        "    else:\n",
        "      print('불합격')\n",
        "else:\n",
        "  print('잘못된 점수')"
      ],
      "execution_count": 75,
      "outputs": [
        {
          "output_type": "stream",
          "text": [
            "89 72 93 82\n",
            "합격\n"
          ],
          "name": "stdout"
        }
      ]
    }
  ]
}