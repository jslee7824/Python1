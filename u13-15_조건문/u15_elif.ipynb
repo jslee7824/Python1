{
  "nbformat": 4,
  "nbformat_minor": 0,
  "metadata": {
    "colab": {
      "name": "u15_elif.ipynb",
      "provenance": [],
      "collapsed_sections": []
    },
    "kernelspec": {
      "name": "python3",
      "display_name": "Python 3"
    },
    "language_info": {
      "name": "python"
    }
  },
  "cells": [
    {
      "cell_type": "markdown",
      "metadata": {
        "id": "rapkYDysofLA"
      },
      "source": [
        "# Unit 15. elif"
      ]
    },
    {
      "cell_type": "code",
      "metadata": {
        "colab": {
          "base_uri": "https://localhost:8080/"
        },
        "id": "T7l2Y0NPo4RP",
        "outputId": "82620440-cce7-4d95-b4b4-d70b17436e13"
      },
      "source": [
        "x = 15\n",
        " \n",
        "if x == 10:             # x가 10일 때\n",
        "    print('10입니다.')\n",
        "elif x == 20:           # x가 20일 때\n",
        "    print('20입니다.')\n",
        "else:                   # 앞의 조건식에 모두 만족하지 않을 때\n",
        "    print('10도 20도 아닙니다.')"
      ],
      "execution_count": 3,
      "outputs": [
        {
          "output_type": "stream",
          "text": [
            "10도 20도 아닙니다.\n"
          ],
          "name": "stdout"
        }
      ]
    },
    {
      "cell_type": "code",
      "metadata": {
        "colab": {
          "base_uri": "https://localhost:8080/"
        },
        "id": "f5--QjVopHN7",
        "outputId": "147c5ef3-6256-4a72-cddc-66c9d2ddbf1b"
      },
      "source": [
        "# 숫자 - 입력, 3의 배수면 fizz, 5의 배수면 buzz, 15의 배수면 fizzbuzz\n",
        "x = int(input())\n",
        "if x % 15 == 0: \n",
        "  print('fizzbuz') \n",
        "elif x % 5 == 0:\n",
        "  print('buzz')\n",
        "elif x % 3 == 0:\n",
        "  print('fizz')\n",
        "else: \n",
        "  print(x)"
      ],
      "execution_count": 6,
      "outputs": [
        {
          "output_type": "stream",
          "text": [
            "15\n",
            "fizzbuz\n"
          ],
          "name": "stdout"
        }
      ]
    },
    {
      "cell_type": "code",
      "metadata": {
        "colab": {
          "base_uri": "https://localhost:8080/"
        },
        "id": "lv_VVftOqXG3",
        "outputId": "9892cd16-45e4-4e84-8c3b-fa7854acc7aa"
      },
      "source": [
        "print('Fizz'*(x%3==0) + 'Buzz'*(x%5==0) or x)"
      ],
      "execution_count": 7,
      "outputs": [
        {
          "output_type": "stream",
          "text": [
            "FizzBuzz\n"
          ],
          "name": "stdout"
        }
      ]
    },
    {
      "cell_type": "code",
      "metadata": {
        "id": "QKVariZMraOu"
      },
      "source": [
        ""
      ],
      "execution_count": null,
      "outputs": []
    }
  ]
}