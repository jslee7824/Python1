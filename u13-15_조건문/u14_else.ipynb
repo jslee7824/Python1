{
  "nbformat": 4,
  "nbformat_minor": 0,
  "metadata": {
    "colab": {
      "name": "u14_else.ipynb",
      "provenance": [],
      "collapsed_sections": []
    },
    "kernelspec": {
      "name": "python3",
      "display_name": "Python 3"
    },
    "language_info": {
      "name": "python"
    }
  },
  "cells": [
    {
      "cell_type": "markdown",
      "metadata": {
        "id": "DIXhOHRMl5im"
      },
      "source": [
        "# Unit 14. else"
      ]
    },
    {
      "cell_type": "code",
      "metadata": {
        "colab": {
          "base_uri": "https://localhost:8080/"
        },
        "id": "FMXjPlDsl4tz",
        "outputId": "3baec174-dcb6-4d42-82d6-d57c0261b8e0"
      },
      "source": [
        "x = 5\n",
        "if x == 10:\n",
        "    print('It is 10.')\n",
        "else:\n",
        "    print('It is not 10')"
      ],
      "execution_count": 1,
      "outputs": [
        {
          "output_type": "stream",
          "text": [
            "It is not 10\n"
          ],
          "name": "stdout"
        }
      ]
    },
    {
      "cell_type": "markdown",
      "metadata": {
        "id": "uMuA8fL9m3qE"
      },
      "source": [
        "### 3항 연산자"
      ]
    },
    {
      "cell_type": "code",
      "metadata": {
        "colab": {
          "base_uri": "https://localhost:8080/",
          "height": 36
        },
        "id": "Aw3SI1oMmzb6",
        "outputId": "50dfd029-64ec-4a35-b74c-d56e9dfb1ebb"
      },
      "source": [
        "x = 1\n",
        "if x % 2 == 0:\n",
        "    y = 'even'\n",
        "else:\n",
        "    y = 'odd'\n",
        "y"
      ],
      "execution_count": 3,
      "outputs": [
        {
          "output_type": "execute_result",
          "data": {
            "application/vnd.google.colaboratory.intrinsic+json": {
              "type": "string"
            },
            "text/plain": [
              "'odd'"
            ]
          },
          "metadata": {
            "tags": []
          },
          "execution_count": 3
        }
      ]
    },
    {
      "cell_type": "code",
      "metadata": {
        "colab": {
          "base_uri": "https://localhost:8080/",
          "height": 36
        },
        "id": "znno1omHnE69",
        "outputId": "6a666877-497a-4f99-c4f9-012b70e21ca3"
      },
      "source": [
        "y = 'even' if x%2 == 0 else 'odd'\n",
        "y"
      ],
      "execution_count": 4,
      "outputs": [
        {
          "output_type": "execute_result",
          "data": {
            "application/vnd.google.colaboratory.intrinsic+json": {
              "type": "string"
            },
            "text/plain": [
              "'odd'"
            ]
          },
          "metadata": {
            "tags": []
          },
          "execution_count": 4
        }
      ]
    },
    {
      "cell_type": "code",
      "metadata": {
        "colab": {
          "base_uri": "https://localhost:8080/",
          "height": 55
        },
        "id": "WQJ71BiQnTjK",
        "outputId": "9b8e748a-b3cc-48f4-8a62-1fa6b1ade9f5"
      },
      "source": [
        "# 90점 이상이면 A, 89~80: B, 70~79: C, 60~69: D, ~59: F\n",
        "score = int(input('점수입력> '))\n",
        "grade = 'A' if score >= 90 else \\\n",
        "            'B' if score >= 80 else \\\n",
        "                'C' if score >= 70 else \\\n",
        "                    'D' if score >= 60 else F\n",
        "grade\n",
        "#백슬래시로 문장 연결"
      ],
      "execution_count": 10,
      "outputs": [
        {
          "output_type": "stream",
          "text": [
            "점수입력> 76\n"
          ],
          "name": "stdout"
        },
        {
          "output_type": "execute_result",
          "data": {
            "application/vnd.google.colaboratory.intrinsic+json": {
              "type": "string"
            },
            "text/plain": [
              "'C'"
            ]
          },
          "metadata": {
            "tags": []
          },
          "execution_count": 10
        }
      ]
    },
    {
      "cell_type": "code",
      "metadata": {
        "id": "WP2gNUn1v5Mu"
      },
      "source": [
        ""
      ],
      "execution_count": null,
      "outputs": []
    },
    {
      "cell_type": "code",
      "metadata": {
        "id": "aifMpZ1Ewmst"
      },
      "source": [
        ""
      ],
      "execution_count": null,
      "outputs": []
    }
  ]
}