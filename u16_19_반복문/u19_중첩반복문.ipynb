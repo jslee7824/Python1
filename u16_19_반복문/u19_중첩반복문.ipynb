{
  "nbformat": 4,
  "nbformat_minor": 0,
  "metadata": {
    "colab": {
      "name": "u19_중첩반복문.ipynb",
      "provenance": [],
      "collapsed_sections": []
    },
    "kernelspec": {
      "name": "python3",
      "display_name": "Python 3"
    },
    "language_info": {
      "name": "python"
    }
  },
  "cells": [
    {
      "cell_type": "markdown",
      "metadata": {
        "id": "DrSp4bDObP7u"
      },
      "source": [
        "#Unit 19. 계단식으로 별 출력하기"
      ]
    },
    {
      "cell_type": "markdown",
      "metadata": {
        "id": "JIEZDrJabVH8"
      },
      "source": [
        "## 19.1 중첩 (Nested) for loop"
      ]
    },
    {
      "cell_type": "code",
      "metadata": {
        "colab": {
          "base_uri": "https://localhost:8080/"
        },
        "id": "i64GZiJGbOCV",
        "outputId": "df883528-6f6f-43a4-f0dd-01878475d87b"
      },
      "source": [
        "for i in range(1, 6):\n",
        "    for k in range(10, 60, 10):\n",
        "      print(k, end=' ')\n",
        "    print(i)"
      ],
      "execution_count": 1,
      "outputs": [
        {
          "output_type": "stream",
          "text": [
            "10 20 30 40 50 1\n",
            "10 20 30 40 50 2\n",
            "10 20 30 40 50 3\n",
            "10 20 30 40 50 4\n",
            "10 20 30 40 50 5\n"
          ],
          "name": "stdout"
        }
      ]
    },
    {
      "cell_type": "code",
      "metadata": {
        "colab": {
          "base_uri": "https://localhost:8080/"
        },
        "id": "rAZcXtKacu_J",
        "outputId": "6dd07caa-ac39-4fde-9b5a-40653f804ac9"
      },
      "source": [
        "for i in range(5):\n",
        "    for k in range(5):\n",
        "        print('*', end=' ')\n",
        "    print()"
      ],
      "execution_count": 4,
      "outputs": [
        {
          "output_type": "stream",
          "text": [
            "* * * * * \n",
            "* * * * * \n",
            "* * * * * \n",
            "* * * * * \n",
            "* * * * * \n"
          ],
          "name": "stdout"
        }
      ]
    },
    {
      "cell_type": "code",
      "metadata": {
        "colab": {
          "base_uri": "https://localhost:8080/"
        },
        "id": "pelVbSlAc8Wq",
        "outputId": "6e782368-62a4-49f7-e9ea-63df55d35714"
      },
      "source": [
        "for i in range(4):\n",
        "    for k in range(7):\n",
        "        print('*', end=' ')\n",
        "    print()"
      ],
      "execution_count": 6,
      "outputs": [
        {
          "output_type": "stream",
          "text": [
            "* * * * * * * \n",
            "* * * * * * * \n",
            "* * * * * * * \n",
            "* * * * * * * \n"
          ],
          "name": "stdout"
        }
      ]
    },
    {
      "cell_type": "code",
      "metadata": {
        "colab": {
          "base_uri": "https://localhost:8080/"
        },
        "id": "mYh1x6D7dxth",
        "outputId": "d3e68f12-cebb-4112-a54f-99a62323c8cf"
      },
      "source": [
        "#평행사변형\n",
        "for i in range(4):\n",
        "    for _ in range(0, i):\n",
        "        print(' ', end='')\n",
        "    for _ in range(5):\n",
        "        print('*', end='')\n",
        "    print()"
      ],
      "execution_count": 9,
      "outputs": [
        {
          "output_type": "stream",
          "text": [
            "*****\n",
            " *****\n",
            "  *****\n",
            "   *****\n"
          ],
          "name": "stdout"
        }
      ]
    },
    {
      "cell_type": "code",
      "metadata": {
        "colab": {
          "base_uri": "https://localhost:8080/"
        },
        "id": "wZ7e23GheDP5",
        "outputId": "16ff282c-5b06-459c-cf0e-0dc5a1a3995e"
      },
      "source": [
        "for i in range(4):\n",
        "    print(' '*i, '*'*5, sep='')"
      ],
      "execution_count": 10,
      "outputs": [
        {
          "output_type": "stream",
          "text": [
            "*****\n",
            " *****\n",
            "  *****\n",
            "   *****\n"
          ],
          "name": "stdout"
        }
      ]
    },
    {
      "cell_type": "markdown",
      "metadata": {
        "id": "oKnwJudqfLHB"
      },
      "source": [
        "## 19.3 계단식 별"
      ]
    },
    {
      "cell_type": "code",
      "metadata": {
        "colab": {
          "base_uri": "https://localhost:8080/"
        },
        "id": "rvp-gbxWfHBZ",
        "outputId": "7179ce9c-2a05-46af-dcf4-60d609bb10f2"
      },
      "source": [
        "for i in range(5):\n",
        "    for _ in range(i+1):\n",
        "        print('*', end='')\n",
        "    print()"
      ],
      "execution_count": 13,
      "outputs": [
        {
          "output_type": "stream",
          "text": [
            "*\n",
            "**\n",
            "***\n",
            "****\n",
            "*****\n"
          ],
          "name": "stdout"
        }
      ]
    },
    {
      "cell_type": "code",
      "metadata": {
        "colab": {
          "base_uri": "https://localhost:8080/"
        },
        "id": "Nj2Lg-JhfzCc",
        "outputId": "a690327c-eaf0-4e79-f73d-78de63f6aadd"
      },
      "source": [
        "for i in range(5):\n",
        "      for _ in range(i):\n",
        "        print(' ', end='')\n",
        "      for _ in range(5-i):\n",
        "        print('*', end='')\n",
        "      print()"
      ],
      "execution_count": 25,
      "outputs": [
        {
          "output_type": "stream",
          "text": [
            "*****\n",
            " ****\n",
            "  ***\n",
            "   **\n",
            "    *\n"
          ],
          "name": "stdout"
        }
      ]
    },
    {
      "cell_type": "code",
      "metadata": {
        "colab": {
          "base_uri": "https://localhost:8080/"
        },
        "id": "F-Uey-zVf7l5",
        "outputId": "f6abeec4-2c98-437e-dcfe-1d356bce8827"
      },
      "source": [
        "for i in range(5):\n",
        "    print(' '*i, '*'*(5-i), sep='')"
      ],
      "execution_count": 26,
      "outputs": [
        {
          "output_type": "stream",
          "text": [
            "*****\n",
            " ****\n",
            "  ***\n",
            "   **\n",
            "    *\n"
          ],
          "name": "stdout"
        }
      ]
    },
    {
      "cell_type": "code",
      "metadata": {
        "colab": {
          "base_uri": "https://localhost:8080/"
        },
        "id": "Qix-iV3xiHWB",
        "outputId": "34223608-aa11-44dc-bef5-3ada7cef1242"
      },
      "source": [
        "n = int(input(\"피라미드의 크기(숫자)를 입력하세요 : \")) #개인 답안\n",
        "for i in range(1, n+1):\n",
        "    print(\" \"* (n-i), \"*\" * (2*i-1))\n"
      ],
      "execution_count": 28,
      "outputs": [
        {
          "output_type": "stream",
          "text": [
            "피라미드의 크기(숫자)를 입력하세요 : 5\n",
            "     *\n",
            "    ***\n",
            "   *****\n",
            "  *******\n",
            " *********\n"
          ],
          "name": "stdout"
        }
      ]
    },
    {
      "cell_type": "code",
      "metadata": {
        "colab": {
          "base_uri": "https://localhost:8080/"
        },
        "id": "wdXUYo07jAf_",
        "outputId": "00d31e39-8f15-49d2-89ec-6468a14e101d"
      },
      "source": [
        "n = int(input(\"마름모의 크기(숫자)를 입력하세요 : \")) #개인 답안\n",
        "for i in range(1, n+1):\n",
        "    print(\" \"* (n-i), \"*\" * (2*i-1))\n",
        "for j in range(n-1, 0, -1) :\n",
        "    print(\" \"* (n-j), \"*\" * (2*j-1))"
      ],
      "execution_count": 30,
      "outputs": [
        {
          "output_type": "stream",
          "text": [
            "마름모의 크기(숫자)를 입력하세요 : 5\n",
            "     *\n",
            "    ***\n",
            "   *****\n",
            "  *******\n",
            " *********\n",
            "  *******\n",
            "   *****\n",
            "    ***\n",
            "     *\n"
          ],
          "name": "stdout"
        }
      ]
    },
    {
      "cell_type": "code",
      "metadata": {
        "colab": {
          "base_uri": "https://localhost:8080/"
        },
        "id": "42PSn6osjVjV",
        "outputId": "9f49ef51-b900-4f30-db14-66f80f430dab"
      },
      "source": [
        "n = 5 #개인 답안\n",
        "for i in range(1, n+1):\n",
        "    print(\" \"* (n-i), \"*\" * (2*i-1))\n",
        "for k in range(n-1, 0, -1) :\n",
        "    print(\" \"* (n-k), \"*\" * (2*k-1))"
      ],
      "execution_count": 39,
      "outputs": [
        {
          "output_type": "stream",
          "text": [
            "     *\n",
            "    ***\n",
            "   *****\n",
            "  *******\n",
            " *********\n",
            "  *******\n",
            "   *****\n",
            "    ***\n",
            "     *\n"
          ],
          "name": "stdout"
        }
      ]
    },
    {
      "cell_type": "code",
      "metadata": {
        "colab": {
          "base_uri": "https://localhost:8080/"
        },
        "id": "_PdJowNgjnKz",
        "outputId": "602bb11a-608e-49b9-dbcd-cf57ab3dd895"
      },
      "source": [
        "#해설 답안\n",
        "for i in range(5):\n",
        "    for _ in range(4-i):\n",
        "        print(' ', end='')\n",
        "    for _ in range(2*i+1):\n",
        "        print('*', end='')\n",
        "    print()\n",
        "for i in range(5):\n",
        "    for _ in range(i+1):\n",
        "            print(' ', end='')\n",
        "    for _ in range(7-2*i):\n",
        "            print('*', end='')\n",
        "    print()\n",
        "  "
      ],
      "execution_count": 43,
      "outputs": [
        {
          "output_type": "stream",
          "text": [
            "    *\n",
            "   ***\n",
            "  *****\n",
            " *******\n",
            "*********\n",
            " *******\n",
            "  *****\n",
            "   ***\n",
            "    *\n",
            "     \n"
          ],
          "name": "stdout"
        }
      ]
    },
    {
      "cell_type": "code",
      "metadata": {
        "colab": {
          "base_uri": "https://localhost:8080/"
        },
        "id": "dixwgROKlCtK",
        "outputId": "722328fb-819e-4236-a9cd-d2400aede2b1"
      },
      "source": [
        "\n",
        "for i in range(5):\n",
        "    print(' '*(4-i), '*'*(2*i+1), sep='')\n",
        "for i in range(4):\n",
        "    print(' '*(i+1), '*'*(7-2*i), sep='')"
      ],
      "execution_count": 44,
      "outputs": [
        {
          "output_type": "stream",
          "text": [
            "    *\n",
            "   ***\n",
            "  *****\n",
            " *******\n",
            "*********\n",
            " *******\n",
            "  *****\n",
            "   ***\n",
            "    *\n"
          ],
          "name": "stdout"
        }
      ]
    },
    {
      "cell_type": "code",
      "metadata": {
        "colab": {
          "base_uri": "https://localhost:8080/"
        },
        "id": "SiWlFoNspxmI",
        "outputId": "7338200e-5795-434a-9d30-b859cfe82012"
      },
      "source": [
        "for i in range(-4, 5):\n",
        "    print(' ' * (abs(i)),'*' * (-2*abs(i)+9), sep='')"
      ],
      "execution_count": 45,
      "outputs": [
        {
          "output_type": "stream",
          "text": [
            "    *\n",
            "   ***\n",
            "  *****\n",
            " *******\n",
            "*********\n",
            " *******\n",
            "  *****\n",
            "   ***\n",
            "    *\n"
          ],
          "name": "stdout"
        }
      ]
    }
  ]
}