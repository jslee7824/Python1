{
  "nbformat": 4,
  "nbformat_minor": 0,
  "metadata": {
    "colab": {
      "name": "u18_반복문제어.ipynb",
      "provenance": [],
      "collapsed_sections": []
    },
    "kernelspec": {
      "name": "python3",
      "display_name": "Python 3"
    },
    "language_info": {
      "name": "python"
    }
  },
  "cells": [
    {
      "cell_type": "markdown",
      "metadata": {
        "id": "D5SBmxOREwFR"
      },
      "source": [
        ""
      ]
    },
    {
      "cell_type": "markdown",
      "metadata": {
        "id": "9JoXCu28Ex67"
      },
      "source": [
        "# Unit 18. break, continue"
      ]
    },
    {
      "cell_type": "markdown",
      "metadata": {
        "id": "EcnHjWoTE4Rq"
      },
      "source": [
        "## 18.1 break"
      ]
    },
    {
      "cell_type": "code",
      "metadata": {
        "colab": {
          "base_uri": "https://localhost:8080/"
        },
        "id": "8rfMzb4NFQRS",
        "outputId": "cb26e793-21bc-44c4-f312-30ae6e8716f6"
      },
      "source": [
        "import random\n",
        "while True:\n",
        "  i = random.randint(1,6)\n",
        "  print(i)\n",
        "  if i == 3:\n",
        "      break"
      ],
      "execution_count": 6,
      "outputs": [
        {
          "output_type": "stream",
          "text": [
            "1\n",
            "6\n",
            "4\n",
            "2\n",
            "3\n"
          ],
          "name": "stdout"
        }
      ]
    },
    {
      "cell_type": "code",
      "metadata": {
        "colab": {
          "base_uri": "https://localhost:8080/"
        },
        "id": "Iw-6lOwoFWGV",
        "outputId": "8275a0d4-1616-446e-cf42-b3ded30dd890"
      },
      "source": [
        "for i in range(5):\n",
        "    print(i, end = ' ')\n",
        "    for k in range(5):\n",
        "        print('*', end='')\n",
        "        if i==k:\n",
        "            break\n",
        "    print()"
      ],
      "execution_count": 9,
      "outputs": [
        {
          "output_type": "stream",
          "text": [
            "0 *\n",
            "1 **\n",
            "2 ***\n",
            "3 ****\n",
            "4 *****\n"
          ],
          "name": "stdout"
        }
      ]
    },
    {
      "cell_type": "markdown",
      "metadata": {
        "id": "VV9g0rzLGruu"
      },
      "source": [
        "## 18.2 continue"
      ]
    },
    {
      "cell_type": "code",
      "metadata": {
        "colab": {
          "base_uri": "https://localhost:8080/"
        },
        "id": "vEWyyKj2GAM2",
        "outputId": "6c027477-5e81-4529-a705-01edec0c8a44"
      },
      "source": [
        "for i in range(10):\n",
        "    if i % 2 == 0:\n",
        "        continue\n",
        "    print(i)"
      ],
      "execution_count": 13,
      "outputs": [
        {
          "output_type": "stream",
          "text": [
            "1\n",
            "3\n",
            "5\n",
            "7\n",
            "9\n"
          ],
          "name": "stdout"
        }
      ]
    },
    {
      "cell_type": "code",
      "metadata": {
        "colab": {
          "base_uri": "https://localhost:8080/"
        },
        "id": "GJXXUe9nGwi0",
        "outputId": "37a7b728-0fcd-4830-b3a6-ec0868daa9bd"
      },
      "source": [
        "for i in range(10):\n",
        "    if i % 2 == 0:\n",
        "        continue\n",
        "    print(i , end=' ')"
      ],
      "execution_count": 15,
      "outputs": [
        {
          "output_type": "stream",
          "text": [
            "1 3 5 7 9 "
          ],
          "name": "stdout"
        }
      ]
    },
    {
      "cell_type": "code",
      "metadata": {
        "id": "8C6nwn_eHIqw"
      },
      "source": [
        ""
      ],
      "execution_count": null,
      "outputs": []
    }
  ]
}