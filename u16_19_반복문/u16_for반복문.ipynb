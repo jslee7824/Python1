{
  "nbformat": 4,
  "nbformat_minor": 0,
  "metadata": {
    "colab": {
      "name": "u16_for반복문.ipynb",
      "provenance": [],
      "collapsed_sections": []
    },
    "kernelspec": {
      "name": "python3",
      "display_name": "Python 3"
    },
    "language_info": {
      "name": "python"
    }
  },
  "cells": [
    {
      "cell_type": "markdown",
      "metadata": {
        "id": "UcU2lImys6hT"
      },
      "source": [
        "# Unit 16. for 반복문 "
      ]
    },
    {
      "cell_type": "markdown",
      "metadata": {
        "id": "n8VvgNqbtCf2"
      },
      "source": [
        "## 16.1 for 와 range"
      ]
    },
    {
      "cell_type": "code",
      "metadata": {
        "id": "u2524ZC5s2c1"
      },
      "source": [
        "#for 변수 in range(횟수):\n",
        "#  반복할 코드"
      ],
      "execution_count": 1,
      "outputs": []
    },
    {
      "cell_type": "code",
      "metadata": {
        "id": "0u-G_Qr-t4Xc"
      },
      "source": [
        "# C에서는 for (i=0, i<10, i++0) { 반복할 내용 }"
      ],
      "execution_count": 3,
      "outputs": []
    },
    {
      "cell_type": "code",
      "metadata": {
        "colab": {
          "base_uri": "https://localhost:8080/"
        },
        "id": "mSME6-jRtdyo",
        "outputId": "f452c6f7-6e89-4874-a79f-337ef71571d1"
      },
      "source": [
        "for i in range(2):\n",
        "  print('Hi~ H I')"
      ],
      "execution_count": 2,
      "outputs": [
        {
          "output_type": "stream",
          "text": [
            "Hi~ H I\n",
            "Hi~ H I\n"
          ],
          "name": "stdout"
        }
      ]
    },
    {
      "cell_type": "code",
      "metadata": {
        "colab": {
          "base_uri": "https://localhost:8080/"
        },
        "id": "NT34u-9dvkSf",
        "outputId": "8833adee-65a2-4ee1-cc9a-3b51b651b566"
      },
      "source": [
        "for i in range(2):\n",
        "  print('Hi~ H I', i)"
      ],
      "execution_count": 5,
      "outputs": [
        {
          "output_type": "stream",
          "text": [
            "Hi~ H I 0\n",
            "Hi~ H I 1\n"
          ],
          "name": "stdout"
        }
      ]
    },
    {
      "cell_type": "code",
      "metadata": {
        "colab": {
          "base_uri": "https://localhost:8080/"
        },
        "id": "zPJbRm23tmKy",
        "outputId": "8c751db2-65a7-4742-96f9-1e1a6dd50586"
      },
      "source": [
        "# 이렇게도 출력이 가능하다\n",
        "for _ in range(2):\n",
        "  print('Hi~ H I')"
      ],
      "execution_count": 6,
      "outputs": [
        {
          "output_type": "stream",
          "text": [
            "Hi~ H I\n",
            "Hi~ H I\n"
          ],
          "name": "stdout"
        }
      ]
    },
    {
      "cell_type": "markdown",
      "metadata": {
        "id": "vxb2RgJyx3XK"
      },
      "source": [
        "## 16.2 for 와 range 응용"
      ]
    },
    {
      "cell_type": "code",
      "metadata": {
        "colab": {
          "base_uri": "https://localhost:8080/"
        },
        "id": "HcidSTSgvjPv",
        "outputId": "5ad95e92-1cc3-40d6-e81e-0939929a6db8"
      },
      "source": [
        "for i in range(5, 10):\n",
        "  print('Hi Phomons~', i)"
      ],
      "execution_count": 7,
      "outputs": [
        {
          "output_type": "stream",
          "text": [
            "Hi Phomons~ 5\n",
            "Hi Phomons~ 6\n",
            "Hi Phomons~ 7\n",
            "Hi Phomons~ 8\n",
            "Hi Phomons~ 9\n"
          ],
          "name": "stdout"
        }
      ]
    },
    {
      "cell_type": "code",
      "metadata": {
        "colab": {
          "base_uri": "https://localhost:8080/"
        },
        "id": "LZgf_ysjyM5w",
        "outputId": "ee724632-fe56-4dba-e9cb-ead68b551521"
      },
      "source": [
        "for i in range(5, 10, 2):\n",
        "  print('Hi Phomons~', i)"
      ],
      "execution_count": 8,
      "outputs": [
        {
          "output_type": "stream",
          "text": [
            "Hi Phomons~ 5\n",
            "Hi Phomons~ 7\n",
            "Hi Phomons~ 9\n"
          ],
          "name": "stdout"
        }
      ]
    },
    {
      "cell_type": "code",
      "metadata": {
        "colab": {
          "base_uri": "https://localhost:8080/"
        },
        "id": "qAh2nPyxyQCo",
        "outputId": "ea7759fd-f028-46cf-ce38-20a6dccd896d"
      },
      "source": [
        "for i in range(10, 5, -2):\n",
        "  print('Hi Phomons~', i)"
      ],
      "execution_count": 10,
      "outputs": [
        {
          "output_type": "stream",
          "text": [
            "Hi Phomons~ 10\n",
            "Hi Phomons~ 8\n",
            "Hi Phomons~ 6\n"
          ],
          "name": "stdout"
        }
      ]
    },
    {
      "cell_type": "code",
      "metadata": {
        "colab": {
          "base_uri": "https://localhost:8080/"
        },
        "id": "a6GQBqhZzo45",
        "outputId": "3b8ae079-4986-40a6-c168-68d1075345ca"
      },
      "source": [
        "for i in range(1, 101):\n",
        "  print('Fizz'*(i%3==0) + 'Buzz'*(i%5==0) or i, end=' ')\n",
        "  if (i%10 == 0): # 10개마다 줄바꿈\n",
        "    print()"
      ],
      "execution_count": 13,
      "outputs": [
        {
          "output_type": "stream",
          "text": [
            "1 2 Fizz 4 Buzz Fizz 7 8 Fizz Buzz \n",
            "11 Fizz 13 14 FizzBuzz 16 17 Fizz 19 Buzz \n",
            "Fizz 22 23 Fizz Buzz 26 Fizz 28 29 FizzBuzz \n",
            "31 32 Fizz 34 Buzz Fizz 37 38 Fizz Buzz \n",
            "41 Fizz 43 44 FizzBuzz 46 47 Fizz 49 Buzz \n",
            "Fizz 52 53 Fizz Buzz 56 Fizz 58 59 FizzBuzz \n",
            "61 62 Fizz 64 Buzz Fizz 67 68 Fizz Buzz \n",
            "71 Fizz 73 74 FizzBuzz 76 77 Fizz 79 Buzz \n",
            "Fizz 82 83 Fizz Buzz 86 Fizz 88 89 FizzBuzz \n",
            "91 92 Fizz 94 Buzz Fizz 97 98 Fizz Buzz \n"
          ],
          "name": "stdout"
        }
      ]
    },
    {
      "cell_type": "markdown",
      "metadata": {
        "id": "wpumKAY50Fbz"
      },
      "source": [
        "## 16.3 시퀀스 객체 반복"
      ]
    },
    {
      "cell_type": "code",
      "metadata": {
        "colab": {
          "base_uri": "https://localhost:8080/"
        },
        "id": "3Nazh8Mpz7w-",
        "outputId": "6257ef0e-85bc-4f5b-cf92-431dbaad8169"
      },
      "source": [
        "fruits = ['apple', 'banana', 'cherry']\n",
        "for element in fruits:\n",
        "    print(element)"
      ],
      "execution_count": 15,
      "outputs": [
        {
          "output_type": "stream",
          "text": [
            "apple\n",
            "banana\n",
            "cherry\n"
          ],
          "name": "stdout"
        }
      ]
    },
    {
      "cell_type": "code",
      "metadata": {
        "colab": {
          "base_uri": "https://localhost:8080/"
        },
        "id": "hCqWj-v00ULt",
        "outputId": "85da0fb9-bd8f-49b8-9ec4-e250366453ba"
      },
      "source": [
        "for fruit in fruits:\n",
        "  print(fruit)"
      ],
      "execution_count": 16,
      "outputs": [
        {
          "output_type": "stream",
          "text": [
            "apple\n",
            "banana\n",
            "cherry\n"
          ],
          "name": "stdout"
        }
      ]
    },
    {
      "cell_type": "code",
      "metadata": {
        "colab": {
          "base_uri": "https://localhost:8080/"
        },
        "id": "K47BejqY0pa_",
        "outputId": "2e13b9e2-eae9-4c65-e25e-2eb51f39d072"
      },
      "source": [
        "fruit_list = ['apple', 'banana', 'cherry']\n",
        "for element in fruit_list:\n",
        "    print(element)"
      ],
      "execution_count": 17,
      "outputs": [
        {
          "output_type": "stream",
          "text": [
            "apple\n",
            "banana\n",
            "cherry\n"
          ],
          "name": "stdout"
        }
      ]
    },
    {
      "cell_type": "code",
      "metadata": {
        "colab": {
          "base_uri": "https://localhost:8080/"
        },
        "id": "uJm8Qcw10w0x",
        "outputId": "78ee0176-5670-45ba-a538-fcc2eef42a2e"
      },
      "source": [
        "for letter in 'Python':\n",
        "  print(letter, end='') # end='' "
      ],
      "execution_count": 22,
      "outputs": [
        {
          "output_type": "stream",
          "text": [
            "Python"
          ],
          "name": "stdout"
        }
      ]
    },
    {
      "cell_type": "code",
      "metadata": {
        "colab": {
          "base_uri": "https://localhost:8080/"
        },
        "id": "PZevRUJc2ZD1",
        "outputId": "4a93c4c3-b65a-4b02-d7a0-2a260cf3a2bc"
      },
      "source": [
        "for letter in reversed('Python'):\n",
        "  print(letter, end='')"
      ],
      "execution_count": 24,
      "outputs": [
        {
          "output_type": "stream",
          "text": [
            "nohtyP"
          ],
          "name": "stdout"
        }
      ]
    },
    {
      "cell_type": "markdown",
      "metadata": {
        "id": "uv1uRPeI4MYy"
      },
      "source": [
        "### Perfect Number\n",
        "- 자기자신을 제외한 약수의 합이 자기자신과 같은 수\n",
        "- 6의 약수: 1,2,3,6\n",
        "- 6 = 1 + 2 + 3\n",
        "- 10000이하의 자연수 중 4개"
      ]
    },
    {
      "cell_type": "code",
      "metadata": {
        "colab": {
          "base_uri": "https://localhost:8080/"
        },
        "id": "4IWOn_FC3YU2",
        "outputId": "e6e85f56-34af-42e5-cb29-ec7a62aead69"
      },
      "source": [
        "for i in range(2, 10001):\n",
        "    sum_of_divisor = 0\n",
        "    for k in range(1, i):\n",
        "      if i % k == 0:\n",
        "        sum_of_divisor += k\n",
        "\n",
        "    if i == sum_of_divisor:\n",
        "      print(i)"
      ],
      "execution_count": 35,
      "outputs": [
        {
          "output_type": "stream",
          "text": [
            "6\n",
            "28\n",
            "496\n",
            "8128\n"
          ],
          "name": "stdout"
        }
      ]
    },
    {
      "cell_type": "code",
      "metadata": {
        "id": "4tCLUZED428G"
      },
      "source": [
        ""
      ],
      "execution_count": null,
      "outputs": []
    }
  ]
}