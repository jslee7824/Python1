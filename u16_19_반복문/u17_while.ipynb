{
  "nbformat": 4,
  "nbformat_minor": 0,
  "metadata": {
    "colab": {
      "name": "u17_while.ipynb",
      "provenance": [],
      "collapsed_sections": []
    },
    "kernelspec": {
      "name": "python3",
      "display_name": "Python 3"
    },
    "language_info": {
      "name": "python"
    }
  },
  "cells": [
    {
      "cell_type": "markdown",
      "metadata": {
        "id": "VPriI6ZcA1WR"
      },
      "source": [
        "# Unit 17. while 반복문"
      ]
    },
    {
      "cell_type": "markdown",
      "metadata": {
        "id": "aMiYmHlwA3Dw"
      },
      "source": [
        "## 17.1 while 반복문\n",
        "- 반복 횟수가 정해져 있는 반복문에는 while이 아닌 for 를 쓴다."
      ]
    },
    {
      "cell_type": "code",
      "metadata": {
        "id": "XvSN_-LOAwfz"
      },
      "source": [
        "#while True:\n",
        "# 조건이 만족하면 loop 탈출"
      ],
      "execution_count": 2,
      "outputs": []
    },
    {
      "cell_type": "markdown",
      "metadata": {
        "id": "LKrW4_WIBzpb"
      },
      "source": [
        "## 17.2 반복 횟수가 없는 while 반복문"
      ]
    },
    {
      "cell_type": "code",
      "metadata": {
        "id": "JdAvjSokAz-r"
      },
      "source": [
        "import random"
      ],
      "execution_count": 3,
      "outputs": []
    },
    {
      "cell_type": "code",
      "metadata": {
        "colab": {
          "base_uri": "https://localhost:8080/"
        },
        "id": "iavVDk3hCThW",
        "outputId": "05a0d5b1-ae96-4078-e202-beb25dfc017c"
      },
      "source": [
        "random.random()"
      ],
      "execution_count": 4,
      "outputs": [
        {
          "output_type": "execute_result",
          "data": {
            "text/plain": [
              "0.47008589580903226"
            ]
          },
          "metadata": {
            "tags": []
          },
          "execution_count": 4
        }
      ]
    },
    {
      "cell_type": "code",
      "metadata": {
        "colab": {
          "base_uri": "https://localhost:8080/"
        },
        "id": "q2LSNs_uCV50",
        "outputId": "b7f75a73-00b7-4861-c295-a752322a724b"
      },
      "source": [
        "random.randint(1,6)"
      ],
      "execution_count": 6,
      "outputs": [
        {
          "output_type": "execute_result",
          "data": {
            "text/plain": [
              "4"
            ]
          },
          "metadata": {
            "tags": []
          },
          "execution_count": 6
        }
      ]
    },
    {
      "cell_type": "code",
      "metadata": {
        "colab": {
          "base_uri": "https://localhost:8080/"
        },
        "id": "K-h3OKwMCbHW",
        "outputId": "decd4eff-9ee7-4cce-aad7-e3ec445ba8cc"
      },
      "source": [
        "i = 0\n",
        "while i != 3:\n",
        "    i = random.randint(1,6)\n",
        "    print(i)"
      ],
      "execution_count": 7,
      "outputs": [
        {
          "output_type": "stream",
          "text": [
            "6\n",
            "4\n",
            "5\n",
            "2\n",
            "2\n",
            "2\n",
            "6\n",
            "3\n"
          ],
          "name": "stdout"
        }
      ]
    },
    {
      "cell_type": "code",
      "metadata": {
        "colab": {
          "base_uri": "https://localhost:8080/"
        },
        "id": "Llgh-qiTDCof",
        "outputId": "aea2d905-b36f-47a9-c852-b2be15e2b194"
      },
      "source": [
        "i = 0\n",
        "dice = list(range(1,7)) #[1,2,3,4,5,6]\n",
        "while i !=3:\n",
        "    i = random.choice(dice)\n",
        "    print(i)"
      ],
      "execution_count": 10,
      "outputs": [
        {
          "output_type": "stream",
          "text": [
            "4\n",
            "4\n",
            "3\n"
          ],
          "name": "stdout"
        }
      ]
    },
    {
      "cell_type": "code",
      "metadata": {
        "colab": {
          "base_uri": "https://localhost:8080/"
        },
        "id": "gQ2HLGL7DaGn",
        "outputId": "67e96abc-6c48-4d92-b38f-4321b1b25343"
      },
      "source": [
        "random.sample(dice, 6)"
      ],
      "execution_count": 13,
      "outputs": [
        {
          "output_type": "execute_result",
          "data": {
            "text/plain": [
              "[1, 3, 4, 5, 6, 2]"
            ]
          },
          "metadata": {
            "tags": []
          },
          "execution_count": 13
        }
      ]
    }
  ]
}