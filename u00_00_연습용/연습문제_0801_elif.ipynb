{
  "nbformat": 4,
  "nbformat_minor": 0,
  "metadata": {
    "colab": {
      "name": "연습문제_0801.ipynb",
      "provenance": [],
      "collapsed_sections": []
    },
    "kernelspec": {
      "name": "python3",
      "display_name": "Python 3"
    },
    "language_info": {
      "name": "python"
    }
  },
  "cells": [
    {
      "cell_type": "markdown",
      "metadata": {
        "id": "Hw2Vacjw8K41"
      },
      "source": [
        "# 연습문제_0801"
      ]
    },
    {
      "cell_type": "markdown",
      "metadata": {
        "id": "vSB70Mse9PXM"
      },
      "source": [
        "## 뒤에서 3자리 출력"
      ]
    },
    {
      "cell_type": "code",
      "metadata": {
        "colab": {
          "base_uri": "https://localhost:8080/"
        },
        "id": "tAPGAD1a6dP-",
        "outputId": "12eb1f1b-d1b1-417e-9b05-054ef8396381"
      },
      "source": [
        "year = [2011, 2012, 2013, 2014, 2015, 2016, 2017, 2018]\n",
        "population = [10249679, 10195318, 10143645, 10103233, 10022181, 9930616, 9857426, 9838892]\n",
        "\n",
        "year[-3:]\n",
        "population[-3:]"
      ],
      "execution_count": 1,
      "outputs": [
        {
          "output_type": "execute_result",
          "data": {
            "text/plain": [
              "[9930616, 9857426, 9838892]"
            ]
          },
          "metadata": {
            "tags": []
          },
          "execution_count": 1
        }
      ]
    },
    {
      "cell_type": "markdown",
      "metadata": {
        "id": "N2MXvqfS9MFy"
      },
      "source": [
        "## 홀수 출력"
      ]
    },
    {
      "cell_type": "code",
      "metadata": {
        "colab": {
          "base_uri": "https://localhost:8080/"
        },
        "id": "CgkuGeL08ixJ",
        "outputId": "e0925de9-3d69-4069-a175-4bdd4579ed8f"
      },
      "source": [
        "n = -32, 75, 97, -10, 9, 32, 4, -15, 0, 76, 14, 2\n",
        "print(n[1::2])"
      ],
      "execution_count": 3,
      "outputs": [
        {
          "output_type": "stream",
          "text": [
            "(75, -10, 32, -15, 76, 2)\n"
          ],
          "name": "stdout"
        }
      ]
    },
    {
      "cell_type": "code",
      "metadata": {
        "colab": {
          "base_uri": "https://localhost:8080/"
        },
        "id": "5MzMdM6P84b6",
        "outputId": "e162c531-b3e7-49a2-9c27-3ac076a652e9"
      },
      "source": [
        "print(n[1:len(n):2])"
      ],
      "execution_count": 4,
      "outputs": [
        {
          "output_type": "stream",
          "text": [
            "(75, -10, 32, -15, 76, 2)\n"
          ],
          "name": "stdout"
        }
      ]
    },
    {
      "cell_type": "markdown",
      "metadata": {
        "id": "r7yvDD9M9UJd"
      },
      "source": [
        "## 딕셔너리 저장"
      ]
    },
    {
      "cell_type": "code",
      "metadata": {
        "colab": {
          "base_uri": "https://localhost:8080/"
        },
        "id": "Jyq0nDg79E1A",
        "outputId": "9e76986c-130a-4622-ae42-67adf6529369"
      },
      "source": [
        "camille = {\n",
        "    'health': 575.6,\n",
        "    'health_regen': 1.7,\n",
        "    'mana': 338.8,\n",
        "    'mana_regen': 1.63,\n",
        "    'melee': 125,\n",
        "    'attack_damage': 60,\n",
        "    'attack_speed': 0.625,\n",
        "    'armor': 26,\n",
        "    'magic_resistance': 32.1,\n",
        "    'movement_speed': 340\n",
        "}\n",
        "\n",
        "print(camille['health'])"
      ],
      "execution_count": 5,
      "outputs": [
        {
          "output_type": "stream",
          "text": [
            "575.6\n"
          ],
          "name": "stdout"
        }
      ]
    },
    {
      "cell_type": "code",
      "metadata": {
        "colab": {
          "base_uri": "https://localhost:8080/"
        },
        "id": "gKpjtfg49gGx",
        "outputId": "73e16e89-91ba-4ccd-e90f-fa50af3516f4"
      },
      "source": [
        "camille['movement_speed']"
      ],
      "execution_count": 6,
      "outputs": [
        {
          "output_type": "execute_result",
          "data": {
            "text/plain": [
              "340"
            ]
          },
          "metadata": {
            "tags": []
          },
          "execution_count": 6
        }
      ]
    },
    {
      "cell_type": "markdown",
      "metadata": {
        "id": "DYV03mz191PI"
      },
      "source": [
        "## if"
      ]
    },
    {
      "cell_type": "code",
      "metadata": {
        "colab": {
          "base_uri": "https://localhost:8080/"
        },
        "id": "PkNoK_dA91IN",
        "outputId": "e0f48f84-1eaf-412d-a297-034d70fdef51"
      },
      "source": [
        "x = 10\n",
        "if x == 10:\n",
        "    print('10이여')"
      ],
      "execution_count": 8,
      "outputs": [
        {
          "output_type": "stream",
          "text": [
            "10이여\n"
          ],
          "name": "stdout"
        }
      ]
    },
    {
      "cell_type": "code",
      "metadata": {
        "colab": {
          "base_uri": "https://localhost:8080/"
        },
        "id": "RhJA3Ri-9-kx",
        "outputId": "9f4e33a6-6fff-452c-b677-1c062cc049a8"
      },
      "source": [
        "x = 5\n",
        "if x != 10:\n",
        "    print('ok')"
      ],
      "execution_count": 16,
      "outputs": [
        {
          "output_type": "stream",
          "text": [
            "ok\n"
          ],
          "name": "stdout"
        }
      ]
    },
    {
      "cell_type": "markdown",
      "metadata": {
        "id": "S9TX-8Wo-5As"
      },
      "source": [
        "## elif"
      ]
    },
    {
      "cell_type": "code",
      "metadata": {
        "colab": {
          "base_uri": "https://localhost:8080/"
        },
        "id": "KVOnKUup-Yzq",
        "outputId": "e12ae721-014b-4d61-965d-e9c65508b034"
      },
      "source": [
        "x = int(input())\n",
        "if 10<x<21:\n",
        "      print('11~20')\n",
        "elif 20<x<31:\n",
        "      print('21~30')\n",
        "else:\n",
        "      print('ㄴㄴ')"
      ],
      "execution_count": 18,
      "outputs": [
        {
          "output_type": "stream",
          "text": [
            "5\n",
            "ㄴㄴ\n"
          ],
          "name": "stdout"
        }
      ]
    },
    {
      "cell_type": "code",
      "metadata": {
        "id": "eKV5ExZe_blq"
      },
      "source": [
        ""
      ],
      "execution_count": 18,
      "outputs": []
    }
  ]
}