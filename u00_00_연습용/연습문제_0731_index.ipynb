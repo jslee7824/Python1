{
  "nbformat": 4,
  "nbformat_minor": 0,
  "metadata": {
    "colab": {
      "name": "연습문제_0731_index.ipynb",
      "provenance": []
    },
    "kernelspec": {
      "name": "python3",
      "display_name": "Python 3"
    },
    "language_info": {
      "name": "python"
    }
  },
  "cells": [
    {
      "cell_type": "code",
      "metadata": {
        "colab": {
          "base_uri": "https://localhost:8080/"
        },
        "id": "66Qr2FWqgfLL",
        "outputId": "67165bbf-1afb-4cc1-8744-5fa1ad5908ef"
      },
      "source": [
        "print (102*0.6+225)"
      ],
      "execution_count": 1,
      "outputs": [
        {
          "output_type": "stream",
          "text": [
            "286.2\n"
          ],
          "name": "stdout"
        }
      ]
    },
    {
      "cell_type": "code",
      "metadata": {
        "colab": {
          "base_uri": "https://localhost:8080/"
        },
        "id": "cen8m06EhXMd",
        "outputId": "756f2a11-9fd9-4a1a-d446-e7beeed7ff69"
      },
      "source": [
        "a, b, c, d = map(int, input() .split())\n",
        "print((a + b + c + d)//4)"
      ],
      "execution_count": 4,
      "outputs": [
        {
          "output_type": "stream",
          "text": [
            "20 30 40 50\n",
            "35\n"
          ],
          "name": "stdout"
        }
      ]
    },
    {
      "cell_type": "code",
      "metadata": {
        "colab": {
          "base_uri": "https://localhost:8080/"
        },
        "id": "QUgx4tYriX7E",
        "outputId": "a1832ee8-688d-4872-9f08-21c4417c603d"
      },
      "source": [
        "a, b, c, d = map(int, input() .split())\n",
        "print(a>=90 and b>80 and c>85 and d>80)"
      ],
      "execution_count": 5,
      "outputs": [
        {
          "output_type": "stream",
          "text": [
            "90 81 86 81\n",
            "True\n"
          ],
          "name": "stdout"
        }
      ]
    },
    {
      "cell_type": "code",
      "metadata": {
        "colab": {
          "base_uri": "https://localhost:8080/",
          "height": 55
        },
        "id": "pawXVQnui_kJ",
        "outputId": "7ea50177-52c7-4bea-fb57-167debf65f87"
      },
      "source": [
        "a = \"\"\"'Python' is a \"programming language\"\n",
        "that lets you work quickly \n",
        "and\n",
        "integrate systems more effectively.\"\"\"\n",
        "a"
      ],
      "execution_count": 9,
      "outputs": [
        {
          "output_type": "execute_result",
          "data": {
            "application/vnd.google.colaboratory.intrinsic+json": {
              "type": "string"
            },
            "text/plain": [
              "'\\'Python\\' is a \"programming language\"\\nthat lets you work quickly \\nand\\nintegrate systems more effectively.'"
            ]
          },
          "metadata": {
            "tags": []
          },
          "execution_count": 9
        }
      ]
    },
    {
      "cell_type": "code",
      "metadata": {
        "colab": {
          "base_uri": "https://localhost:8080/"
        },
        "id": "3oTQveXTjVIV",
        "outputId": "00da90c4-bfce-4f3a-b3ba-fac6e7f9ecaf"
      },
      "source": [
        "a = input()\n",
        "b = input()\n",
        "print(a+b)"
      ],
      "execution_count": 11,
      "outputs": [
        {
          "output_type": "stream",
          "text": [
            "3\n",
            "4\n",
            "34\n"
          ],
          "name": "stdout"
        }
      ]
    },
    {
      "cell_type": "code",
      "metadata": {
        "colab": {
          "base_uri": "https://localhost:8080/"
        },
        "id": "A7jI0wQxoPLj",
        "outputId": "c3fbfbc6-92f0-422f-cf26-48224eaadcdb"
      },
      "source": [
        "a, b, c = map(int, input().split())"
      ],
      "execution_count": 15,
      "outputs": [
        {
          "output_type": "stream",
          "text": [
            "10 20 30\n"
          ],
          "name": "stdout"
        }
      ]
    },
    {
      "cell_type": "code",
      "metadata": {
        "colab": {
          "base_uri": "https://localhost:8080/"
        },
        "id": "uOMMVyVGo2je",
        "outputId": "a039d894-f0fb-4e21-9843-bb112343c5f4"
      },
      "source": [
        "a, b, c = map(float, input().split())"
      ],
      "execution_count": 17,
      "outputs": [
        {
          "output_type": "stream",
          "text": [
            "10.1 10.3 10.4\n"
          ],
          "name": "stdout"
        }
      ]
    },
    {
      "cell_type": "code",
      "metadata": {
        "colab": {
          "base_uri": "https://localhost:8080/"
        },
        "id": "k12HM9Edo6tV",
        "outputId": "de36a354-e2ad-46a1-a889-fb2d915dc1cd"
      },
      "source": [
        "a, b, c = map(int, input().split())\n",
        "print(a, b, c, sep='\\n')"
      ],
      "execution_count": 18,
      "outputs": [
        {
          "output_type": "stream",
          "text": [
            "10 20 30\n",
            "10\n",
            "20\n",
            "30\n"
          ],
          "name": "stdout"
        }
      ]
    },
    {
      "cell_type": "code",
      "metadata": {
        "colab": {
          "base_uri": "https://localhost:8080/"
        },
        "id": "wYvn4yY7pUEI",
        "outputId": "7609b8c8-4900-4de4-e909-6f040b657d08"
      },
      "source": [
        "tup = list(range(-4, 10, 2))\n",
        "tup"
      ],
      "execution_count": 19,
      "outputs": [
        {
          "output_type": "execute_result",
          "data": {
            "text/plain": [
              "[-4, -2, 0, 2, 4, 6, 8]"
            ]
          },
          "metadata": {
            "tags": []
          },
          "execution_count": 19
        }
      ]
    },
    {
      "cell_type": "code",
      "metadata": {
        "colab": {
          "base_uri": "https://localhost:8080/"
        },
        "id": "MYRO45uUpojj",
        "outputId": "848fd589-bff6-44d4-c94a-6649379e7bdf"
      },
      "source": [
        "tup = list(range(10, 0, -1))\n",
        "tup"
      ],
      "execution_count": 21,
      "outputs": [
        {
          "output_type": "execute_result",
          "data": {
            "text/plain": [
              "[10, 9, 8, 7, 6, 5, 4, 3, 2, 1]"
            ]
          },
          "metadata": {
            "tags": []
          },
          "execution_count": 21
        }
      ]
    },
    {
      "cell_type": "code",
      "metadata": {
        "colab": {
          "base_uri": "https://localhost:8080/"
        },
        "id": "9OnGMOxZpsX2",
        "outputId": "32e5ec20-5448-45b0-8279-3ecf6aa2827b"
      },
      "source": [
        "# 튜플은 요소를 일렬로 저장하지만, 안에 저장된 요소를 변경, 추가, 삭제를 할 수 없습니다\n",
        "# 요소가 절대 변경되면 안되고 유지되어야 할 때 사용!!!\n",
        "a = (1,2,3)\n",
        "a"
      ],
      "execution_count": 23,
      "outputs": [
        {
          "output_type": "execute_result",
          "data": {
            "text/plain": [
              "(1, 2, 3)"
            ]
          },
          "metadata": {
            "tags": []
          },
          "execution_count": 23
        }
      ]
    },
    {
      "cell_type": "code",
      "metadata": {
        "colab": {
          "base_uri": "https://localhost:8080/"
        },
        "id": "kPsUUtWVp6lS",
        "outputId": "00a216d8-17be-415e-95ed-336b77d66023"
      },
      "source": [
        "#tuple 안에 리스트를 넣으면 새 튜플\n",
        "a = [1,2,3]\n",
        "tuple(a)"
      ],
      "execution_count": 25,
      "outputs": [
        {
          "output_type": "execute_result",
          "data": {
            "text/plain": [
              "(1, 2, 3)"
            ]
          },
          "metadata": {
            "tags": []
          },
          "execution_count": 25
        }
      ]
    },
    {
      "cell_type": "code",
      "metadata": {
        "colab": {
          "base_uri": "https://localhost:8080/"
        },
        "id": "f_Ac5U9zqu6x",
        "outputId": "8444bf55-03fe-49f7-8e81-f1ef547d19f9"
      },
      "source": [
        "# list 안에 튜플을 넣으면 새 리스트\n",
        "a = (1,2,3)\n",
        "list(a)"
      ],
      "execution_count": 26,
      "outputs": [
        {
          "output_type": "execute_result",
          "data": {
            "text/plain": [
              "[1, 2, 3]"
            ]
          },
          "metadata": {
            "tags": []
          },
          "execution_count": 26
        }
      ]
    },
    {
      "cell_type": "code",
      "metadata": {
        "colab": {
          "base_uri": "https://localhost:8080/",
          "height": 36
        },
        "id": "5a_p0Mkfq4x3",
        "outputId": "35e639f4-86c0-4e6f-8433-9e2d210f7a09"
      },
      "source": [
        "'열개, ' + str(10)"
      ],
      "execution_count": 27,
      "outputs": [
        {
          "output_type": "execute_result",
          "data": {
            "application/vnd.google.colaboratory.intrinsic+json": {
              "type": "string"
            },
            "text/plain": [
              "'열개, 10'"
            ]
          },
          "metadata": {
            "tags": []
          },
          "execution_count": 27
        }
      ]
    },
    {
      "cell_type": "code",
      "metadata": {
        "colab": {
          "base_uri": "https://localhost:8080/"
        },
        "id": "fFdtRnl0rPiF",
        "outputId": "f3d5454d-ddbd-4bbc-d3c1-6b19ee173467"
      },
      "source": [
        "len(range(1, 80, 3))"
      ],
      "execution_count": 30,
      "outputs": [
        {
          "output_type": "execute_result",
          "data": {
            "text/plain": [
              "27"
            ]
          },
          "metadata": {
            "tags": []
          },
          "execution_count": 30
        }
      ]
    },
    {
      "cell_type": "code",
      "metadata": {
        "id": "hiwS4Jj7rZTb"
      },
      "source": [
        "a = [38, 21, 53, 62, 19]\n",
        "a[0]"
      ],
      "execution_count": null,
      "outputs": []
    },
    {
      "cell_type": "code",
      "metadata": {
        "id": "1j_99TTgrkby"
      },
      "source": [
        "del a[3]\n",
        "a"
      ],
      "execution_count": null,
      "outputs": []
    },
    {
      "cell_type": "code",
      "metadata": {
        "id": "JoVAw_cxr5ND"
      },
      "source": [
        ""
      ],
      "execution_count": null,
      "outputs": []
    }
  ]
}