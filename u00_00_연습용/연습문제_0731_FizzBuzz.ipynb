{
  "nbformat": 4,
  "nbformat_minor": 0,
  "metadata": {
    "colab": {
      "name": "연습문제_0731_FizzBuzz.ipynb",
      "provenance": []
    },
    "kernelspec": {
      "name": "python3",
      "display_name": "Python 3"
    },
    "language_info": {
      "name": "python"
    }
  },
  "cells": [
    {
      "cell_type": "markdown",
      "metadata": {
        "id": "QO70c31uYOPt"
      },
      "source": [
        "# FizzBuzz"
      ]
    },
    {
      "cell_type": "code",
      "metadata": {
        "colab": {
          "base_uri": "https://localhost:8080/"
        },
        "id": "57KKbvfkX4Mv",
        "outputId": "c5b38ef4-73df-45e9-fbd5-0357f3740d80"
      },
      "source": [
        "#1에서 100까지 출력\n",
        "#3의 배수는 Fizz 출력\n",
        "#5의 배수는 Buzz 출력\n",
        "#3과 5의 공배수는 FizzBuzz 출력\n",
        "\n",
        "for i in range(1, 101):\n",
        "    print(i, end=' ')"
      ],
      "execution_count": 3,
      "outputs": [
        {
          "output_type": "stream",
          "text": [
            "1 2 3 4 5 6 7 8 9 10 11 12 13 14 15 16 17 18 19 20 21 22 23 24 25 26 27 28 29 30 31 32 33 34 35 36 37 38 39 40 41 42 43 44 45 46 47 48 49 50 51 52 53 54 55 56 57 58 59 60 61 62 63 64 65 66 67 68 69 70 71 72 73 74 75 76 77 78 79 80 81 82 83 84 85 86 87 88 89 90 91 92 93 94 95 96 97 98 99 100 "
          ],
          "name": "stdout"
        }
      ]
    },
    {
      "cell_type": "code",
      "metadata": {
        "colab": {
          "base_uri": "https://localhost:8080/"
        },
        "id": "3_YOp83eYNTm",
        "outputId": "925ee432-1ad2-44c0-848b-ff78e4a670ab"
      },
      "source": [
        "for i in range(1, 101):\n",
        "    if i % 3 == 0:\n",
        "        print('Fizz', end=' ')\n",
        "    elif i % 5 == 0:\n",
        "        print('Buzz', end=' ') \n",
        "    else:\n",
        "        print(i, end=' ')"
      ],
      "execution_count": 5,
      "outputs": [
        {
          "output_type": "stream",
          "text": [
            "1 2 Fizz 4 Buzz Fizz 7 8 Fizz Buzz 11 Fizz 13 14 Fizz 16 17 Fizz 19 Buzz Fizz 22 23 Fizz Buzz 26 Fizz 28 29 Fizz 31 32 Fizz 34 Buzz Fizz 37 38 Fizz Buzz 41 Fizz 43 44 Fizz 46 47 Fizz 49 Buzz Fizz 52 53 Fizz Buzz 56 Fizz 58 59 Fizz 61 62 Fizz 64 Buzz Fizz 67 68 Fizz Buzz 71 Fizz 73 74 Fizz 76 77 Fizz 79 Buzz Fizz 82 83 Fizz Buzz 86 Fizz 88 89 Fizz 91 92 Fizz 94 Buzz Fizz 97 98 Fizz Buzz "
          ],
          "name": "stdout"
        }
      ]
    },
    {
      "cell_type": "code",
      "metadata": {
        "colab": {
          "base_uri": "https://localhost:8080/"
        },
        "id": "htwF7FEwZPl2",
        "outputId": "61476d3a-9dfe-496c-e2d2-e359539f3728"
      },
      "source": [
        "for i in range(1, 101):              # 1부터 100까지 100번 반복\n",
        "    if i % 3 == 0 and i % 5 == 0:    # 3과 5의 공배수일 때\n",
        "        print('FizzBuzz', end=' ')\n",
        "    elif i % 3 == 0:\n",
        "        print('Fizz', end=' ')\n",
        "    elif i % 5 == 0:\n",
        "        print('Buzz', end=' ')\n",
        "    else:\n",
        "        print(i, end=' ')"
      ],
      "execution_count": 7,
      "outputs": [
        {
          "output_type": "stream",
          "text": [
            "1 2 Fizz 4 Buzz Fizz 7 8 Fizz Buzz 11 Fizz 13 14 FizzBuzz 16 17 Fizz 19 Buzz Fizz 22 23 Fizz Buzz 26 Fizz 28 29 FizzBuzz 31 32 Fizz 34 Buzz Fizz 37 38 Fizz Buzz 41 Fizz 43 44 FizzBuzz 46 47 Fizz 49 Buzz Fizz 52 53 Fizz Buzz 56 Fizz 58 59 FizzBuzz 61 62 Fizz 64 Buzz Fizz 67 68 Fizz Buzz 71 Fizz 73 74 FizzBuzz 76 77 Fizz 79 Buzz Fizz 82 83 Fizz Buzz 86 Fizz 88 89 FizzBuzz 91 92 Fizz 94 Buzz Fizz 97 98 Fizz Buzz "
          ],
          "name": "stdout"
        }
      ]
    },
    {
      "cell_type": "code",
      "metadata": {
        "colab": {
          "base_uri": "https://localhost:8080/"
        },
        "id": "2UcnIqrYZ2B-",
        "outputId": "ee7615ef-7f70-4e54-e630-0f0876eb9429"
      },
      "source": [
        "for i in range(1, 101):\n",
        "    if i % 15 == 0:\n",
        "        print(\"FizzBuzz\", end=' ')\n",
        "    elif i % 3 == 0:\n",
        "        print('Fizz', end=' ')\n",
        "    elif i % 5 == 0:\n",
        "        print('Buzz', end=' ')    \n",
        "    else:\n",
        "        print(i, end=' ')"
      ],
      "execution_count": 10,
      "outputs": [
        {
          "output_type": "stream",
          "text": [
            "1 2 Fizz 4 Buzz Fizz 7 8 Fizz Buzz 11 Fizz 13 14 FizzBuzz 16 17 Fizz 19 Buzz Fizz 22 23 Fizz Buzz 26 Fizz 28 29 FizzBuzz 31 32 Fizz 34 Buzz Fizz 37 38 Fizz Buzz 41 Fizz 43 44 FizzBuzz 46 47 Fizz 49 Buzz Fizz 52 53 Fizz Buzz 56 Fizz 58 59 FizzBuzz 61 62 Fizz 64 Buzz Fizz 67 68 Fizz Buzz 71 Fizz 73 74 FizzBuzz 76 77 Fizz 79 Buzz Fizz 82 83 Fizz Buzz 86 Fizz 88 89 FizzBuzz 91 92 Fizz 94 Buzz Fizz 97 98 Fizz Buzz "
          ],
          "name": "stdout"
        }
      ]
    },
    {
      "cell_type": "code",
      "metadata": {
        "id": "rzZhIPt1aHQy"
      },
      "source": [
        "# True는 1, False는 0으로 연산\n",
        "for i in range(1, 101):\n",
        "    print('Fizz' * (i % 3 == 0) + 'Buzz' * (i % 5 == 0) or i)"
      ],
      "execution_count": null,
      "outputs": []
    },
    {
      "cell_type": "code",
      "metadata": {
        "id": "ZW60nYKfbm65"
      },
      "source": [
        "# 변수 i가 6의 배수인지 확인하는 방법\n",
        "# i % 6 == 0\n",
        "# 변수 i가 5와 10의 공배수인지 확인하는 방법\n",
        "# i % 5 and i % 10 == 0"
      ],
      "execution_count": 12,
      "outputs": []
    },
    {
      "cell_type": "code",
      "metadata": {
        "id": "N_vumAtAckgo"
      },
      "source": [
        "#1부터 100까지의 숫자를 출력하면서 2의 배수일 때는 'Fizz', 11의 배수일 때는 'Buzz', 2과 11의 공배수일 때는 'FizzBuzz'가 출력되게 만드세요.\n",
        "for i in range(1, 101):\n",
        "    print('Fizz' * (i % 2 == 0) + 'Buzz' * (i % 11 == 0) or i)\n",
        "\n",
        "for i in range(1, 101):\n",
        "    if i % 22 == 0:\n",
        "        print('FizzBuzz')\n",
        "    elif i % 2 == 0:\n",
        "        print('Fizz')\n",
        "    elif i % 11 == 0:\n",
        "        print('Buzz')\n",
        "    else:\n",
        "        print(i)"
      ],
      "execution_count": null,
      "outputs": []
    },
    {
      "cell_type": "code",
      "metadata": {
        "colab": {
          "base_uri": "https://localhost:8080/"
        },
        "id": "9rok0ei8dLf3",
        "outputId": "45340059-6ca1-4f8a-dd1d-b2523a77e630"
      },
      "source": [
        "#표준입력\n",
        "#a, b = map(int,input(),split())\n",
        "#map(int, input(), split())\n",
        "#map(int, input(), split())\n",
        "#map(int, input(), split())\n",
        "#map(int, input(), split())\n",
        "#map(int, input(), split())\n",
        "\n",
        "start, stop = map(int, input() .split())\n",
        "for i in range(start, stop+1):\n",
        "    if i % 35 == 0:\n",
        "        print('FizzBuzz')\n",
        "    elif i % 5 == 0:\n",
        "        print('Fizz')\n",
        "    elif i % 7 == 0:\n",
        "        print('Buzz')\n",
        "    else:\n",
        "        print(i)"
      ],
      "execution_count": 22,
      "outputs": [
        {
          "output_type": "stream",
          "text": [
            "35 40\n",
            "FizzBuzz\n",
            "36\n",
            "37\n",
            "38\n",
            "39\n",
            "Fizz\n"
          ],
          "name": "stdout"
        }
      ]
    }
  ]
}