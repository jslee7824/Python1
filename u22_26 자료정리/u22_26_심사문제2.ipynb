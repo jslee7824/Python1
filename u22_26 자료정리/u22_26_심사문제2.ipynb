{
  "nbformat": 4,
  "nbformat_minor": 0,
  "metadata": {
    "colab": {
      "name": "u22_26_심사문제.ipynb",
      "provenance": [],
      "collapsed_sections": []
    },
    "kernelspec": {
      "name": "python3",
      "display_name": "Python 3"
    },
    "language_info": {
      "name": "python"
    }
  },
  "cells": [
    {
      "cell_type": "markdown",
      "metadata": {
        "id": "eyOfAoWEVbK5"
      },
      "source": [
        "### u22"
      ]
    },
    {
      "cell_type": "code",
      "metadata": {
        "colab": {
          "base_uri": "https://localhost:8080/"
        },
        "id": "kPiO9h6YU0uI",
        "outputId": "79b9204e-a8f6-41dc-eee9-9fea9f5a6c01"
      },
      "source": [
        "a,b = map(int,input().split())\n",
        "\n",
        "test = [2**i for i in range(a,b+1)]\n",
        "\n",
        "del test[-2]\n",
        "del test[1]\n",
        "test\n",
        "\n"
      ],
      "execution_count": 3,
      "outputs": [
        {
          "output_type": "stream",
          "text": [
            "10 20 \n"
          ],
          "name": "stdout"
        },
        {
          "output_type": "execute_result",
          "data": {
            "text/plain": [
              "[1024, 4096, 8192, 16384, 32768, 65536, 131072, 262144, 1048576]"
            ]
          },
          "metadata": {
            "tags": []
          },
          "execution_count": 3
        }
      ]
    },
    {
      "cell_type": "markdown",
      "metadata": {
        "id": "c1NpuwvBVzQJ"
      },
      "source": [
        "### u23"
      ]
    },
    {
      "cell_type": "code",
      "metadata": {
        "colab": {
          "base_uri": "https://localhost:8080/"
        },
        "id": "DgEn_PCLVaQ3",
        "outputId": "7a0598c8-24e9-4015-9ea9-ddc0adf2f4f8"
      },
      "source": [
        "import random\n",
        "mines = [] #지뢰밭 만들기\n",
        "for _ in range(9):\n",
        "    row = ''\n",
        "    for _ in range(9):\n",
        "        if random.random() > 0.6:\n",
        "            row += '*'\n",
        "        else:\n",
        "            row += '.'\n",
        "    mines.append(row)"
      ],
      "execution_count": 5,
      "outputs": [
        {
          "output_type": "stream",
          "text": [
            "\n"
          ],
          "name": "stdout"
        }
      ]
    },
    {
      "cell_type": "code",
      "metadata": {
        "colab": {
          "base_uri": "https://localhost:8080/"
        },
        "id": "DBRsOKfUWS1z",
        "outputId": "f52fc42c-fe1d-4922-ba0c-1b570c338e3c"
      },
      "source": [
        "mines = [['*' if random.random()>0.6 else '.' for _ in range(9)] for _ in range(9)]\n",
        "for i in range(len(mines)):\n",
        "    for k in range(len(mines)):\n",
        "        print(mines[i][k], end=' ')\n",
        "    print()"
      ],
      "execution_count": 6,
      "outputs": [
        {
          "output_type": "stream",
          "text": [
            "* . . . . * . . * \n",
            "* . . * . . . * . \n",
            ". * * * * * . . . \n",
            ". * . . . * . * * \n",
            "* * . . . * . . * \n",
            ". * . . . * . . * \n",
            "* . * * . * * * * \n",
            "* . . . . . * . . \n",
            "* . . . * . . * * \n"
          ],
          "name": "stdout"
        }
      ]
    },
    {
      "cell_type": "markdown",
      "metadata": {
        "id": "APLfxN2OLYzb"
      },
      "source": [
        "## u24-5 특정 단어 개수 세기"
      ]
    },
    {
      "cell_type": "code",
      "metadata": {
        "colab": {
          "base_uri": "https://localhost:8080/"
        },
        "id": "YZFNXzv1LRMW",
        "outputId": "41b39eb4-d43e-47d2-810f-7e536a157ce5"
      },
      "source": [
        "text = \"\"\"\n",
        "the grown-ups' response, this time, was to advise me to lay aside my drawings of boa constrictors, \n",
        "whether from the inside or the outside, and devote myself instead to geography, history, arithmetic, \n",
        "and grammar. That is why, at the, age of six, I gave up what might have been a magnificent career \n",
        "as a painter. I had been disheartened by the failure of my Drawing Number One and my Drawing Number Two. \n",
        "Grown-ups never understand anything by themselves, and it is tiresome for children to be always and \n",
        "forever explaining things to the.\n",
        "\"\"\"\n",
        "text.count('the')"
      ],
      "execution_count": 5,
      "outputs": [
        {
          "output_type": "execute_result",
          "data": {
            "text/plain": [
              "8"
            ]
          },
          "metadata": {
            "tags": []
          },
          "execution_count": 5
        }
      ]
    },
    {
      "cell_type": "code",
      "metadata": {
        "colab": {
          "base_uri": "https://localhost:8080/",
          "height": 129
        },
        "id": "QmHBGwF4LX4t",
        "outputId": "7cc12ae8-837b-4a99-ca08-402f1e930d27"
      },
      "source": [
        "import re\n",
        "text = re.sub('[\\'-.,\\n]', '', text)\n",
        "text"
      ],
      "execution_count": 6,
      "outputs": [
        {
          "output_type": "execute_result",
          "data": {
            "application/vnd.google.colaboratory.intrinsic+json": {
              "type": "string"
            },
            "text/plain": [
              "'the grownups response this time was to advise me to lay aside my drawings of boa constrictors whether from the inside or the outside and devote myself instead to geography history arithmetic and grammar That is why at the age of six I gave up what might have been a magnificent career as a painter I had been disheartened by the failure of my Drawing Number One and my Drawing Number Two Grownups never understand anything by themselves and it is tiresome for children to be always and forever explaining things to the'"
            ]
          },
          "metadata": {
            "tags": []
          },
          "execution_count": 6
        }
      ]
    },
    {
      "cell_type": "code",
      "metadata": {
        "colab": {
          "base_uri": "https://localhost:8080/",
          "height": 129
        },
        "id": "l3otv5NYLcDV",
        "outputId": "79b7da31-2028-41f1-a42e-6e7b84d91bba"
      },
      "source": [
        "text = re.sub('[^A-Za-z ]', '', text)\n",
        "text"
      ],
      "execution_count": 7,
      "outputs": [
        {
          "output_type": "execute_result",
          "data": {
            "application/vnd.google.colaboratory.intrinsic+json": {
              "type": "string"
            },
            "text/plain": [
              "'the grownups response this time was to advise me to lay aside my drawings of boa constrictors whether from the inside or the outside and devote myself instead to geography history arithmetic and grammar That is why at the age of six I gave up what might have been a magnificent career as a painter I had been disheartened by the failure of my Drawing Number One and my Drawing Number Two Grownups never understand anything by themselves and it is tiresome for children to be always and forever explaining things to the'"
            ]
          },
          "metadata": {
            "tags": []
          },
          "execution_count": 7
        }
      ]
    },
    {
      "cell_type": "markdown",
      "metadata": {
        "id": "UqaP2Ht5LkUo"
      },
      "source": [
        "## u24-6"
      ]
    },
    {
      "cell_type": "code",
      "metadata": {
        "colab": {
          "base_uri": "https://localhost:8080/"
        },
        "id": "7AJwvba3Lghc",
        "outputId": "3d94017c-068d-499d-d13c-bf33a6cee9a2"
      },
      "source": [
        "input_str = '51900;83000;158000;367500;250000;59200;128500;1304000'\n",
        "price_list = list(map(int, input_str.split(';')))\n",
        "price_list"
      ],
      "execution_count": 9,
      "outputs": [
        {
          "output_type": "execute_result",
          "data": {
            "text/plain": [
              "[51900, 83000, 158000, 367500, 250000, 59200, 128500, 1304000]"
            ]
          },
          "metadata": {
            "tags": []
          },
          "execution_count": 9
        }
      ]
    },
    {
      "cell_type": "code",
      "metadata": {
        "colab": {
          "base_uri": "https://localhost:8080/"
        },
        "id": "uHY5y0WsLeGQ",
        "outputId": "beb1fbd1-060a-492d-f499-aefb47c2b5bb"
      },
      "source": [
        "price_list.sort(reverse=True)\n",
        "price_list"
      ],
      "execution_count": 10,
      "outputs": [
        {
          "output_type": "execute_result",
          "data": {
            "text/plain": [
              "[1304000, 367500, 250000, 158000, 128500, 83000, 59200, 51900]"
            ]
          },
          "metadata": {
            "tags": []
          },
          "execution_count": 10
        }
      ]
    },
    {
      "cell_type": "code",
      "metadata": {
        "colab": {
          "base_uri": "https://localhost:8080/"
        },
        "id": "ZtumuaTNLm7E",
        "outputId": "dbfa5c88-9bd4-458c-bea5-a2328a221e60"
      },
      "source": [
        "for price in price_list:\n",
        "    print(f'{price:9,d}')"
      ],
      "execution_count": 11,
      "outputs": [
        {
          "output_type": "stream",
          "text": [
            "1,304,000\n",
            "  367,500\n",
            "  250,000\n",
            "  158,000\n",
            "  128,500\n",
            "   83,000\n",
            "   59,200\n",
            "   51,900\n"
          ],
          "name": "stdout"
        }
      ]
    },
    {
      "cell_type": "markdown",
      "metadata": {
        "id": "IyS3_C5KLrON"
      },
      "source": [
        "## u25"
      ]
    },
    {
      "cell_type": "code",
      "metadata": {
        "colab": {
          "base_uri": "https://localhost:8080/"
        },
        "id": "5FVT5rP7LoB0",
        "outputId": "ca133908-dca9-4b65-aaf3-8f7078848e72"
      },
      "source": [
        "# alpha bravo charlie delta\n",
        "# 10 20 30 40\n",
        "keys = input().split()\n",
        "values = map(int, input().split())\n",
        "x = dict(zip(keys, values))\n",
        "x"
      ],
      "execution_count": 14,
      "outputs": [
        {
          "output_type": "stream",
          "text": [
            "alpha bravo charlie delta\n",
            "10 20 30 40\n"
          ],
          "name": "stdout"
        },
        {
          "output_type": "execute_result",
          "data": {
            "text/plain": [
              "{'alpha': 10, 'bravo': 20, 'charlie': 30, 'delta': 40}"
            ]
          },
          "metadata": {
            "tags": []
          },
          "execution_count": 14
        }
      ]
    },
    {
      "cell_type": "code",
      "metadata": {
        "colab": {
          "base_uri": "https://localhost:8080/"
        },
        "id": "U1bYhdWSLswA",
        "outputId": "2d168aec-e775-41d8-fb07-38bb8066f8ad"
      },
      "source": [
        "del x['delta']\n",
        "x"
      ],
      "execution_count": 15,
      "outputs": [
        {
          "output_type": "execute_result",
          "data": {
            "text/plain": [
              "{'alpha': 10, 'bravo': 20, 'charlie': 30}"
            ]
          },
          "metadata": {
            "tags": []
          },
          "execution_count": 15
        }
      ]
    },
    {
      "cell_type": "code",
      "metadata": {
        "colab": {
          "base_uri": "https://localhost:8080/"
        },
        "id": "_f49PwvNL8Al",
        "outputId": "a38df38b-8171-4561-bc40-20bb99230d54"
      },
      "source": [
        "for key, value in x.items():\n",
        "    if value==30:\n",
        "        break\n",
        "\n",
        "x.pop(key)      # del x[key]\n",
        "x"
      ],
      "execution_count": 16,
      "outputs": [
        {
          "output_type": "execute_result",
          "data": {
            "text/plain": [
              "{'alpha': 10, 'bravo': 20}"
            ]
          },
          "metadata": {
            "tags": []
          },
          "execution_count": 16
        }
      ]
    },
    {
      "cell_type": "markdown",
      "metadata": {
        "id": "dew9HmT5L_3W"
      },
      "source": [
        "## u26"
      ]
    },
    {
      "cell_type": "code",
      "metadata": {
        "colab": {
          "base_uri": "https://localhost:8080/"
        },
        "id": "pKD1Xc5IL-hz",
        "outputId": "b671ea8d-d40b-437d-d4f0-438e0c531bb7"
      },
      "source": [
        "div_list = []\n",
        "x = 10\n",
        "for i in range(1,x+1):\n",
        "    if x % i == 0:\n",
        "        div_list.append(i)\n",
        "set(div_list)"
      ],
      "execution_count": 17,
      "outputs": [
        {
          "output_type": "execute_result",
          "data": {
            "text/plain": [
              "{1, 2, 5, 10}"
            ]
          },
          "metadata": {
            "tags": []
          },
          "execution_count": 17
        }
      ]
    },
    {
      "cell_type": "code",
      "metadata": {
        "id": "b0bwEQaJMDY-"
      },
      "source": [
        ""
      ],
      "execution_count": null,
      "outputs": []
    }
  ]
}