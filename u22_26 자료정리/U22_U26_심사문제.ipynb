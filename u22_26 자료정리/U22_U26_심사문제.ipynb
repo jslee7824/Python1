{
  "nbformat": 4,
  "nbformat_minor": 0,
  "metadata": {
    "colab": {
      "name": "U22_U26_심사문제.ipynb",
      "provenance": [],
      "collapsed_sections": []
    },
    "kernelspec": {
      "name": "python3",
      "display_name": "Python 3"
    },
    "language_info": {
      "name": "python"
    }
  },
  "cells": [
    {
      "cell_type": "markdown",
      "metadata": {
        "id": "py_9w3vtO2LB"
      },
      "source": [
        "# U22_U26_심사문제"
      ]
    },
    {
      "cell_type": "markdown",
      "metadata": {
        "id": "93U15V9EPoWo"
      },
      "source": [
        "### 22.10 "
      ]
    },
    {
      "cell_type": "code",
      "metadata": {
        "colab": {
          "base_uri": "https://localhost:8080/"
        },
        "id": "DxQeGW16PuUU",
        "outputId": "f614a11b-1a9b-4260-f039-86539b071904"
      },
      "source": [
        "a,b = map(int,input().split())      #표준 입력으로 정수 두 개가 입력\n",
        "\n",
        "test = [2**i for i in range(a,b+1)] #첫 번째 입력 값은 두 번째 입력 값보다 항상 작습니다\n",
        "\n",
        "test.pop(1)                         #리스트의 두 번째 요소\n",
        "test.pop(len(test)-2)               #뒤에서 두 번째 요소는 삭제\n",
        "\n",
        "print(test)"
      ],
      "execution_count": 2,
      "outputs": [
        {
          "output_type": "stream",
          "text": [
            "1 10\n",
            "[2, 8, 16, 32, 64, 128, 256, 1024]\n"
          ],
          "name": "stdout"
        }
      ]
    },
    {
      "cell_type": "markdown",
      "metadata": {
        "id": "ysfX-B4kQ707"
      },
      "source": [
        "### 24.5"
      ]
    },
    {
      "cell_type": "code",
      "metadata": {
        "colab": {
          "base_uri": "https://localhost:8080/"
        },
        "id": "jLCA_BEjP5J9",
        "outputId": "5ef08b7c-6829-487b-b1ee-b184010bc2b4"
      },
      "source": [
        "string = input().split() #표준 입력으로 문자열 입력 # paragraph에 split을 사용하여 공백을 기준으로 분리한 뒤 리스트로 만들어준다.\n",
        "count = 0\n",
        "\n",
        "for i in string:         \n",
        "    i = i.strip(',.')    # strip에 ',.'을 지정해서 콤마와 점을 삭제한 뒤 'the'와 비교\n",
        "    if i =='the':\n",
        "        count+=1\n",
        "        \n",
        "print(count)"
      ],
      "execution_count": 4,
      "outputs": [
        {
          "output_type": "stream",
          "text": [
            "the grown-ups' response, this time, was to advise me to lay aside my drawings of boa constrictors, whether from the inside or the outside, and devote myself instead to geography, history, arithmetic, and grammar. That is why, at the, age of six, I gave up what might have been a magnificent career as a painter. I had been disheartened by the failure of my Drawing Number One and my Drawing Number Two. Grown-ups never understand anything by themselves, and it is tiresome for children to be always and forever explaining things to the.\n",
            "6\n"
          ],
          "name": "stdout"
        }
      ]
    },
    {
      "cell_type": "markdown",
      "metadata": {
        "id": "VcpFXYCVSWpD"
      },
      "source": [
        "### 24.6"
      ]
    },
    {
      "cell_type": "code",
      "metadata": {
        "colab": {
          "base_uri": "https://localhost:8080/"
        },
        "id": "56Dm-JIERBwt",
        "outputId": "407ae095-4c0a-4e31-8361-8ad133250234"
      },
      "source": [
        "price = list(map(int,input().split(';'))) #표준 입력으로 물품 가격 여러 개가 문자열 한 줄로 입력되고, 각 가격은 ;(세미콜론)으로 구분, sort 메서드를 사용하기 위해 다시한번 map 객체를 리스트로 변환한 뒤 변수에 저장\n",
        "price.sort(reverse=True)                  #sort 메서드를 이용해 오름차순으로 정렬\n",
        "for i in (price):\n",
        "    print('%9s' % format(i, ','))         #for 반복문을 이용해 가격을 길이 9로 만든 뒤 오른쪽 정렬하고 천단위로, ,(콤마)를 넣으므로써 하나씩 출력"
      ],
      "execution_count": 5,
      "outputs": [
        {
          "output_type": "stream",
          "text": [
            "51900;83000;158000;367500;250000;59200;128500;1304000\n",
            "1,304,000\n",
            "  367,500\n",
            "  250,000\n",
            "  158,000\n",
            "  128,500\n",
            "   83,000\n",
            "   59,200\n",
            "   51,900\n"
          ],
          "name": "stdout"
        }
      ]
    },
    {
      "cell_type": "markdown",
      "metadata": {
        "id": "HJ_t7OfJU9yJ"
      },
      "source": [
        "### 25.8"
      ]
    },
    {
      "cell_type": "code",
      "metadata": {
        "colab": {
          "base_uri": "https://localhost:8080/"
        },
        "id": "gAAiebJpTBIs",
        "outputId": "c5444bd4-f379-48b7-e0ca-881c2f09604b"
      },
      "source": [
        "keys = input().split()\n",
        "values = map(int, input().split())\n",
        " \n",
        "x = dict(zip(keys, values))\n",
        "\n",
        "x.pop('delta') # x.pop('delta')로 키-값 쌍을 삭제\n",
        "x = {key: value for key, value in x.items() if value != 30} #값이 30인 키-값 쌍을 삭제할 때는 딕셔너리 표현식을 사용하여 값이 30인 키-값 쌍만 제외\n",
        "\n",
        "print(x)"
      ],
      "execution_count": 6,
      "outputs": [
        {
          "output_type": "stream",
          "text": [
            "alpha bravo charlie delta\n",
            "10 20 30 40\n",
            "{'alpha': 10, 'bravo': 20}\n"
          ],
          "name": "stdout"
        }
      ]
    },
    {
      "cell_type": "markdown",
      "metadata": {
        "id": "_mw0fPHxVDys"
      },
      "source": [
        "###26.9"
      ]
    },
    {
      "cell_type": "code",
      "metadata": {
        "colab": {
          "base_uri": "https://localhost:8080/"
        },
        "id": "H4GM9mA7U1Pc",
        "outputId": "4744e779-f8ba-4722-8e09-7cff61987154"
      },
      "source": [
        "a,b = map(int,input().split())\n",
        "\n",
        "a = {i for i in range(1,a+1) if a % i == 0}\n",
        "b = {j for j in range(1,b+1) if b % j == 0}\n",
        "\n",
        "divisor = a & b #divisor = a & b로 교집합\n",
        " \n",
        "result = 0\n",
        "if type(divisor) == set:\n",
        "    result = sum(divisor)\n",
        " \n",
        "print(result)\n",
        "\n"
      ],
      "execution_count": 9,
      "outputs": [
        {
          "output_type": "stream",
          "text": [
            "10 20\n",
            "18\n"
          ],
          "name": "stdout"
        }
      ]
    },
    {
      "cell_type": "code",
      "metadata": {
        "id": "5vdmoxMaVlLd"
      },
      "source": [
        ""
      ],
      "execution_count": null,
      "outputs": []
    }
  ]
}