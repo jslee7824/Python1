{
  "nbformat": 4,
  "nbformat_minor": 0,
  "metadata": {
    "colab": {
      "name": "u10_리스트_튜플.ipynb",
      "provenance": [],
      "collapsed_sections": []
    },
    "kernelspec": {
      "name": "python3",
      "display_name": "Python 3"
    },
    "language_info": {
      "name": "python"
    }
  },
  "cells": [
    {
      "cell_type": "markdown",
      "metadata": {
        "id": "CdPkTXqngdPY"
      },
      "source": [
        "Unit 10. 리스트와 튜플"
      ]
    },
    {
      "cell_type": "code",
      "metadata": {
        "colab": {
          "base_uri": "https://localhost:8080/"
        },
        "id": "8KG90I17gvq5",
        "outputId": "e7c63377-0774-4862-bc86-c643a9b3719e"
      },
      "source": [
        "a= 10\n",
        "b= 20 #지금까진 변수에 값을 하나씩 저장했어~\n",
        "a, b"
      ],
      "execution_count": 5,
      "outputs": [
        {
          "output_type": "execute_result",
          "data": {
            "text/plain": [
              "(10, 20)"
            ]
          },
          "metadata": {
            "tags": []
          },
          "execution_count": 5
        }
      ]
    },
    {
      "cell_type": "code",
      "metadata": {
        "id": "5buiqd_EgyHy"
      },
      "source": [
        "# 그러나 30개 변수에 30개 값 저장하려면 너무 힘듬!\n",
        "a1 = 1\n",
        "a2 = 1\n",
        "# ...\n",
        "a30 = 30 "
      ],
      "execution_count": 7,
      "outputs": []
    },
    {
      "cell_type": "code",
      "metadata": {
        "id": "31EH4S6BhWCO"
      },
      "source": [
        "# [ ] 리스트 \n",
        "# ( ) 튜플\n",
        "# { } 딕셔너리, 세트\n",
        "# ------------------\n",
        "# np [ ] array\n",
        "# 등을 사용하여 효과적으로 생산성을 높혀!"
      ],
      "execution_count": 10,
      "outputs": []
    },
    {
      "cell_type": "markdown",
      "metadata": {
        "id": "j6VyKRfGiIcW"
      },
      "source": [
        "## 10.1 리스트 "
      ]
    },
    {
      "cell_type": "code",
      "metadata": {
        "colab": {
          "base_uri": "https://localhost:8080/"
        },
        "id": "5L-zir0ghxeY",
        "outputId": "7db44c6e-3cd9-4dcc-d7ac-b99458047cf9"
      },
      "source": [
        "a = [11, 21, 31, 41, 51]\n",
        "a"
      ],
      "execution_count": 11,
      "outputs": [
        {
          "output_type": "execute_result",
          "data": {
            "text/plain": [
              "[11, 21, 31, 41, 51]"
            ]
          },
          "metadata": {
            "tags": []
          },
          "execution_count": 11
        }
      ]
    },
    {
      "cell_type": "code",
      "metadata": {
        "colab": {
          "base_uri": "https://localhost:8080/"
        },
        "id": "u1Gz0VT2iMGs",
        "outputId": "562f2208-ae69-4f52-e114-9c9395866edb"
      },
      "source": [
        "# 파이썬에서는 리스트 엘리먼트가 다른 자료형도 가능\n",
        "person = ['James', 19, 175.4, True]\n",
        "person"
      ],
      "execution_count": 12,
      "outputs": [
        {
          "output_type": "execute_result",
          "data": {
            "text/plain": [
              "['James', 19, 175.4, True]"
            ]
          },
          "metadata": {
            "tags": []
          },
          "execution_count": 12
        }
      ]
    },
    {
      "cell_type": "code",
      "metadata": {
        "colab": {
          "base_uri": "https://localhost:8080/"
        },
        "id": "EXuV6naFilNZ",
        "outputId": "809eb5f8-952c-49c7-898e-da35854e1a25"
      },
      "source": [
        "# 리스트 안에 리스트도 가능!\n",
        "person = ['James', 19, 175.4, True, [120, 80]]\n",
        "person"
      ],
      "execution_count": 17,
      "outputs": [
        {
          "output_type": "execute_result",
          "data": {
            "text/plain": [
              "['James', 19, 175.4, True, [120, 80]]"
            ]
          },
          "metadata": {
            "tags": []
          },
          "execution_count": 17
        }
      ]
    },
    {
      "cell_type": "code",
      "metadata": {
        "colab": {
          "base_uri": "https://localhost:8080/"
        },
        "id": "squSQsTmi-Sa",
        "outputId": "66be02f8-a738-4c8d-a0af-39c7410b5698"
      },
      "source": [
        "# 딕셔너리 활용하여 이런식으로 정리하여 쓰는 것이 더 명확\n",
        "person_dict = {'name':'James', 'age':19, 'height':175.4, \n",
        "          'is_male':True, 'bp':[120, 80]}\n",
        "person_dict"
      ],
      "execution_count": 16,
      "outputs": [
        {
          "output_type": "execute_result",
          "data": {
            "text/plain": [
              "{'age': 19, 'bp': [120, 80], 'height': 175.4, 'is_male': True, 'name': 'James'}"
            ]
          },
          "metadata": {
            "tags": []
          },
          "execution_count": 16
        }
      ]
    },
    {
      "cell_type": "markdown",
      "metadata": {
        "id": "JJXwPNxQj3Mu"
      },
      "source": [
        "### 빈 리스트 만들기"
      ]
    },
    {
      "cell_type": "code",
      "metadata": {
        "colab": {
          "base_uri": "https://localhost:8080/"
        },
        "id": "7hflT9d-jYQX",
        "outputId": "5534715f-7572-4928-f402-e1958bc4af73"
      },
      "source": [
        "a = []\n",
        "b = list()\n",
        "a, b"
      ],
      "execution_count": 18,
      "outputs": [
        {
          "output_type": "execute_result",
          "data": {
            "text/plain": [
              "([], [])"
            ]
          },
          "metadata": {
            "tags": []
          },
          "execution_count": 18
        }
      ]
    },
    {
      "cell_type": "code",
      "metadata": {
        "colab": {
          "base_uri": "https://localhost:8080/"
        },
        "id": "MVPAqVdQj-fH",
        "outputId": "bee89f71-534c-4f77-af13-cbbbdf309567"
      },
      "source": [
        "print (a, b)"
      ],
      "execution_count": 20,
      "outputs": [
        {
          "output_type": "stream",
          "text": [
            "[] []\n"
          ],
          "name": "stdout"
        }
      ]
    },
    {
      "cell_type": "markdown",
      "metadata": {
        "id": "G7qJKj6-keEi"
      },
      "source": [
        "### range (범위)\n",
        "- range( [시작숫자, ] 끝나는 숫자 + 1 [, 증가분] )"
      ]
    },
    {
      "cell_type": "code",
      "metadata": {
        "id": "CJ13NWw2pcNA"
      },
      "source": [
        "#여러 자료형 섞을 수 있다"
      ],
      "execution_count": 45,
      "outputs": []
    },
    {
      "cell_type": "code",
      "metadata": {
        "colab": {
          "base_uri": "https://localhost:8080/"
        },
        "id": "V1OsJTtqkZZ4",
        "outputId": "fecee97e-1aa3-4f20-89cb-24d6182732b7"
      },
      "source": [
        "#0이상 10미만\n",
        "a = range(10)\n",
        "a"
      ],
      "execution_count": 25,
      "outputs": [
        {
          "output_type": "execute_result",
          "data": {
            "text/plain": [
              "range(0, 10)"
            ]
          },
          "metadata": {
            "tags": []
          },
          "execution_count": 25
        }
      ]
    },
    {
      "cell_type": "code",
      "metadata": {
        "colab": {
          "base_uri": "https://localhost:8080/"
        },
        "id": "s7YFHLIalA53",
        "outputId": "f80bdb44-7ea8-4eb4-a3cb-a56820978934"
      },
      "source": [
        "# 0부터 센다\n",
        "list(a)"
      ],
      "execution_count": 23,
      "outputs": [
        {
          "output_type": "execute_result",
          "data": {
            "text/plain": [
              "[0, 1, 2, 3, 4, 5, 6, 7, 8, 9]"
            ]
          },
          "metadata": {
            "tags": []
          },
          "execution_count": 23
        }
      ]
    },
    {
      "cell_type": "code",
      "metadata": {
        "colab": {
          "base_uri": "https://localhost:8080/"
        },
        "id": "bfgWWWKFlCot",
        "outputId": "beb9869b-7786-4c1e-f243-40cea893bac3"
      },
      "source": [
        "# 1 이상 11 미만\n",
        "list(range(1,11))"
      ],
      "execution_count": 27,
      "outputs": [
        {
          "output_type": "execute_result",
          "data": {
            "text/plain": [
              "[1, 2, 3, 4, 5, 6, 7, 8, 9, 10]"
            ]
          },
          "metadata": {
            "tags": []
          },
          "execution_count": 27
        }
      ]
    },
    {
      "cell_type": "code",
      "metadata": {
        "colab": {
          "base_uri": "https://localhost:8080/"
        },
        "id": "fkLULdWyleoW",
        "outputId": "e8a05baf-43d6-4dd7-b9db-699ddd464ecf"
      },
      "source": [
        "#홀수\n",
        "list(range(1, 10, 2))"
      ],
      "execution_count": 33,
      "outputs": [
        {
          "output_type": "execute_result",
          "data": {
            "text/plain": [
              "[1, 3, 5, 7, 9]"
            ]
          },
          "metadata": {
            "tags": []
          },
          "execution_count": 33
        }
      ]
    },
    {
      "cell_type": "code",
      "metadata": {
        "id": "PtCMurh7lpvN"
      },
      "source": [
        "#짝수"
      ],
      "execution_count": 34,
      "outputs": []
    },
    {
      "cell_type": "code",
      "metadata": {
        "colab": {
          "base_uri": "https://localhost:8080/"
        },
        "id": "3Q6qjkZOlu0T",
        "outputId": "19771dc4-29dc-4135-ba04-e0f89115da65"
      },
      "source": [
        "list(range(2, 11, 2))"
      ],
      "execution_count": 35,
      "outputs": [
        {
          "output_type": "execute_result",
          "data": {
            "text/plain": [
              "[2, 4, 6, 8, 10]"
            ]
          },
          "metadata": {
            "tags": []
          },
          "execution_count": 35
        }
      ]
    },
    {
      "cell_type": "code",
      "metadata": {
        "colab": {
          "base_uri": "https://localhost:8080/"
        },
        "id": "QEE38Q5LlyjW",
        "outputId": "1a2817a8-2d66-44fe-c687-491ae79470c2"
      },
      "source": [
        "list(range(2, 21, 2)) #range( [시작숫자, ] 끝나는 숫자 + 1 [, 증가분] )"
      ],
      "execution_count": 37,
      "outputs": [
        {
          "output_type": "execute_result",
          "data": {
            "text/plain": [
              "[2, 4, 6, 8, 10, 12, 14, 16, 18, 20]"
            ]
          },
          "metadata": {
            "tags": []
          },
          "execution_count": 37
        }
      ]
    },
    {
      "cell_type": "code",
      "metadata": {
        "colab": {
          "base_uri": "https://localhost:8080/"
        },
        "id": "kbwIXfeSnwng",
        "outputId": "a3ed7270-4d0a-4de1-95a9-43d284fad099"
      },
      "source": [
        "list(range(10, 0, -1)) # 뒤부터 세기"
      ],
      "execution_count": 39,
      "outputs": [
        {
          "output_type": "execute_result",
          "data": {
            "text/plain": [
              "[10, 9, 8, 7, 6, 5, 4, 3, 2, 1]"
            ]
          },
          "metadata": {
            "tags": []
          },
          "execution_count": 39
        }
      ]
    },
    {
      "cell_type": "markdown",
      "metadata": {
        "id": "e8tifsFyooON"
      },
      "source": [
        "## 10.2 튜플(tuple)\n",
        "- Read-only 특성(변경 불가)"
      ]
    },
    {
      "cell_type": "code",
      "metadata": {
        "colab": {
          "base_uri": "https://localhost:8080/"
        },
        "id": "da9LGRslocOa",
        "outputId": "7a56a5d3-0c96-4e45-8941-1afb619b1397"
      },
      "source": [
        "a = (38, 21, 47)\n",
        "a"
      ],
      "execution_count": 41,
      "outputs": [
        {
          "output_type": "execute_result",
          "data": {
            "text/plain": [
              "(38, 21, 47)"
            ]
          },
          "metadata": {
            "tags": []
          },
          "execution_count": 41
        }
      ]
    },
    {
      "cell_type": "code",
      "metadata": {
        "colab": {
          "base_uri": "https://localhost:8080/"
        },
        "id": "oEd0br25o3Zy",
        "outputId": "7a92f766-01f9-4610-eb34-c2e093c1d154"
      },
      "source": [
        "a = 38, 21, 47 #파이썬은 이렇게만 나열해도 튜플이 완성된다\n",
        "a"
      ],
      "execution_count": 43,
      "outputs": [
        {
          "output_type": "execute_result",
          "data": {
            "text/plain": [
              "(38, 21, 47)"
            ]
          },
          "metadata": {
            "tags": []
          },
          "execution_count": 43
        }
      ]
    },
    {
      "cell_type": "code",
      "metadata": {
        "colab": {
          "base_uri": "https://localhost:8080/"
        },
        "id": "jQBMDKVqo9K3",
        "outputId": "56902810-d602-473d-fa4b-629274214bc6"
      },
      "source": [
        "person = ('James', 19, 175.4, True)\n",
        "person"
      ],
      "execution_count": 44,
      "outputs": [
        {
          "output_type": "execute_result",
          "data": {
            "text/plain": [
              "('James', 19, 175.4, True)"
            ]
          },
          "metadata": {
            "tags": []
          },
          "execution_count": 44
        }
      ]
    },
    {
      "cell_type": "code",
      "metadata": {
        "id": "kt1vBl5BpNFX"
      },
      "source": [
        "#a = tuple()\n",
        "#a\n",
        "#애초에 튜플은 변경 불가기 때문에 리스트처럼 빈 튜플을 만들 필요가 없다\n",
        "#이런 방식은 불가"
      ],
      "execution_count": 54,
      "outputs": []
    },
    {
      "cell_type": "code",
      "metadata": {
        "colab": {
          "base_uri": "https://localhost:8080/"
        },
        "id": "IpU5qZgCpv21",
        "outputId": "92f507a8-23f0-4a1f-dfc9-ba074f358875"
      },
      "source": [
        "a = (38,)\n",
        "a\n",
        "#그냥 스칼라 값이다\n",
        "#해당 형태는 DB에 값을 줄 때 이런식으로 넣어줄 때가 있다\n",
        "#딥러닝 시 차원 개념 배울 때 필요하다"
      ],
      "execution_count": 53,
      "outputs": [
        {
          "output_type": "execute_result",
          "data": {
            "text/plain": [
              "(38,)"
            ]
          },
          "metadata": {
            "tags": []
          },
          "execution_count": 53
        }
      ]
    },
    {
      "cell_type": "code",
      "metadata": {
        "colab": {
          "base_uri": "https://localhost:8080/"
        },
        "id": "F37-amzPqPX7",
        "outputId": "64badf9c-452f-40d7-ded2-4c6dd504f474"
      },
      "source": [
        "tuple(range(5))"
      ],
      "execution_count": 55,
      "outputs": [
        {
          "output_type": "execute_result",
          "data": {
            "text/plain": [
              "(0, 1, 2, 3, 4)"
            ]
          },
          "metadata": {
            "tags": []
          },
          "execution_count": 55
        }
      ]
    },
    {
      "cell_type": "markdown",
      "metadata": {
        "id": "JyWuwL5WrDFh"
      },
      "source": [
        "###리스트 <--> 튜플"
      ]
    },
    {
      "cell_type": "code",
      "metadata": {
        "colab": {
          "base_uri": "https://localhost:8080/"
        },
        "id": "ylRemtQZrAKX",
        "outputId": "5a5cc09e-b8b0-4d7e-f66f-d37d7bfc6e33"
      },
      "source": [
        "a = [1, 3, 4]\n",
        "b = tuple(a)\n",
        "b"
      ],
      "execution_count": 57,
      "outputs": [
        {
          "output_type": "execute_result",
          "data": {
            "text/plain": [
              "(1, 3, 4)"
            ]
          },
          "metadata": {
            "tags": []
          },
          "execution_count": 57
        }
      ]
    },
    {
      "cell_type": "code",
      "metadata": {
        "colab": {
          "base_uri": "https://localhost:8080/"
        },
        "id": "SpNVJWESrRmf",
        "outputId": "c011dc68-1f1f-4891-9c6b-677b6eb07b94"
      },
      "source": [
        "c = list(b)\n",
        "c"
      ],
      "execution_count": 58,
      "outputs": [
        {
          "output_type": "execute_result",
          "data": {
            "text/plain": [
              "[1, 3, 4]"
            ]
          },
          "metadata": {
            "tags": []
          },
          "execution_count": 58
        }
      ]
    },
    {
      "cell_type": "markdown",
      "metadata": {
        "id": "HWq-f1lFre82"
      },
      "source": [
        "### 문자열"
      ]
    },
    {
      "cell_type": "code",
      "metadata": {
        "colab": {
          "base_uri": "https://localhost:8080/"
        },
        "id": "89yM-Px7rdWu",
        "outputId": "40e87e30-5055-4be0-bfe6-03d22bd418af"
      },
      "source": [
        "tuple('Hello')"
      ],
      "execution_count": 60,
      "outputs": [
        {
          "output_type": "execute_result",
          "data": {
            "text/plain": [
              "('H', 'e', 'l', 'l', 'o')"
            ]
          },
          "metadata": {
            "tags": []
          },
          "execution_count": 60
        }
      ]
    },
    {
      "cell_type": "code",
      "metadata": {
        "colab": {
          "base_uri": "https://localhost:8080/"
        },
        "id": "pmIGTAk4rigP",
        "outputId": "753898f3-9750-4305-e7e1-44ab5604b1c3"
      },
      "source": [
        "list('안녕하세요')"
      ],
      "execution_count": 61,
      "outputs": [
        {
          "output_type": "execute_result",
          "data": {
            "text/plain": [
              "['안', '녕', '하', '세', '요']"
            ]
          },
          "metadata": {
            "tags": []
          },
          "execution_count": 61
        }
      ]
    },
    {
      "cell_type": "markdown",
      "metadata": {
        "id": "IDPa1EIor1qU"
      },
      "source": [
        "### 언팩킹(Unpacking)"
      ]
    },
    {
      "cell_type": "code",
      "metadata": {
        "colab": {
          "base_uri": "https://localhost:8080/"
        },
        "id": "4N7sTVJFr7LC",
        "outputId": "a95ccd9d-8b24-42ab-a6fe-63efc6e25df3"
      },
      "source": [
        "# tuple unpacking\n",
        "a = (1, 3, 4)\n",
        "x, y, z = a\n",
        "x, y, z"
      ],
      "execution_count": 63,
      "outputs": [
        {
          "output_type": "execute_result",
          "data": {
            "text/plain": [
              "(1, 3, 4)"
            ]
          },
          "metadata": {
            "tags": []
          },
          "execution_count": 63
        }
      ]
    },
    {
      "cell_type": "code",
      "metadata": {
        "colab": {
          "base_uri": "https://localhost:8080/"
        },
        "id": "yfhqiKjosBg2",
        "outputId": "505ae5ea-b4ff-4bed-f48e-81df3f0146e2"
      },
      "source": [
        "# list unpacking\n",
        "x, y, z = [1, 3, 5]\n",
        "x, y, z"
      ],
      "execution_count": 64,
      "outputs": [
        {
          "output_type": "execute_result",
          "data": {
            "text/plain": [
              "(1, 3, 5)"
            ]
          },
          "metadata": {
            "tags": []
          },
          "execution_count": 64
        }
      ]
    },
    {
      "cell_type": "code",
      "metadata": {
        "id": "x5Q7LPf7sZNZ"
      },
      "source": [
        ""
      ],
      "execution_count": null,
      "outputs": []
    }
  ]
}