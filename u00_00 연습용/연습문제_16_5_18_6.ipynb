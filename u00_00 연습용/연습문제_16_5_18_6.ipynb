{
  "nbformat": 4,
  "nbformat_minor": 0,
  "metadata": {
    "colab": {
      "name": "연습문제 16.5~18.6.ipynb",
      "provenance": [],
      "collapsed_sections": []
    },
    "kernelspec": {
      "name": "python3",
      "display_name": "Python 3"
    },
    "language_info": {
      "name": "python"
    }
  },
  "cells": [
    {
      "cell_type": "markdown",
      "metadata": {
        "id": "ng_8HTXRLgYY"
      },
      "source": [
        "16.5 연습문제)\n",
        "\n",
        "다음 소스 코드를 완성하여 리스트 x에 들어있는 각 숫자(요소)에 10을 곱한 값이 출력되게 만드세요. 모든 숫자는 공백으로 구분하여 한 줄로 출력되어야 합니다.\n",
        "\n",
        "x = [49, -17, 25, 102, 8, 62, 21]"
      ]
    },
    {
      "cell_type": "code",
      "metadata": {
        "colab": {
          "base_uri": "https://localhost:8080/"
        },
        "id": "iBGFza6uLepw",
        "outputId": "86977917-6d72-430b-c463-7340fc8004cc"
      },
      "source": [
        "x = [49, -17, 25, 102, 8, 62, 21]\n",
        "for i in x:\n",
        "    print(i * 10, end=' ')"
      ],
      "execution_count": 9,
      "outputs": [
        {
          "output_type": "stream",
          "text": [
            "490 -170 250 1020 80 620 210 "
          ],
          "name": "stdout"
        }
      ]
    },
    {
      "cell_type": "code",
      "metadata": {
        "colab": {
          "base_uri": "https://localhost:8080/"
        },
        "id": "ABGcKPVvL6uE",
        "outputId": "7dd64fee-b05c-4891-b364-6ce721c12dea"
      },
      "source": [
        "gugudan = int(input())\n",
        "for i in range(1, 10):\n",
        "    print(gugudan,'*',i,'=',gugudan*i, sep=' ')"
      ],
      "execution_count": 13,
      "outputs": [
        {
          "output_type": "stream",
          "text": [
            "2\n",
            "2 * 1 = 2\n",
            "2 * 2 = 4\n",
            "2 * 3 = 6\n",
            "2 * 4 = 8\n",
            "2 * 5 = 10\n",
            "2 * 6 = 12\n",
            "2 * 7 = 14\n",
            "2 * 8 = 16\n",
            "2 * 9 = 18\n"
          ],
          "name": "stdout"
        }
      ]
    },
    {
      "cell_type": "code",
      "metadata": {
        "colab": {
          "base_uri": "https://localhost:8080/"
        },
        "id": "cAQ9VfqINshz",
        "outputId": "b5661120-e9ec-4c8d-93e3-27341ded1104"
      },
      "source": [
        "dan = int(input())\n",
        "for i in range(1,10):\n",
        "    print(dan,'*',i,'=',dan*i,sep=' ')"
      ],
      "execution_count": 16,
      "outputs": [
        {
          "output_type": "stream",
          "text": [
            "10\n",
            "10 * 1 = 10\n",
            "10 * 2 = 20\n",
            "10 * 3 = 30\n",
            "10 * 4 = 40\n",
            "10 * 5 = 50\n",
            "10 * 6 = 60\n",
            "10 * 7 = 70\n",
            "10 * 8 = 80\n",
            "10 * 9 = 90\n"
          ],
          "name": "stdout"
        }
      ]
    },
    {
      "cell_type": "code",
      "metadata": {
        "colab": {
          "base_uri": "https://localhost:8080/"
        },
        "id": "PcnUCo6dODFy",
        "outputId": "1abf9535-c2ba-4ce8-9903-f915e9c563ea"
      },
      "source": [
        "i = 2\n",
        "j = 5\n",
        "while i <= 32 or j >= 1:\n",
        "    print(i, j, end = ', ')\n",
        "    i *= 2\n",
        "    j -= 1\n"
      ],
      "execution_count": 25,
      "outputs": [
        {
          "output_type": "stream",
          "text": [
            "2 5, 4 4, 8 3, 16 2, 32 1, "
          ],
          "name": "stdout"
        }
      ]
    },
    {
      "cell_type": "code",
      "metadata": {
        "colab": {
          "base_uri": "https://localhost:8080/"
        },
        "id": "cFdW9_LJPLCq",
        "outputId": "b266af57-dd28-4130-8e58-764588edc695"
      },
      "source": [
        "money = int(input())\n",
        "while money >= 1350:\n",
        "    money -= 1350\n",
        "    print(money)\n",
        "   \n"
      ],
      "execution_count": 34,
      "outputs": [
        {
          "output_type": "stream",
          "text": [
            "10000\n",
            "8650\n",
            "7300\n",
            "5950\n",
            "4600\n",
            "3250\n",
            "1900\n",
            "550\n"
          ],
          "name": "stdout"
        }
      ]
    },
    {
      "cell_type": "code",
      "metadata": {
        "colab": {
          "base_uri": "https://localhost:8080/"
        },
        "id": "Wmc-12gGQ_1r",
        "outputId": "8bf12c69-b0b5-4d97-d714-947922543bf7"
      },
      "source": [
        "start, stop = map(int, input().split())\n",
        " \n",
        "i = start\n",
        " \n",
        "while True:\n",
        "    if i % 10 == 3:\n",
        "        i += 1\n",
        "        continue\n",
        "    if i > stop:\n",
        "        break\n",
        "        \n",
        "    print(i, end=' ')\n",
        "    i += 1\n",
        "  "
      ],
      "execution_count": 36,
      "outputs": [
        {
          "output_type": "stream",
          "text": [
            "70 199\n",
            "70 71 72 74 75 76 77 78 79 80 81 82 84 85 86 87 88 89 90 91 92 94 95 96 97 98 99 100 101 102 104 105 106 107 108 109 110 111 112 114 115 116 117 118 119 120 121 122 124 125 126 127 128 129 130 131 132 134 135 136 137 138 139 140 141 142 144 145 146 147 148 149 150 151 152 154 155 156 157 158 159 160 161 162 164 165 166 167 168 169 170 171 172 174 175 176 177 178 179 180 181 182 184 185 186 187 188 189 190 191 192 194 195 196 197 198 199 "
          ],
          "name": "stdout"
        }
      ]
    },
    {
      "cell_type": "code",
      "metadata": {
        "id": "BzPnz9JySsz0"
      },
      "source": [
        ""
      ],
      "execution_count": 36,
      "outputs": []
    }
  ]
}