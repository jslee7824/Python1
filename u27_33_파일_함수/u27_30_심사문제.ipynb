{
  "nbformat": 4,
  "nbformat_minor": 0,
  "metadata": {
    "colab": {
      "name": "u27-30_심사문제.ipynb",
      "provenance": [],
      "collapsed_sections": []
    },
    "kernelspec": {
      "name": "python3",
      "display_name": "Python 3"
    },
    "language_info": {
      "name": "python"
    }
  },
  "cells": [
    {
      "cell_type": "markdown",
      "metadata": {
        "id": "GC-cWexU8oT-"
      },
      "source": [
        "# u29"
      ]
    },
    {
      "cell_type": "markdown",
      "metadata": {
        "id": "bbRM-QdL8r8y"
      },
      "source": [
        "표준 입력으로 숫자 두 개가 입력됩니다. 다음 소스 코드를 완성하여 두 숫자의 덧셈, 뺄셈, 곱셈, 나눗셈의 결과가 출력되게 만드세요.\n",
        "이때 나눗셈의 결과는 실수라야 합니다."
      ]
    },
    {
      "cell_type": "code",
      "metadata": {
        "colab": {
          "base_uri": "https://localhost:8080/"
        },
        "id": "KOPEwS2g85NT",
        "outputId": "72c092f8-f8ec-433c-ec9f-e57efd769ad1"
      },
      "source": [
        "x, y = map(int, input().split())\n",
        "\n",
        "def calc(x, y):\n",
        "    return x+y, x-y, x*y, float(x/y)\n",
        "\n",
        "a, s, m, d = calc(x, y)\n",
        "print(f'덧셈: {a}, 뺄셈: {s}, 곱셈: {m}, 나눗셈: {d}')"
      ],
      "execution_count": 2,
      "outputs": [
        {
          "output_type": "stream",
          "text": [
            "10 5\n",
            "덧셈: 15, 뺄셈: 5, 곱셈: 50, 나눗셈: 2.0\n"
          ],
          "name": "stdout"
        }
      ]
    },
    {
      "cell_type": "markdown",
      "metadata": {
        "id": "_57BCMf58qBi"
      },
      "source": [
        "# u30"
      ]
    },
    {
      "cell_type": "markdown",
      "metadata": {
        "id": "ki6P4FUX8tX3"
      },
      "source": [
        "표준 입력으로 국어, 영어, 수학, 과학 점수가 입력됩니다.\n",
        "다음 소스 코드를 완성하여 가장 높은 점수, 가장 낮은 점수, 평균 점수가 출력되게 만드세요.\n",
        "평균 점수는 실수로 출력되어야 합니다."
      ]
    },
    {
      "cell_type": "code",
      "metadata": {
        "colab": {
          "base_uri": "https://localhost:8080/"
        },
        "id": "lE0-PgFD8blD",
        "outputId": "9b727a48-e646-485f-d0f0-83a3c89d114c"
      },
      "source": [
        "# 76 82 89 84\n",
        "korean, english, mathematics, science = map(int, input().split())"
      ],
      "execution_count": 3,
      "outputs": [
        {
          "output_type": "stream",
          "text": [
            "76 82 89 84\n"
          ],
          "name": "stdout"
        }
      ]
    },
    {
      "cell_type": "code",
      "metadata": {
        "id": "FyqAAXFl894d"
      },
      "source": [
        "def get_min_max_score(*args):\n",
        "    return min(args), max(args)\n",
        "\n",
        "def get_average(**kwargs):\n",
        "    return sum(kwargs.values()) / len(kwargs)"
      ],
      "execution_count": 4,
      "outputs": []
    },
    {
      "cell_type": "code",
      "metadata": {
        "colab": {
          "base_uri": "https://localhost:8080/"
        },
        "id": "cqEK_nDe9CIY",
        "outputId": "aa1e5303-76a5-4fdc-f30c-f6f7f9ecedb8"
      },
      "source": [
        "min_score, max_score = get_min_max_score(korean, english, mathematics, science)\n",
        "average_score = get_average(korean=korean, english=english,\n",
        "                            mathematics=mathematics, science=science)\n",
        "print('낮은 점수: {0:.2f}, 높은 점수: {1:.2f}, 평균 점수: {2:.2f}'\n",
        "      .format(min_score, max_score, average_score))\n",
        " \n",
        "min_score, max_score = get_min_max_score(english, science)\n",
        "average_score = get_average(english=english, science=science)\n",
        "print('낮은 점수: {0:.2f}, 높은 점수: {1:.2f}, 평균 점수: {2:.2f}'\n",
        "      .format(min_score, max_score, average_score))"
      ],
      "execution_count": 5,
      "outputs": [
        {
          "output_type": "stream",
          "text": [
            "낮은 점수: 76.00, 높은 점수: 89.00, 평균 점수: 82.75\n",
            "낮은 점수: 82.00, 높은 점수: 84.00, 평균 점수: 83.00\n"
          ],
          "name": "stdout"
        }
      ]
    },
    {
      "cell_type": "code",
      "metadata": {
        "id": "32yV5PdN9DKt"
      },
      "source": [
        ""
      ],
      "execution_count": null,
      "outputs": []
    }
  ]
}