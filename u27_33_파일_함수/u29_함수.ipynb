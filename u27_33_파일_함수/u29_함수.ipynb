{
  "nbformat": 4,
  "nbformat_minor": 0,
  "metadata": {
    "colab": {
      "name": "Untitled2.ipynb",
      "provenance": [],
      "collapsed_sections": []
    },
    "kernelspec": {
      "name": "python3",
      "display_name": "Python 3"
    },
    "language_info": {
      "name": "python"
    }
  },
  "cells": [
    {
      "cell_type": "markdown",
      "metadata": {
        "id": "exD8EH_kNHti"
      },
      "source": [
        "### Unit 29. 함수"
      ]
    },
    {
      "cell_type": "markdown",
      "metadata": {
        "id": "M4pt_7apPfXA"
      },
      "source": [
        "## 29.1 출력함수 만들기"
      ]
    },
    {
      "cell_type": "code",
      "metadata": {
        "id": "5y4LQbHoLl4N"
      },
      "source": [
        "def hello():\n",
        "    print('Hello, world!')"
      ],
      "execution_count": 1,
      "outputs": []
    },
    {
      "cell_type": "code",
      "metadata": {
        "colab": {
          "base_uri": "https://localhost:8080/"
        },
        "id": "Z4QohWvQPnfJ",
        "outputId": "f7852efb-f929-4c48-a14c-4bfbf8095c18"
      },
      "source": [
        "hello()"
      ],
      "execution_count": 2,
      "outputs": [
        {
          "output_type": "stream",
          "text": [
            "Hello, world!\n"
          ],
          "name": "stdout"
        }
      ]
    },
    {
      "cell_type": "code",
      "metadata": {
        "id": "fairCzg6PoKd"
      },
      "source": [
        "# 매개변수, parameter, argument\n",
        "def add(a,b):\n",
        "    print(a+b)"
      ],
      "execution_count": 3,
      "outputs": []
    },
    {
      "cell_type": "code",
      "metadata": {
        "colab": {
          "base_uri": "https://localhost:8080/"
        },
        "id": "tVaZ-2tOQldA",
        "outputId": "6928f922-bfcb-44b4-b7cd-dbccedcb399a"
      },
      "source": [
        "add(4,5)"
      ],
      "execution_count": 4,
      "outputs": [
        {
          "output_type": "stream",
          "text": [
            "9\n"
          ],
          "name": "stdout"
        }
      ]
    },
    {
      "cell_type": "code",
      "metadata": {
        "id": "PVj5uBDBQmjL"
      },
      "source": [
        "# Docstrings\n",
        "def add(a,b):\n",
        "  \"\"\"\n",
        "  이 함수는 a와 b를 더한 뒤 결과를 반환하는 함수입니다.\n",
        "  \"\"\"\n",
        "  print(a + b)"
      ],
      "execution_count": 5,
      "outputs": []
    },
    {
      "cell_type": "code",
      "metadata": {
        "id": "lHGNYK8WQ4uD"
      },
      "source": [
        "# 도움말 호출\n",
        "add?"
      ],
      "execution_count": 10,
      "outputs": []
    },
    {
      "cell_type": "code",
      "metadata": {
        "colab": {
          "base_uri": "https://localhost:8080/"
        },
        "id": "Q9_cK4uoQ9U3",
        "outputId": "f40177f2-2db0-4ef4-f09a-bf6b91016542"
      },
      "source": [
        "def add(a,b):\n",
        "    return a+b\n",
        "add(4,5), add(10,20)"
      ],
      "execution_count": 11,
      "outputs": [
        {
          "output_type": "execute_result",
          "data": {
            "text/plain": [
              "(9, 30)"
            ]
          },
          "metadata": {
            "tags": []
          },
          "execution_count": 11
        }
      ]
    },
    {
      "cell_type": "code",
      "metadata": {
        "colab": {
          "base_uri": "https://localhost:8080/"
        },
        "id": "UBMdkea2R09V",
        "outputId": "cee33617-5adf-4923-b120-1deeb445820c"
      },
      "source": [
        "x = add(23,45)\n",
        "x"
      ],
      "execution_count": 12,
      "outputs": [
        {
          "output_type": "execute_result",
          "data": {
            "text/plain": [
              "68"
            ]
          },
          "metadata": {
            "tags": []
          },
          "execution_count": 12
        }
      ]
    },
    {
      "cell_type": "code",
      "metadata": {
        "id": "9aPmi4HeR38D"
      },
      "source": [
        "def is_ten(x):\n",
        "    return x == 10"
      ],
      "execution_count": 13,
      "outputs": []
    },
    {
      "cell_type": "code",
      "metadata": {
        "colab": {
          "base_uri": "https://localhost:8080/"
        },
        "id": "KxVy7VNAShcf",
        "outputId": "6622ac33-a011-4463-9b93-488bd09caa1c"
      },
      "source": [
        "is_ten(101//10)"
      ],
      "execution_count": 20,
      "outputs": [
        {
          "output_type": "execute_result",
          "data": {
            "text/plain": [
              "True"
            ]
          },
          "metadata": {
            "tags": []
          },
          "execution_count": 20
        }
      ]
    },
    {
      "cell_type": "code",
      "metadata": {
        "id": "7UaTqN4iSjnM"
      },
      "source": [
        "def not_ten(x):\n",
        "    if x == 10:\n",
        "        return\n",
        "    else:\n",
        "        print('It is not 10')"
      ],
      "execution_count": 16,
      "outputs": []
    },
    {
      "cell_type": "code",
      "metadata": {
        "colab": {
          "base_uri": "https://localhost:8080/"
        },
        "id": "v1JuvHYOS0Ng",
        "outputId": "369eeb44-b420-4270-87bc-f943e2c15f0c"
      },
      "source": [
        "not_ten(5)"
      ],
      "execution_count": 17,
      "outputs": [
        {
          "output_type": "stream",
          "text": [
            "It is not 10\n"
          ],
          "name": "stdout"
        }
      ]
    },
    {
      "cell_type": "code",
      "metadata": {
        "id": "elqY-XeaS1ly"
      },
      "source": [
        "not_ten(101//10)"
      ],
      "execution_count": 22,
      "outputs": []
    },
    {
      "cell_type": "markdown",
      "metadata": {
        "id": "xOWGWrNVT4gK"
      },
      "source": [
        "## 29.4 여러개의 결과값 반환"
      ]
    },
    {
      "cell_type": "code",
      "metadata": {
        "id": "_7f87FYhS3y3"
      },
      "source": [
        "def add_sub(a,b):\n",
        "    return a+b, a-b"
      ],
      "execution_count": 23,
      "outputs": []
    },
    {
      "cell_type": "code",
      "metadata": {
        "id": "XkFAeSGWUAMa"
      },
      "source": [
        "x, y = add_sub(15,7)"
      ],
      "execution_count": 24,
      "outputs": []
    },
    {
      "cell_type": "code",
      "metadata": {
        "colab": {
          "base_uri": "https://localhost:8080/"
        },
        "id": "0JnnEwV3UC0y",
        "outputId": "aab1e5f2-6cef-4457-d5f6-7841814bb70d"
      },
      "source": [
        "x,y"
      ],
      "execution_count": 25,
      "outputs": [
        {
          "output_type": "execute_result",
          "data": {
            "text/plain": [
              "(22, 8)"
            ]
          },
          "metadata": {
            "tags": []
          },
          "execution_count": 25
        }
      ]
    },
    {
      "cell_type": "markdown",
      "metadata": {
        "id": "ZNuCokNxUOwx"
      },
      "source": [
        "## 29.5 함수의 호출 과정"
      ]
    },
    {
      "cell_type": "code",
      "metadata": {
        "id": "izn0tpmyUDfm"
      },
      "source": [
        "# Stack을 이용한다"
      ],
      "execution_count": 26,
      "outputs": []
    },
    {
      "cell_type": "markdown",
      "metadata": {
        "id": "KAxCGzBQVcsb"
      },
      "source": [
        "## 연습문제\n",
        "- 3자리수 정수 두개를 곱해서 나온 결과가 팔린드롬이 되도록 할 때, 가장 큰 숫자는? "
      ]
    },
    {
      "cell_type": "code",
      "metadata": {
        "id": "vGShdSlEdFet"
      },
      "source": [
        "def is_palindrome(x):\n",
        "    s = str(x)\n",
        "    return s == s[::-1]"
      ],
      "execution_count": 31,
      "outputs": []
    },
    {
      "cell_type": "code",
      "metadata": {
        "colab": {
          "base_uri": "https://localhost:8080/"
        },
        "id": "Hkgizb8sdP17",
        "outputId": "11c83100-ee62-42ef-b504-803306883255"
      },
      "source": [
        "is_palindrome(12345), is_palindrome(906609)"
      ],
      "execution_count": 32,
      "outputs": [
        {
          "output_type": "execute_result",
          "data": {
            "text/plain": [
              "(False, True)"
            ]
          },
          "metadata": {
            "tags": []
          },
          "execution_count": 32
        }
      ]
    },
    {
      "cell_type": "code",
      "metadata": {
        "colab": {
          "base_uri": "https://localhost:8080/"
        },
        "id": "nSwSXI91VZfL",
        "outputId": "cf2297d3-f4b2-4e78-b5a6-ef10d5a437f1"
      },
      "source": [
        "# 3자리수 정수? for loop을 써라\n",
        "# 가장 큰 = max\n",
        "max_pal = 0\n",
        "for i in range(100, 1000):\n",
        "    for k in range(i, 1000):\n",
        "        if is_palindrome(i*k):\n",
        "            if i*k > max_pal:\n",
        "                max_pal = i*k\n",
        "                m = i\n",
        "                n = k\n",
        "\n",
        "print(f'{m} * {n} = {max_pal}')"
      ],
      "execution_count": 33,
      "outputs": [
        {
          "output_type": "stream",
          "text": [
            "913 * 993 = 906609\n"
          ],
          "name": "stdout"
        }
      ]
    },
    {
      "cell_type": "code",
      "metadata": {
        "id": "jO33UeNMeN3f"
      },
      "source": [
        ""
      ],
      "execution_count": null,
      "outputs": []
    }
  ]
}