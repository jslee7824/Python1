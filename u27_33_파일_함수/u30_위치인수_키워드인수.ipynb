{
  "nbformat": 4,
  "nbformat_minor": 0,
  "metadata": {
    "colab": {
      "name": "u30_위치인수_키워드인수.ipynb",
      "provenance": [],
      "collapsed_sections": []
    },
    "kernelspec": {
      "name": "python3",
      "display_name": "Python 3"
    },
    "language_info": {
      "name": "python"
    }
  },
  "cells": [
    {
      "cell_type": "markdown",
      "metadata": {
        "id": "vmI8Gr_IgHxW"
      },
      "source": [
        "# Unit 30. 위치 인수와 키워드 인수"
      ]
    },
    {
      "cell_type": "markdown",
      "metadata": {
        "id": "O4xKkh_TgNBh"
      },
      "source": [
        "## 30.1 위치 인수"
      ]
    },
    {
      "cell_type": "code",
      "metadata": {
        "colab": {
          "base_uri": "https://localhost:8080/"
        },
        "id": "p_vQctFygD0E",
        "outputId": "1118321d-af9b-4bd6-ebfc-22fdb5aa782d"
      },
      "source": [
        "print(10, 20, 30, sep=', ')"
      ],
      "execution_count": 1,
      "outputs": [
        {
          "output_type": "stream",
          "text": [
            "10, 20, 30\n"
          ],
          "name": "stdout"
        }
      ]
    },
    {
      "cell_type": "code",
      "metadata": {
        "colab": {
          "base_uri": "https://localhost:8080/"
        },
        "id": "Nxk7DNWjgWeA",
        "outputId": "63592c79-6df1-4892-b4a7-e0718e7cf839"
      },
      "source": [
        "print(tuple(range(10, 101, 10)))"
      ],
      "execution_count": 2,
      "outputs": [
        {
          "output_type": "stream",
          "text": [
            "(10, 20, 30, 40, 50, 60, 70, 80, 90, 100)\n"
          ],
          "name": "stdout"
        }
      ]
    },
    {
      "cell_type": "code",
      "metadata": {
        "colab": {
          "base_uri": "https://localhost:8080/"
        },
        "id": "FVvSkwPQgd_L",
        "outputId": "bbab159e-72b3-4d30-b984-b96a231d4097"
      },
      "source": [
        "print(10, 20, 30, 40, 50, 60, 70, 80, 90, 100)"
      ],
      "execution_count": 3,
      "outputs": [
        {
          "output_type": "stream",
          "text": [
            "10 20 30 40 50 60 70 80 90 100\n"
          ],
          "name": "stdout"
        }
      ]
    },
    {
      "cell_type": "code",
      "metadata": {
        "id": "ffmhaIB3gl-X"
      },
      "source": [
        "def print_numbers(a,b,c):\n",
        "    print(a)\n",
        "    print(b)\n",
        "    print(c)"
      ],
      "execution_count": 10,
      "outputs": []
    },
    {
      "cell_type": "code",
      "metadata": {
        "id": "n4bxr4hfg7JX"
      },
      "source": [
        "print_numbers(10, 20, 30)"
      ],
      "execution_count": null,
      "outputs": []
    },
    {
      "cell_type": "code",
      "metadata": {
        "id": "r9Lt6g5Cg9b3"
      },
      "source": [
        "x = [10, 20, 30]\n",
        "print_numbers(*x)"
      ],
      "execution_count": null,
      "outputs": []
    },
    {
      "cell_type": "markdown",
      "metadata": {
        "id": "MVVqjzi-iKA7"
      },
      "source": [
        "## 가변 인수 함수"
      ]
    },
    {
      "cell_type": "code",
      "metadata": {
        "id": "lhmhjj9hiA5K"
      },
      "source": [
        "def print_numbers(*args):\n",
        "    for arg in args:\n",
        "        print(args)"
      ],
      "execution_count": 15,
      "outputs": []
    },
    {
      "cell_type": "code",
      "metadata": {
        "id": "I85MdsprhL5j"
      },
      "source": [
        "print_numbers2(10,20,30)"
      ],
      "execution_count": null,
      "outputs": []
    },
    {
      "cell_type": "code",
      "metadata": {
        "id": "kAddpt7KiRge"
      },
      "source": [
        "print_numbers2(10)"
      ],
      "execution_count": null,
      "outputs": []
    },
    {
      "cell_type": "markdown",
      "metadata": {
        "id": "DYg-_Wccim1u"
      },
      "source": [
        "## 고정 인수와 가변 인수"
      ]
    },
    {
      "cell_type": "code",
      "metadata": {
        "id": "bi7AS56Hiiw9"
      },
      "source": [
        "def print_numbers3(a, *args):\n",
        "    print(a)\n",
        "    print(args)"
      ],
      "execution_count": 20,
      "outputs": []
    },
    {
      "cell_type": "code",
      "metadata": {
        "colab": {
          "base_uri": "https://localhost:8080/"
        },
        "id": "c7ARXVmEix-u",
        "outputId": "6709f7fd-aba2-43bf-c0e9-0a5cb5dbaa51"
      },
      "source": [
        "print_numbers3(1,10,20)"
      ],
      "execution_count": 21,
      "outputs": [
        {
          "output_type": "stream",
          "text": [
            "1\n",
            "(10, 20)\n"
          ],
          "name": "stdout"
        }
      ]
    },
    {
      "cell_type": "code",
      "metadata": {
        "id": "tuYnuF7pi1m5"
      },
      "source": [
        "# 고정 위치 인수가 가변 위치 인수보다 먼저 나와야 함\n",
        "def print_numbers4(*args, a):\n",
        "    print(args)\n",
        "    print(a)"
      ],
      "execution_count": 26,
      "outputs": []
    },
    {
      "cell_type": "code",
      "metadata": {
        "colab": {
          "base_uri": "https://localhost:8080/",
          "height": 176
        },
        "id": "QXvcWcUxjulg",
        "outputId": "30d1c030-6d35-4830-9221-a63478eabfe1"
      },
      "source": [
        "print_numbers4(*x)"
      ],
      "execution_count": 27,
      "outputs": [
        {
          "output_type": "error",
          "ename": "TypeError",
          "evalue": "ignored",
          "traceback": [
            "\u001b[0;31m---------------------------------------------------------------------------\u001b[0m",
            "\u001b[0;31mTypeError\u001b[0m                                 Traceback (most recent call last)",
            "\u001b[0;32m<ipython-input-27-c9aba5af1127>\u001b[0m in \u001b[0;36m<module>\u001b[0;34m()\u001b[0m\n\u001b[0;32m----> 1\u001b[0;31m \u001b[0mprint_numbers4\u001b[0m\u001b[0;34m(\u001b[0m\u001b[0;34m*\u001b[0m\u001b[0mx\u001b[0m\u001b[0;34m)\u001b[0m\u001b[0;34m\u001b[0m\u001b[0;34m\u001b[0m\u001b[0m\n\u001b[0m",
            "\u001b[0;31mTypeError\u001b[0m: print_numbers4() missing 1 required keyword-only argument: 'a'"
          ]
        }
      ]
    },
    {
      "cell_type": "markdown",
      "metadata": {
        "id": "m7lax5GPml4-"
      },
      "source": [
        "## 30.2 키워드 인수"
      ]
    },
    {
      "cell_type": "code",
      "metadata": {
        "id": "M-8ywHEej8iw"
      },
      "source": [
        "def personal_info(name, age, addr):\n",
        "    print('이름:', name)\n",
        "    print('나이:', age)\n",
        "    print('주소:', addr)"
      ],
      "execution_count": 30,
      "outputs": []
    },
    {
      "cell_type": "code",
      "metadata": {
        "colab": {
          "base_uri": "https://localhost:8080/"
        },
        "id": "qknCGyM3m2Rd",
        "outputId": "4700447b-28d2-4842-b9ea-201945547c24"
      },
      "source": [
        "personal_info('J',30,'목동')"
      ],
      "execution_count": 31,
      "outputs": [
        {
          "output_type": "stream",
          "text": [
            "이름: J\n",
            "나이: 30\n",
            "주소: 목동\n"
          ],
          "name": "stdout"
        }
      ]
    },
    {
      "cell_type": "code",
      "metadata": {
        "colab": {
          "base_uri": "https://localhost:8080/"
        },
        "id": "WckkdaXwnGSV",
        "outputId": "ae89e285-e970-466c-d864-990f9e12fea6"
      },
      "source": [
        "personal_info(age=30, addr='목동', name='J')"
      ],
      "execution_count": 33,
      "outputs": [
        {
          "output_type": "stream",
          "text": [
            "이름: J\n",
            "나이: 30\n",
            "주소: 목동\n"
          ],
          "name": "stdout"
        }
      ]
    },
    {
      "cell_type": "markdown",
      "metadata": {
        "id": "-IlI1qTCnV0f"
      },
      "source": [
        "## 30.3 키워드 인수와 딕셔너리 언패킹"
      ]
    },
    {
      "cell_type": "code",
      "metadata": {
        "colab": {
          "base_uri": "https://localhost:8080/"
        },
        "id": "oXNfrQmInVvX",
        "outputId": "ee1c0970-03ea-47ce-cb68-23a6b80e1ccb"
      },
      "source": [
        "x = {'name':'J','age':30,'addr':'목동'}\n",
        "personal_info(**x)"
      ],
      "execution_count": 34,
      "outputs": [
        {
          "output_type": "stream",
          "text": [
            "이름: J\n",
            "나이: 30\n",
            "주소: 목동\n"
          ],
          "name": "stdout"
        }
      ]
    },
    {
      "cell_type": "code",
      "metadata": {
        "colab": {
          "base_uri": "https://localhost:8080/"
        },
        "id": "Al3_6jssnNbO",
        "outputId": "8b3db589-1c4b-4bca-b788-0902341c6556"
      },
      "source": [
        "# *x는 x의 키를 불러냄\n",
        "personal_info(*x)"
      ],
      "execution_count": 35,
      "outputs": [
        {
          "output_type": "stream",
          "text": [
            "이름: name\n",
            "나이: age\n",
            "주소: addr\n"
          ],
          "name": "stdout"
        }
      ]
    },
    {
      "cell_type": "markdown",
      "metadata": {
        "id": "ZdHLH4AHouzV"
      },
      "source": [
        "## 가변 키워드 인수"
      ]
    },
    {
      "cell_type": "code",
      "metadata": {
        "id": "HYCU-lwkoraR"
      },
      "source": [
        "def personal_info2(**kwargs):\n",
        "    for key, value in kwargs.items():\n",
        "        print(f'{key}:{value}')"
      ],
      "execution_count": 36,
      "outputs": []
    },
    {
      "cell_type": "code",
      "metadata": {
        "colab": {
          "base_uri": "https://localhost:8080/"
        },
        "id": "HCzqkVU2o_Vk",
        "outputId": "20de5d85-64b3-46a3-df6e-7a102b89e83b"
      },
      "source": [
        "personal_info2(**x)"
      ],
      "execution_count": 37,
      "outputs": [
        {
          "output_type": "stream",
          "text": [
            "name:J\n",
            "age:30\n",
            "addr:목동\n"
          ],
          "name": "stdout"
        }
      ]
    },
    {
      "cell_type": "code",
      "metadata": {
        "colab": {
          "base_uri": "https://localhost:8080/"
        },
        "id": "Nebj5ixupDw-",
        "outputId": "6f8fab07-b053-4934-c5d6-7585b227c7b9"
      },
      "source": [
        "personal_info2(name='J',age=30)"
      ],
      "execution_count": 38,
      "outputs": [
        {
          "output_type": "stream",
          "text": [
            "name:J\n",
            "age:30\n"
          ],
          "name": "stdout"
        }
      ]
    },
    {
      "cell_type": "markdown",
      "metadata": {
        "id": "toEh4GqBpweE"
      },
      "source": [
        "## 고정 인수와 가변 키워드 인수"
      ]
    },
    {
      "cell_type": "code",
      "metadata": {
        "id": "RxR-T2akpeF5"
      },
      "source": [
        "def personal_info3(name, **kwargs):\n",
        "    print(name)\n",
        "    print(kwargs)"
      ],
      "execution_count": 39,
      "outputs": []
    },
    {
      "cell_type": "code",
      "metadata": {
        "colab": {
          "base_uri": "https://localhost:8080/"
        },
        "id": "UydCzZoHp7E1",
        "outputId": "c93f3b2d-c2fc-48a2-80da-01d0c21d2e48"
      },
      "source": [
        "personal_info3(**x)"
      ],
      "execution_count": 40,
      "outputs": [
        {
          "output_type": "stream",
          "text": [
            "J\n",
            "{'age': 30, 'addr': '목동'}\n"
          ],
          "name": "stdout"
        }
      ]
    },
    {
      "cell_type": "markdown",
      "metadata": {
        "id": "2DePq2vmqX9s"
      },
      "source": [
        "## 위치 인수와 키워드 인수"
      ]
    },
    {
      "cell_type": "code",
      "metadata": {
        "id": "EZymR9aMqA_6"
      },
      "source": [
        "def my_print(*args, **kwargs):\n",
        "    print(*args, **kwargs)"
      ],
      "execution_count": 50,
      "outputs": []
    },
    {
      "cell_type": "code",
      "metadata": {
        "colab": {
          "base_uri": "https://localhost:8080/"
        },
        "id": "n0d-knvNqgzW",
        "outputId": "b9ffcc4a-b370-4a7f-8e50-fcb0bd23b0a5"
      },
      "source": [
        "my_print(1,2,3, sep=', ')"
      ],
      "execution_count": 51,
      "outputs": [
        {
          "output_type": "stream",
          "text": [
            "1, 2, 3\n"
          ],
          "name": "stdout"
        }
      ]
    },
    {
      "cell_type": "markdown",
      "metadata": {
        "id": "fsDKt0zjre7O"
      },
      "source": [
        "##30.4 매개변수에 초기값 지정"
      ]
    },
    {
      "cell_type": "code",
      "metadata": {
        "id": "zmMynW10qy_B"
      },
      "source": [
        "def personal_info4(name, age, addr = '비공개'):\n",
        "    print('이름:', name)\n",
        "    print('나이:', age)\n",
        "    print('주소:', addr)"
      ],
      "execution_count": 52,
      "outputs": []
    },
    {
      "cell_type": "code",
      "metadata": {
        "colab": {
          "base_uri": "https://localhost:8080/"
        },
        "id": "Ce5XuDyhr4Hq",
        "outputId": "6ad419f2-adad-4f04-e4d5-5b16b4641490"
      },
      "source": [
        "personal_info4('J',30)"
      ],
      "execution_count": 53,
      "outputs": [
        {
          "output_type": "stream",
          "text": [
            "이름: J\n",
            "나이: 30\n",
            "주소: 비공개\n"
          ],
          "name": "stdout"
        }
      ]
    },
    {
      "cell_type": "code",
      "metadata": {
        "colab": {
          "base_uri": "https://localhost:8080/"
        },
        "id": "u6J3EUlUr7z6",
        "outputId": "c1df6c35-a65f-43d4-b1d1-2ff504b088ad"
      },
      "source": [
        "personal_info4(**x)"
      ],
      "execution_count": 54,
      "outputs": [
        {
          "output_type": "stream",
          "text": [
            "이름: J\n",
            "나이: 30\n",
            "주소: 목동\n"
          ],
          "name": "stdout"
        }
      ]
    },
    {
      "cell_type": "code",
      "metadata": {
        "id": "ctemzKWMsAV_"
      },
      "source": [
        ""
      ],
      "execution_count": null,
      "outputs": []
    }
  ]
}