{
  "nbformat": 4,
  "nbformat_minor": 0,
  "metadata": {
    "colab": {
      "name": "u32_람다함수.ipynb",
      "provenance": [],
      "collapsed_sections": []
    },
    "kernelspec": {
      "name": "python3",
      "display_name": "Python 3"
    },
    "language_info": {
      "name": "python"
    }
  },
  "cells": [
    {
      "cell_type": "markdown",
      "metadata": {
        "id": "jPkFtQbm7giA"
      },
      "source": [
        "# Unit 32. 람다 함수 - 익명 함수"
      ]
    },
    {
      "cell_type": "code",
      "metadata": {
        "id": "N-UOounD7XES"
      },
      "source": [
        "def plus_ten(x):\n",
        "    return x+10"
      ],
      "execution_count": 2,
      "outputs": []
    },
    {
      "cell_type": "code",
      "metadata": {
        "colab": {
          "base_uri": "https://localhost:8080/"
        },
        "id": "fkXHBa9p7fqb",
        "outputId": "de767151-dadf-497b-8240-ea5523cb030e"
      },
      "source": [
        "plus_ten(5)"
      ],
      "execution_count": 3,
      "outputs": [
        {
          "output_type": "execute_result",
          "data": {
            "text/plain": [
              "15"
            ]
          },
          "metadata": {
            "tags": []
          },
          "execution_count": 3
        }
      ]
    },
    {
      "cell_type": "code",
      "metadata": {
        "colab": {
          "base_uri": "https://localhost:8080/"
        },
        "id": "VyMBgvM97kGa",
        "outputId": "3e61c060-00e3-495f-ccb1-132579a5f670"
      },
      "source": [
        "\n",
        "plus_ten2 = lambda x: x+10\n",
        "plus_ten2(5)"
      ],
      "execution_count": 4,
      "outputs": [
        {
          "output_type": "execute_result",
          "data": {
            "text/plain": [
              "15"
            ]
          },
          "metadata": {
            "tags": []
          },
          "execution_count": 4
        }
      ]
    },
    {
      "cell_type": "code",
      "metadata": {
        "colab": {
          "base_uri": "https://localhost:8080/"
        },
        "id": "C9ScuaKK7lLq",
        "outputId": "8748901a-3577-4ed3-fc7e-fada926d4f02"
      },
      "source": [
        "(lambda x: x+10)(5)"
      ],
      "execution_count": 5,
      "outputs": [
        {
          "output_type": "execute_result",
          "data": {
            "text/plain": [
              "15"
            ]
          },
          "metadata": {
            "tags": []
          },
          "execution_count": 5
        }
      ]
    },
    {
      "cell_type": "code",
      "metadata": {
        "colab": {
          "base_uri": "https://localhost:8080/"
        },
        "id": "0UCSMsZD7mQM",
        "outputId": "13fd44cf-c2d1-4a16-f8f5-2730bb0a79b8"
      },
      "source": [
        "\n",
        "list(map(lambda x: int(x)+10, input().split()))"
      ],
      "execution_count": 6,
      "outputs": [
        {
          "output_type": "stream",
          "text": [
            "2 5 10\n"
          ],
          "name": "stdout"
        },
        {
          "output_type": "execute_result",
          "data": {
            "text/plain": [
              "[12, 15, 20]"
            ]
          },
          "metadata": {
            "tags": []
          },
          "execution_count": 6
        }
      ]
    },
    {
      "cell_type": "markdown",
      "metadata": {
        "id": "s05exQJC7qT5"
      },
      "source": [
        "## 제약 사항"
      ]
    },
    {
      "cell_type": "code",
      "metadata": {
        "colab": {
          "base_uri": "https://localhost:8080/",
          "height": 139
        },
        "id": "u9ng1M2u7nLM",
        "outputId": "25af8f7c-ecbc-4b20-f4b1-f3fae6a57d54"
      },
      "source": [
        "# 람다함수에서 변수를 만들 수 없음\n",
        "(lambda x: y=10; x+y)(3)"
      ],
      "execution_count": 7,
      "outputs": [
        {
          "output_type": "error",
          "ename": "SyntaxError",
          "evalue": "ignored",
          "traceback": [
            "\u001b[0;36m  File \u001b[0;32m\"<ipython-input-7-b010c876d312>\"\u001b[0;36m, line \u001b[0;32m2\u001b[0m\n\u001b[0;31m    (lambda x: y=10; x+y)(3)\u001b[0m\n\u001b[0m                ^\u001b[0m\n\u001b[0;31mSyntaxError\u001b[0m\u001b[0;31m:\u001b[0m invalid syntax\n"
          ]
        }
      ]
    },
    {
      "cell_type": "code",
      "metadata": {
        "colab": {
          "base_uri": "https://localhost:8080/"
        },
        "id": "c_W9ckQ37sxR",
        "outputId": "036a15a4-3eb7-4fe8-e831-78835d4c5420"
      },
      "source": [
        "y = 10\n",
        "(lambda x: x+y)(3)"
      ],
      "execution_count": 8,
      "outputs": [
        {
          "output_type": "execute_result",
          "data": {
            "text/plain": [
              "13"
            ]
          },
          "metadata": {
            "tags": []
          },
          "execution_count": 8
        }
      ]
    },
    {
      "cell_type": "markdown",
      "metadata": {
        "id": "STxxXNAo7vOY"
      },
      "source": [
        "## 조건부 함수"
      ]
    },
    {
      "cell_type": "code",
      "metadata": {
        "colab": {
          "base_uri": "https://localhost:8080/"
        },
        "id": "6W--vz-B7tzM",
        "outputId": "73c0e717-4301-4dc2-880d-08396a8af9fe"
      },
      "source": [
        "# 리스트 a에서 3의 배수를 문자열로 변환\n",
        "a = list(range(1,11))\n",
        "list(map(lambda x: str(x) if x%3==0 else x, a))     # 3항 연산자"
      ],
      "execution_count": 9,
      "outputs": [
        {
          "output_type": "execute_result",
          "data": {
            "text/plain": [
              "[1, 2, '3', 4, 5, '6', 7, 8, '9', 10]"
            ]
          },
          "metadata": {
            "tags": []
          },
          "execution_count": 9
        }
      ]
    },
    {
      "cell_type": "code",
      "metadata": {
        "colab": {
          "base_uri": "https://localhost:8080/"
        },
        "id": "XnNQsvQO7yua",
        "outputId": "eaa883a6-0fbb-4a2c-830c-c902808d73ff"
      },
      "source": [
        "# 리스트 a에서 3의 배수는 문자열로, 5의 배수는 실수로 변환\n",
        "list(map(lambda x: str(x) if x%3==0 else float(x) if x%5==0 else x, a))"
      ],
      "execution_count": 10,
      "outputs": [
        {
          "output_type": "execute_result",
          "data": {
            "text/plain": [
              "[1, 2, '3', 4, 5.0, '6', 7, 8, '9', 10.0]"
            ]
          },
          "metadata": {
            "tags": []
          },
          "execution_count": 10
        }
      ]
    },
    {
      "cell_type": "markdown",
      "metadata": {
        "id": "UwGaLytO72KC"
      },
      "source": [
        "## map에 여러개의 객체 넣기"
      ]
    },
    {
      "cell_type": "code",
      "metadata": {
        "colab": {
          "base_uri": "https://localhost:8080/"
        },
        "id": "-bsoahoZ70Ee",
        "outputId": "a076a53e-fc4d-4266-b329-85f4c9da63c8"
      },
      "source": [
        "a = [1,2,3,4,5]\n",
        "b = [6,7,8,9,10]\n",
        "list(map(lambda x, y: x*y, a, b))"
      ],
      "execution_count": 11,
      "outputs": [
        {
          "output_type": "execute_result",
          "data": {
            "text/plain": [
              "[6, 14, 24, 36, 50]"
            ]
          },
          "metadata": {
            "tags": []
          },
          "execution_count": 11
        }
      ]
    },
    {
      "cell_type": "markdown",
      "metadata": {
        "id": "670Jyl027423"
      },
      "source": [
        "## filter"
      ]
    },
    {
      "cell_type": "code",
      "metadata": {
        "colab": {
          "base_uri": "https://localhost:8080/"
        },
        "id": "CA47wpb1733m",
        "outputId": "10947943-0e8d-4caa-bd84-42b2555a2341"
      },
      "source": [
        "a = list(range(1,11))\n",
        "list(filter(lambda x: 4 <= x < 8, a))"
      ],
      "execution_count": 12,
      "outputs": [
        {
          "output_type": "execute_result",
          "data": {
            "text/plain": [
              "[4, 5, 6, 7]"
            ]
          },
          "metadata": {
            "tags": []
          },
          "execution_count": 12
        }
      ]
    },
    {
      "cell_type": "code",
      "metadata": {
        "id": "zl58FzJM77iT"
      },
      "source": [
        ""
      ],
      "execution_count": null,
      "outputs": []
    }
  ]
}