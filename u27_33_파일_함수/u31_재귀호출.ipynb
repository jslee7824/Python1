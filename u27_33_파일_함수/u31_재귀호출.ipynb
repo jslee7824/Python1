{
  "nbformat": 4,
  "nbformat_minor": 0,
  "metadata": {
    "colab": {
      "name": "u31_재귀호출.ipynb",
      "provenance": [],
      "collapsed_sections": []
    },
    "kernelspec": {
      "name": "python3",
      "display_name": "Python 3"
    },
    "language_info": {
      "name": "python"
    }
  },
  "cells": [
    {
      "cell_type": "markdown",
      "metadata": {
        "id": "w6v7rd1At-Ly"
      },
      "source": [
        "# Unit 31. 재귀호출 (Recursive Call)"
      ]
    },
    {
      "cell_type": "markdown",
      "metadata": {
        "id": "sC7xq-yZujsk"
      },
      "source": [
        "## factorial 함수를 재귀호출로 구현"
      ]
    },
    {
      "cell_type": "code",
      "metadata": {
        "id": "tKXKUxGGt9Fh"
      },
      "source": [
        "def factorial(n):\n",
        "    if n == 0:\n",
        "        return 1\n",
        "    return n*factorial(n-1)"
      ],
      "execution_count": 1,
      "outputs": []
    },
    {
      "cell_type": "code",
      "metadata": {
        "colab": {
          "base_uri": "https://localhost:8080/"
        },
        "id": "RfkEube8u0de",
        "outputId": "280398d4-0044-4349-c481-7cd97fe7dfac"
      },
      "source": [
        "factorial(5)"
      ],
      "execution_count": 2,
      "outputs": [
        {
          "output_type": "execute_result",
          "data": {
            "text/plain": [
              "120"
            ]
          },
          "metadata": {
            "tags": []
          },
          "execution_count": 2
        }
      ]
    },
    {
      "cell_type": "markdown",
      "metadata": {
        "id": "beth43J-03NP"
      },
      "source": [
        "## 피보나치 수열"
      ]
    },
    {
      "cell_type": "code",
      "metadata": {
        "id": "-Y8Ds2vFvQ3X"
      },
      "source": [
        "def fibo(n):\n",
        "    if n == 1 or n == 2:\n",
        "        return 1\n",
        "    return fibo(n-1) + fibo(n-2)"
      ],
      "execution_count": 4,
      "outputs": []
    },
    {
      "cell_type": "code",
      "metadata": {
        "id": "4XzJaZJ81LhX"
      },
      "source": [
        ""
      ],
      "execution_count": null,
      "outputs": []
    }
  ]
}