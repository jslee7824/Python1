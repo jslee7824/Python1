{
  "nbformat": 4,
  "nbformat_minor": 0,
  "metadata": {
    "colab": {
      "name": "u27_파일.ipynb",
      "provenance": [],
      "collapsed_sections": []
    },
    "kernelspec": {
      "name": "python3",
      "display_name": "Python 3"
    },
    "language_info": {
      "name": "python"
    }
  },
  "cells": [
    {
      "cell_type": "markdown",
      "metadata": {
        "id": "5PaqEY-Ak-kj"
      },
      "source": [
        "# Unit 27. 파일"
      ]
    },
    {
      "cell_type": "markdown",
      "metadata": {
        "id": "PqWDIn5emtf_"
      },
      "source": [
        "## 27.1 문자열 쓰기, 읽기"
      ]
    },
    {
      "cell_type": "markdown",
      "metadata": {
        "id": "Cozb9zua2zPa"
      },
      "source": [
        "### append, write, read 중요"
      ]
    },
    {
      "cell_type": "markdown",
      "metadata": {
        "id": "E0Vm4yzCnS4E"
      },
      "source": [
        "### 파일 만들기"
      ]
    },
    {
      "cell_type": "code",
      "metadata": {
        "id": "zQNlkN6Ek7lZ"
      },
      "source": [
        "file = open('hello.txt', 'w') \n",
        "file.write('Hello, world!')\n",
        "file.close()"
      ],
      "execution_count": 5,
      "outputs": []
    },
    {
      "cell_type": "markdown",
      "metadata": {
        "id": "X5SX6QodnUxk"
      },
      "source": [
        "### 코랩안에서 파일 안에 내용 확인하기"
      ]
    },
    {
      "cell_type": "code",
      "metadata": {
        "colab": {
          "base_uri": "https://localhost:8080/"
        },
        "id": "j_czeG3WmsbF",
        "outputId": "c4cf54c3-1b6b-477a-b3dc-2667c35d8496"
      },
      "source": [
        "!cat hello.txt "
      ],
      "execution_count": 9,
      "outputs": [
        {
          "output_type": "stream",
          "text": [
            "Hello, world!"
          ],
          "name": "stdout"
        }
      ]
    },
    {
      "cell_type": "code",
      "metadata": {
        "colab": {
          "base_uri": "https://localhost:8080/"
        },
        "id": "F9ponQuZnLXW",
        "outputId": "7bdd47a6-acbb-4b82-a7f5-4a14cfe741cc"
      },
      "source": [
        "file = open('hello.txt') #'r'mode가 default\n",
        "s = file.read()\n",
        "print(s)\n",
        "file.close()"
      ],
      "execution_count": 12,
      "outputs": [
        {
          "output_type": "stream",
          "text": [
            "Hello, world!\n"
          ],
          "name": "stdout"
        }
      ]
    },
    {
      "cell_type": "markdown",
      "metadata": {
        "id": "dd3S8f7PpmU3"
      },
      "source": [
        "### 파이썬 스타일로 쓰기"
      ]
    },
    {
      "cell_type": "code",
      "metadata": {
        "colab": {
          "base_uri": "https://localhost:8080/"
        },
        "id": "1WQl1-5fpl9h",
        "outputId": "397091d9-d9a0-4371-e3ae-f1de98f6f4f9"
      },
      "source": [
        "with open('hello.txt') as file:\n",
        "      s = file.read()\n",
        "print(s)"
      ],
      "execution_count": 13,
      "outputs": [
        {
          "output_type": "stream",
          "text": [
            "Hello, world!\n"
          ],
          "name": "stdout"
        }
      ]
    },
    {
      "cell_type": "markdown",
      "metadata": {
        "id": "ifvLtLAKqhpO"
      },
      "source": [
        "## 27.2 문자열 여러줄"
      ]
    },
    {
      "cell_type": "code",
      "metadata": {
        "id": "wAFch-5Cnuab"
      },
      "source": [
        "with open('hello.txt', 'w') as file:\n",
        "      for i in range(3):\n",
        "          file.write(f'Hello.world! {i+1}\\n')\n"
      ],
      "execution_count": 15,
      "outputs": []
    },
    {
      "cell_type": "code",
      "metadata": {
        "colab": {
          "base_uri": "https://localhost:8080/"
        },
        "id": "U9REOYYaq2JJ",
        "outputId": "847e01d3-79b6-4f4e-b9ab-2bd3c7b11599"
      },
      "source": [
        "!cat hello.txt"
      ],
      "execution_count": 16,
      "outputs": [
        {
          "output_type": "stream",
          "text": [
            "Hello.world! 1\n",
            "Hello.world! 2\n",
            "Hello.world! 3\n"
          ],
          "name": "stdout"
        }
      ]
    },
    {
      "cell_type": "code",
      "metadata": {
        "id": "HJGjlOGjq-AH"
      },
      "source": [
        "lines = ['안녕하세요.\\n', '파이썬\\n','코딩도장입니다.\\n']\n",
        "with open('hello.txt', 'w') as file:\n",
        "    file.writelines(lines)"
      ],
      "execution_count": 17,
      "outputs": []
    },
    {
      "cell_type": "code",
      "metadata": {
        "colab": {
          "base_uri": "https://localhost:8080/"
        },
        "id": "0_A4uO9SsaG2",
        "outputId": "940842aa-edf2-4305-f178-ed2bb941b81f"
      },
      "source": [
        "!cat hello.txt"
      ],
      "execution_count": 18,
      "outputs": [
        {
          "output_type": "stream",
          "text": [
            "안녕하세요.\n",
            "파이썬\n",
            "코딩도장입니다.\n"
          ],
          "name": "stdout"
        }
      ]
    },
    {
      "cell_type": "code",
      "metadata": {
        "id": "7_Bf8Jtnscrf"
      },
      "source": [
        "s = '''안뇨소.\n",
        "파이썬\n",
        "최홍만인데요.'''\n",
        "with open('hello.txt', 'w') as file:\n",
        "    file.write(s)"
      ],
      "execution_count": 19,
      "outputs": []
    },
    {
      "cell_type": "markdown",
      "metadata": {
        "id": "Rk807pectMvW"
      },
      "source": [
        "### 한번에 다읽기"
      ]
    },
    {
      "cell_type": "code",
      "metadata": {
        "colab": {
          "base_uri": "https://localhost:8080/"
        },
        "id": "YWIkhgmAs92u",
        "outputId": "aea480fa-3316-429f-ac73-c5a3630a72cc"
      },
      "source": [
        "with open('hello.txt') as file:\n",
        "    s = file.read()\n",
        "print(s)"
      ],
      "execution_count": 20,
      "outputs": [
        {
          "output_type": "stream",
          "text": [
            "안뇨소.\n",
            "파이썬\n",
            "최홍만인데요.\n"
          ],
          "name": "stdout"
        }
      ]
    },
    {
      "cell_type": "markdown",
      "metadata": {
        "id": "-IzE694YtPBe"
      },
      "source": [
        "###한 줄 읽기"
      ]
    },
    {
      "cell_type": "code",
      "metadata": {
        "colab": {
          "base_uri": "https://localhost:8080/"
        },
        "id": "SdW608litEOv",
        "outputId": "e04c7b48-38b7-492d-aea9-6ad2b2eb8d13"
      },
      "source": [
        "with open('hello.txt') as file:\n",
        "    s = file.readline()\n",
        "print(s)"
      ],
      "execution_count": 21,
      "outputs": [
        {
          "output_type": "stream",
          "text": [
            "안뇨소.\n",
            "\n"
          ],
          "name": "stdout"
        }
      ]
    },
    {
      "cell_type": "markdown",
      "metadata": {
        "id": "W3kXpvP-t5XB"
      },
      "source": [
        "### 위에 이거 추가하면 다 읽을 수 있다\n",
        "line = None\n",
        "   while line != '':"
      ]
    },
    {
      "cell_type": "code",
      "metadata": {
        "colab": {
          "base_uri": "https://localhost:8080/"
        },
        "id": "ySKXXq3ktKnA",
        "outputId": "004781ba-3100-40cf-fdbd-e8a71ea22edc"
      },
      "source": [
        "with open('hello.txt') as file: \n",
        "    line = None\n",
        "    while line != '':\n",
        "      line = file.readline()\n",
        "      print(line.strip('\\n'))"
      ],
      "execution_count": 26,
      "outputs": [
        {
          "output_type": "stream",
          "text": [
            "안뇨소.\n",
            "파이썬\n",
            "최홍만인데요.\n",
            "\n"
          ],
          "name": "stdout"
        }
      ]
    },
    {
      "cell_type": "markdown",
      "metadata": {
        "id": "vX7uxVJgxCm0"
      },
      "source": [
        "### 이런 방법도 있다 for 사용"
      ]
    },
    {
      "cell_type": "code",
      "metadata": {
        "colab": {
          "base_uri": "https://localhost:8080/"
        },
        "id": "oevorO8Zt3vL",
        "outputId": "350b6300-5f77-44dc-f260-49da22681f9f"
      },
      "source": [
        "with open('hello.txt') as file:\n",
        "    for line in file:\n",
        "        print(line.strip('\\n'))"
      ],
      "execution_count": 29,
      "outputs": [
        {
          "output_type": "stream",
          "text": [
            "안뇨소.\n",
            "파이썬\n",
            "최홍만인데요.\n"
          ],
          "name": "stdout"
        }
      ]
    },
    {
      "cell_type": "code",
      "metadata": {
        "colab": {
          "base_uri": "https://localhost:8080/"
        },
        "id": "DH4pUFpYxLfe",
        "outputId": "ba6f7da6-6c13-4c61-8802-b0f300b54180"
      },
      "source": [
        "with open('hello.txt') as file:\n",
        "    s = file.read(9)\n",
        "print(s)"
      ],
      "execution_count": 30,
      "outputs": [
        {
          "output_type": "stream",
          "text": [
            "안뇨소.\n",
            "파이썬\n",
            "\n"
          ],
          "name": "stdout"
        }
      ]
    },
    {
      "cell_type": "markdown",
      "metadata": {
        "id": "iA6LpCpEzgxK"
      },
      "source": [
        "### append"
      ]
    },
    {
      "cell_type": "code",
      "metadata": {
        "id": "mcGJU2J3yno9"
      },
      "source": [
        "with open('hello.txt', 'a') as file:\n",
        "    file.write('Append\\n')\n"
      ],
      "execution_count": 32,
      "outputs": []
    },
    {
      "cell_type": "code",
      "metadata": {
        "colab": {
          "base_uri": "https://localhost:8080/"
        },
        "id": "xEtt_D01zyGm",
        "outputId": "578db777-c4c5-4110-d107-14665e61317a"
      },
      "source": [
        "!cat hello.txt"
      ],
      "execution_count": 33,
      "outputs": [
        {
          "output_type": "stream",
          "text": [
            "안뇨소.\n",
            "파이썬\n",
            "최홍만인데요.Append\n"
          ],
          "name": "stdout"
        }
      ]
    },
    {
      "cell_type": "markdown",
      "metadata": {
        "id": "vr1JMTeq1Hs7"
      },
      "source": [
        "### 27.3 파이썬 객체 읽고 쓰기"
      ]
    },
    {
      "cell_type": "code",
      "metadata": {
        "id": "vJSGCz8Hz5hb"
      },
      "source": [
        "import pickle\n",
        "\n",
        "scores = {'kor': 90, 'eng': 90, 'mat': 80}\n",
        "with open('binary.pkl', 'wb') as file:\n",
        "    pickle.dump(scores, file)"
      ],
      "execution_count": 35,
      "outputs": []
    },
    {
      "cell_type": "code",
      "metadata": {
        "colab": {
          "base_uri": "https://localhost:8080/"
        },
        "id": "_8UFynLx1mxo",
        "outputId": "12ecf88f-a796-4654-940e-450bfb099aeb"
      },
      "source": [
        "! cat binary.pkl"
      ],
      "execution_count": 36,
      "outputs": [
        {
          "output_type": "stream",
          "text": [
            "�\u0003}q\u0000(X\u0003\u0000\u0000\u0000korq\u0001KZX\u0003\u0000\u0000\u0000engq\u0002KZX\u0003\u0000\u0000\u0000matq\u0003KPu."
          ],
          "name": "stdout"
        }
      ]
    },
    {
      "cell_type": "code",
      "metadata": {
        "colab": {
          "base_uri": "https://localhost:8080/"
        },
        "id": "A9PSHtJo1tHD",
        "outputId": "4b3f5b23-7796-4cd1-fd0d-cee3eedad046"
      },
      "source": [
        "with open('binary.pkl', 'rb') as file:\n",
        "    new_scores = pickle.load(file)\n",
        "\n",
        "new_scores"
      ],
      "execution_count": 38,
      "outputs": [
        {
          "output_type": "execute_result",
          "data": {
            "text/plain": [
              "{'eng': 90, 'kor': 90, 'mat': 80}"
            ]
          },
          "metadata": {
            "tags": []
          },
          "execution_count": 38
        }
      ]
    },
    {
      "cell_type": "code",
      "metadata": {
        "id": "maJCKm3X2lzW"
      },
      "source": [
        ""
      ],
      "execution_count": null,
      "outputs": []
    }
  ]
}