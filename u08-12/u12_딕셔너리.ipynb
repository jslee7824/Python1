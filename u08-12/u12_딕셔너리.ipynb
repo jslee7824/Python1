{
  "nbformat": 4,
  "nbformat_minor": 0,
  "metadata": {
    "colab": {
      "name": "u12_딕셔너리.ipynb",
      "provenance": [],
      "collapsed_sections": [
        "AcI2qzB6StXx"
      ]
    },
    "kernelspec": {
      "name": "python3",
      "display_name": "Python 3"
    },
    "language_info": {
      "name": "python"
    }
  },
  "cells": [
    {
      "cell_type": "markdown",
      "metadata": {
        "id": "pIcvP8kaRpsA"
      },
      "source": [
        "# Unit 12. 딕셔너리(Dictionary)"
      ]
    },
    {
      "cell_type": "code",
      "metadata": {
        "colab": {
          "base_uri": "https://localhost:8080/"
        },
        "id": "9DXa3ibzRFJ3",
        "outputId": "6dbfdfe8-bdb8-4847-f9a5-b7a1427f3591"
      },
      "source": [
        "lux = [490, 334, 550, 18.720]\n",
        "lux"
      ],
      "execution_count": 10,
      "outputs": [
        {
          "output_type": "execute_result",
          "data": {
            "text/plain": [
              "[490, 334, 550, 18.72]"
            ]
          },
          "metadata": {
            "tags": []
          },
          "execution_count": 10
        }
      ]
    },
    {
      "cell_type": "code",
      "metadata": {
        "colab": {
          "base_uri": "https://localhost:8080/"
        },
        "id": "CmX3Rj73SHau",
        "outputId": "6a8ae00b-aa9b-45ae-c8b5-612710506896"
      },
      "source": [
        "lux = {\n",
        "    'health': 490,  #'Key':Value\n",
        "    'mana' : 334,\n",
        "    'melee': 550,\n",
        "    'armor': 18.72\n",
        "}\n",
        "lux"
      ],
      "execution_count": 11,
      "outputs": [
        {
          "output_type": "execute_result",
          "data": {
            "text/plain": [
              "{'armor': 18.72, 'health': 490, 'mana': 334, 'melee': 550}"
            ]
          },
          "metadata": {
            "tags": []
          },
          "execution_count": 11
        }
      ]
    },
    {
      "cell_type": "code",
      "metadata": {
        "id": "6xIw913MSrxF"
      },
      "source": [
        ""
      ],
      "execution_count": 11,
      "outputs": []
    },
    {
      "cell_type": "markdown",
      "metadata": {
        "id": "AcI2qzB6StXx"
      },
      "source": [
        "## 12.1 딕셔너리 생성"
      ]
    },
    {
      "cell_type": "code",
      "metadata": {
        "colab": {
          "base_uri": "https://localhost:8080/"
        },
        "id": "pRmO1FzuSv9c",
        "outputId": "affbfd9a-b4d4-4787-8612-155c7c527f55"
      },
      "source": [
        "lux = {'health': 490, 'mana' : 334,'melee': 550,'armor': 18.72}\n",
        "lux"
      ],
      "execution_count": 12,
      "outputs": [
        {
          "output_type": "execute_result",
          "data": {
            "text/plain": [
              "{'armor': 18.72, 'health': 490, 'mana': 334, 'melee': 550}"
            ]
          },
          "metadata": {
            "tags": []
          },
          "execution_count": 12
        }
      ]
    },
    {
      "cell_type": "code",
      "metadata": {
        "colab": {
          "base_uri": "https://localhost:8080/"
        },
        "id": "jQt0BNACUMxu",
        "outputId": "e3302973-fdf2-4226-9095-4350c24a4d7d"
      },
      "source": [
        "a = {}\n",
        "b = dict()\n",
        "a, b"
      ],
      "execution_count": 13,
      "outputs": [
        {
          "output_type": "execute_result",
          "data": {
            "text/plain": [
              "({}, {})"
            ]
          },
          "metadata": {
            "tags": []
          },
          "execution_count": 13
        }
      ]
    },
    {
      "cell_type": "code",
      "metadata": {
        "colab": {
          "base_uri": "https://localhost:8080/"
        },
        "id": "2nyw0H3rVDNG",
        "outputId": "ed7152c2-dc95-4bce-ec0f-334d194370eb"
      },
      "source": [
        "a = set((1,2,3))\n",
        "a"
      ],
      "execution_count": 14,
      "outputs": [
        {
          "output_type": "execute_result",
          "data": {
            "text/plain": [
              "{1, 2, 3}"
            ]
          },
          "metadata": {
            "tags": []
          },
          "execution_count": 14
        }
      ]
    },
    {
      "cell_type": "code",
      "metadata": {
        "colab": {
          "base_uri": "https://localhost:8080/"
        },
        "id": "Zd9_YjDgVIf9",
        "outputId": "d322fc61-97ac-422f-d2a2-d43974a05270"
      },
      "source": [
        "a = ['a','b','c','c']\n",
        "b = [1,2,3,4]\n",
        "dict(zip(a,b))"
      ],
      "execution_count": 15,
      "outputs": [
        {
          "output_type": "execute_result",
          "data": {
            "text/plain": [
              "{'a': 1, 'b': 2, 'c': 4}"
            ]
          },
          "metadata": {
            "tags": []
          },
          "execution_count": 15
        }
      ]
    },
    {
      "cell_type": "markdown",
      "metadata": {
        "id": "rjToPWMSWDs7"
      },
      "source": [
        "##12.2 딕셔너리 키에 접근하고 값 할당하기"
      ]
    },
    {
      "cell_type": "code",
      "metadata": {
        "colab": {
          "base_uri": "https://localhost:8080/"
        },
        "id": "C_sExXX_VhAy",
        "outputId": "11d63dcc-bcf2-4860-c7b9-777a316be842"
      },
      "source": [
        "lux"
      ],
      "execution_count": 16,
      "outputs": [
        {
          "output_type": "execute_result",
          "data": {
            "text/plain": [
              "{'armor': 18.72, 'health': 490, 'mana': 334, 'melee': 550}"
            ]
          },
          "metadata": {
            "tags": []
          },
          "execution_count": 16
        }
      ]
    },
    {
      "cell_type": "code",
      "metadata": {
        "colab": {
          "base_uri": "https://localhost:8080/"
        },
        "id": "yZF29P4LViDu",
        "outputId": "82ff70ab-5dc9-4513-ba46-bea06462fa3e"
      },
      "source": [
        "lux['mana'], lux['armor']"
      ],
      "execution_count": 17,
      "outputs": [
        {
          "output_type": "execute_result",
          "data": {
            "text/plain": [
              "(334, 18.72)"
            ]
          },
          "metadata": {
            "tags": []
          },
          "execution_count": 17
        }
      ]
    },
    {
      "cell_type": "code",
      "metadata": {
        "colab": {
          "base_uri": "https://localhost:8080/"
        },
        "id": "GIoZvTMeWujq",
        "outputId": "75eecdaa-bb1b-4fce-9d8e-12880640d8c1"
      },
      "source": [
        "# 키값이 기존 딕셔너리에 없으면 새롭게 추가\n",
        "lux['new'] = 10\n",
        "lux"
      ],
      "execution_count": 20,
      "outputs": [
        {
          "output_type": "execute_result",
          "data": {
            "text/plain": [
              "{'armor': 18.72, 'health': 490, 'mana': 334, 'melee': 550, 'new': 10}"
            ]
          },
          "metadata": {
            "tags": []
          },
          "execution_count": 20
        }
      ]
    },
    {
      "cell_type": "code",
      "metadata": {
        "colab": {
          "base_uri": "https://localhost:8080/"
        },
        "id": "nBanyE8XYG8L",
        "outputId": "39d0b6ee-4bf8-4449-a277-b84f7f39973b"
      },
      "source": [
        "# 키값이 딕셔너리에 있으면 값 변경\n",
        "lux['mana'] = 1000\n",
        "lux"
      ],
      "execution_count": 21,
      "outputs": [
        {
          "output_type": "execute_result",
          "data": {
            "text/plain": [
              "{'armor': 18.72, 'health': 490, 'mana': 1000, 'melee': 550, 'new': 10}"
            ]
          },
          "metadata": {
            "tags": []
          },
          "execution_count": 21
        }
      ]
    },
    {
      "cell_type": "code",
      "metadata": {
        "colab": {
          "base_uri": "https://localhost:8080/"
        },
        "id": "HGq-WATZYPgf",
        "outputId": "292a8baa-9548-4f58-844c-ac40b85dab72"
      },
      "source": [
        "'mana' in lux"
      ],
      "execution_count": 22,
      "outputs": [
        {
          "output_type": "execute_result",
          "data": {
            "text/plain": [
              "True"
            ]
          },
          "metadata": {
            "tags": []
          },
          "execution_count": 22
        }
      ]
    },
    {
      "cell_type": "code",
      "metadata": {
        "colab": {
          "base_uri": "https://localhost:8080/"
        },
        "id": "_mWSvZqBYSZy",
        "outputId": "f7390040-943c-403f-9ddc-c6c0fbd047c1"
      },
      "source": [
        "#'mana' 항목이 존재하면 기존 값 + 100, 없으면 값이 50이 되게 만들어라\n",
        "e = {}\n",
        "\n",
        "if 'mana' in d:\n",
        "    e['mana'] = e['mana'] + 100\n",
        "else:\n",
        "    e['mana'] = 50\n",
        "\n",
        "e"
      ],
      "execution_count": 27,
      "outputs": [
        {
          "output_type": "execute_result",
          "data": {
            "text/plain": [
              "{'mana': 50}"
            ]
          },
          "metadata": {
            "tags": []
          },
          "execution_count": 27
        }
      ]
    },
    {
      "cell_type": "markdown",
      "metadata": {
        "id": "wh8NFhd0ZLxM"
      },
      "source": [
        "### 딕셔너리 키의 갯수"
      ]
    },
    {
      "cell_type": "code",
      "metadata": {
        "colab": {
          "base_uri": "https://localhost:8080/"
        },
        "id": "m4HQ5G4bZEej",
        "outputId": "6b13865c-ea21-4df4-e479-4cefe4dd5bab"
      },
      "source": [
        "lux"
      ],
      "execution_count": 28,
      "outputs": [
        {
          "output_type": "execute_result",
          "data": {
            "text/plain": [
              "{'armor': 18.72, 'health': 490, 'mana': 1000, 'melee': 550, 'new': 10}"
            ]
          },
          "metadata": {
            "tags": []
          },
          "execution_count": 28
        }
      ]
    },
    {
      "cell_type": "code",
      "metadata": {
        "colab": {
          "base_uri": "https://localhost:8080/"
        },
        "id": "Cm7k8M9XY9h7",
        "outputId": "20972347-ad99-4896-d41b-b1328a17d11f"
      },
      "source": [
        "len(lux)"
      ],
      "execution_count": 29,
      "outputs": [
        {
          "output_type": "execute_result",
          "data": {
            "text/plain": [
              "5"
            ]
          },
          "metadata": {
            "tags": []
          },
          "execution_count": 29
        }
      ]
    },
    {
      "cell_type": "code",
      "metadata": {
        "colab": {
          "base_uri": "https://localhost:8080/"
        },
        "id": "T7oYEEwOZSZf",
        "outputId": "48190cea-1932-4ad9-e6c3-2d88cd72fb82"
      },
      "source": [
        "type(lux)"
      ],
      "execution_count": 30,
      "outputs": [
        {
          "output_type": "execute_result",
          "data": {
            "text/plain": [
              "dict"
            ]
          },
          "metadata": {
            "tags": []
          },
          "execution_count": 30
        }
      ]
    },
    {
      "cell_type": "code",
      "metadata": {
        "colab": {
          "base_uri": "https://localhost:8080/"
        },
        "id": "pcakBwukZ6dL",
        "outputId": "c73d01b5-43cc-40f5-b435-be7fc3fc83bb"
      },
      "source": [
        "type(lux['armor'])"
      ],
      "execution_count": 31,
      "outputs": [
        {
          "output_type": "execute_result",
          "data": {
            "text/plain": [
              "float"
            ]
          },
          "metadata": {
            "tags": []
          },
          "execution_count": 31
        }
      ]
    },
    {
      "cell_type": "code",
      "metadata": {
        "colab": {
          "base_uri": "https://localhost:8080/"
        },
        "id": "KIRjWB4-Z-vJ",
        "outputId": "fa8fc60a-8917-44d9-f821-3c5ab70f75e8"
      },
      "source": [
        "lux.keys()"
      ],
      "execution_count": 32,
      "outputs": [
        {
          "output_type": "execute_result",
          "data": {
            "text/plain": [
              "dict_keys(['health', 'mana', 'melee', 'armor', 'new'])"
            ]
          },
          "metadata": {
            "tags": []
          },
          "execution_count": 32
        }
      ]
    },
    {
      "cell_type": "markdown",
      "metadata": {
        "id": "qLoPa9iHbifg"
      },
      "source": [
        "### 반복문, 추후 학습 예정"
      ]
    },
    {
      "cell_type": "code",
      "metadata": {
        "colab": {
          "base_uri": "https://localhost:8080/"
        },
        "id": "3K8ewFYoaks5",
        "outputId": "bf351567-76ff-494d-b546-002a4228cbfa"
      },
      "source": [
        "for key in lux.keys():\n",
        "    print(f'{key}:{lux[key]}')"
      ],
      "execution_count": 34,
      "outputs": [
        {
          "output_type": "stream",
          "text": [
            "health:490\n",
            "mana:1000\n",
            "melee:550\n",
            "armor:18.72\n",
            "new:10\n"
          ],
          "name": "stdout"
        }
      ]
    },
    {
      "cell_type": "code",
      "metadata": {
        "id": "stQE6etebXi2"
      },
      "source": [
        ""
      ],
      "execution_count": null,
      "outputs": []
    }
  ]
}