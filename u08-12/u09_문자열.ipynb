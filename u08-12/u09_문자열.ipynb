{
  "nbformat": 4,
  "nbformat_minor": 0,
  "metadata": {
    "colab": {
      "name": "u09_문자열.ipynb",
      "provenance": [],
      "collapsed_sections": []
    },
    "kernelspec": {
      "name": "python3",
      "display_name": "Python 3"
    },
    "language_info": {
      "name": "python"
    }
  },
  "cells": [
    {
      "cell_type": "markdown",
      "metadata": {
        "id": "zd9Ra9TXcEf0"
      },
      "source": [
        "# Unit 9. 문자열\n"
      ]
    },
    {
      "cell_type": "code",
      "metadata": {
        "id": "FsdZ_TcwcDae"
      },
      "source": [
        "#string.split() 은 함수가 아닌 method"
      ],
      "execution_count": 1,
      "outputs": []
    },
    {
      "cell_type": "code",
      "metadata": {
        "colab": {
          "base_uri": "https://localhost:8080/",
          "height": 36
        },
        "id": "ixiN9Fx_cjJb",
        "outputId": "bd31c18c-b6d6-404a-f90c-9d2d65593a96"
      },
      "source": [
        "hello = 'Hello, world!'\n",
        "hello"
      ],
      "execution_count": 3,
      "outputs": [
        {
          "output_type": "execute_result",
          "data": {
            "application/vnd.google.colaboratory.intrinsic+json": {
              "type": "string"
            },
            "text/plain": [
              "'Hello, world!'"
            ]
          },
          "metadata": {
            "tags": []
          },
          "execution_count": 3
        }
      ]
    },
    {
      "cell_type": "code",
      "metadata": {
        "colab": {
          "base_uri": "https://localhost:8080/"
        },
        "id": "nQM6t6qWcoVa",
        "outputId": "0e56e928-b8f8-4cde-e95e-7ac7c149175b"
      },
      "source": [
        "hello = '하윙'\n",
        "hello2 = \"하윙\"\n",
        "hello, hello2"
      ],
      "execution_count": 7,
      "outputs": [
        {
          "output_type": "execute_result",
          "data": {
            "text/plain": [
              "('하윙', '하윙')"
            ]
          },
          "metadata": {
            "tags": []
          },
          "execution_count": 7
        }
      ]
    },
    {
      "cell_type": "code",
      "metadata": {
        "colab": {
          "base_uri": "https://localhost:8080/",
          "height": 36
        },
        "id": "0PyhRf_ocz9o",
        "outputId": "87df5531-5967-4da1-fa36-930074ed061b"
      },
      "source": [
        "multiline = '''Hello!\n",
        "world!'''\n",
        "multiline #String 여러줄 띄울때"
      ],
      "execution_count": 9,
      "outputs": [
        {
          "output_type": "execute_result",
          "data": {
            "application/vnd.google.colaboratory.intrinsic+json": {
              "type": "string"
            },
            "text/plain": [
              "'Hello!\\nworld!'"
            ]
          },
          "metadata": {
            "tags": []
          },
          "execution_count": 9
        }
      ]
    },
    {
      "cell_type": "code",
      "metadata": {
        "colab": {
          "base_uri": "https://localhost:8080/",
          "height": 36
        },
        "id": "xR6n8nMKdRgd",
        "outputId": "4bfffbba-bd43-4296-dacb-7551e52bc108"
      },
      "source": [
        "multi = 'Hello,\\nworld!'\n",
        "multi"
      ],
      "execution_count": 10,
      "outputs": [
        {
          "output_type": "execute_result",
          "data": {
            "application/vnd.google.colaboratory.intrinsic+json": {
              "type": "string"
            },
            "text/plain": [
              "'Hello,\\nworld!'"
            ]
          },
          "metadata": {
            "tags": []
          },
          "execution_count": 10
        }
      ]
    },
    {
      "cell_type": "code",
      "metadata": {
        "colab": {
          "base_uri": "https://localhost:8080/"
        },
        "id": "qciBsvmyd5HR",
        "outputId": "72227a22-adba-4547-f69d-e95d21bea74b"
      },
      "source": [
        "print(multi)"
      ],
      "execution_count": 11,
      "outputs": [
        {
          "output_type": "stream",
          "text": [
            "Hello,\n",
            "world!\n"
          ],
          "name": "stdout"
        }
      ]
    },
    {
      "cell_type": "code",
      "metadata": {
        "id": "4BM6Xx5Ld7YD"
      },
      "source": [
        "# s = 'Python isn't difficult.' # 이런식으로 ''이나 \"\"표현하고 싶을 때"
      ],
      "execution_count": 12,
      "outputs": []
    },
    {
      "cell_type": "code",
      "metadata": {
        "colab": {
          "base_uri": "https://localhost:8080/",
          "height": 36
        },
        "id": "2S5u_zmheaMT",
        "outputId": "faef4576-fb89-49cb-b3a3-cb1c6780accd"
      },
      "source": [
        "s = \"Python isn't difficult.\"\n",
        "s"
      ],
      "execution_count": 13,
      "outputs": [
        {
          "output_type": "execute_result",
          "data": {
            "application/vnd.google.colaboratory.intrinsic+json": {
              "type": "string"
            },
            "text/plain": [
              "\"Python isn't difficult.\""
            ]
          },
          "metadata": {
            "tags": []
          },
          "execution_count": 13
        }
      ]
    },
    {
      "cell_type": "code",
      "metadata": {
        "colab": {
          "base_uri": "https://localhost:8080/",
          "height": 36
        },
        "id": "s9Ld2cxCeiAe",
        "outputId": "91ba5c74-384a-49a6-ef36-f5d3a09ef6e9"
      },
      "source": [
        "s = 'Python isn\\'t difficult.'\n",
        "s\n",
        "# \\ 붙일 경우 더 쉽게 포함시킬 수 있다! (EX: \\', \\\")\n"
      ],
      "execution_count": 16,
      "outputs": [
        {
          "output_type": "execute_result",
          "data": {
            "application/vnd.google.colaboratory.intrinsic+json": {
              "type": "string"
            },
            "text/plain": [
              "\"Python isn't difficult.\""
            ]
          },
          "metadata": {
            "tags": []
          },
          "execution_count": 16
        }
      ]
    },
    {
      "cell_type": "code",
      "metadata": {
        "id": "OG4UhF9ie5u1"
      },
      "source": [
        ""
      ],
      "execution_count": null,
      "outputs": []
    }
  ]
}