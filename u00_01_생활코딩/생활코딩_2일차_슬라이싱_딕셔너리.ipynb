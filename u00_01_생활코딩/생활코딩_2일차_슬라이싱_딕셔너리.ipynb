{
  "nbformat": 4,
  "nbformat_minor": 0,
  "metadata": {
    "colab": {
      "name": "생활코딩_2일차_슬라이싱, 튜플.ipynb",
      "provenance": [],
      "collapsed_sections": []
    },
    "kernelspec": {
      "name": "python3",
      "display_name": "Python 3"
    },
    "language_info": {
      "name": "python"
    }
  },
  "cells": [
    {
      "cell_type": "markdown",
      "metadata": {
        "id": "oHKogFTaax0K"
      },
      "source": [
        "##Slicing"
      ]
    },
    {
      "cell_type": "code",
      "metadata": {
        "colab": {
          "base_uri": "https://localhost:8080/"
        },
        "id": "f0jqrtkIWv0V",
        "outputId": "dcc85410-6fd5-488d-b103-1fc753ad4bdd"
      },
      "source": [
        "jumin = \"960223-1234567\"\n",
        "\n",
        "print(\"성별 :\" + jumin[7])"
      ],
      "execution_count": 1,
      "outputs": [
        {
          "output_type": "stream",
          "text": [
            "성별 :1\n"
          ],
          "name": "stdout"
        }
      ]
    },
    {
      "cell_type": "code",
      "metadata": {
        "colab": {
          "base_uri": "https://localhost:8080/"
        },
        "id": "vrFiQpXha7Vq",
        "outputId": "81e2abef-7371-4302-d4a2-e5b6cb5a9317"
      },
      "source": [
        "print(\"생년월일 :\" + jumin[0:6]) # 0부터 6직전까지"
      ],
      "execution_count": 5,
      "outputs": [
        {
          "output_type": "stream",
          "text": [
            "생년월일 :960223\n"
          ],
          "name": "stdout"
        }
      ]
    },
    {
      "cell_type": "code",
      "metadata": {
        "colab": {
          "base_uri": "https://localhost:8080/"
        },
        "id": "_14nyzjcbHQs",
        "outputId": "e9d1dbe0-4262-464b-c552-d17bb95fcfe0"
      },
      "source": [
        "print(\"생년월일 :\" + jumin[:6]) # 처음부터 6직전까지"
      ],
      "execution_count": 6,
      "outputs": [
        {
          "output_type": "stream",
          "text": [
            "생년월일 :960223\n"
          ],
          "name": "stdout"
        }
      ]
    },
    {
      "cell_type": "code",
      "metadata": {
        "colab": {
          "base_uri": "https://localhost:8080/"
        },
        "id": "v9Wssbxjbb6L",
        "outputId": "5652c04e-6475-4a61-8617-cdbe27c043bd"
      },
      "source": [
        "print(\"뒤 자리 :\" + jumin[7:])"
      ],
      "execution_count": 7,
      "outputs": [
        {
          "output_type": "stream",
          "text": [
            "뒤 자리 :1234567\n"
          ],
          "name": "stdout"
        }
      ]
    },
    {
      "cell_type": "markdown",
      "metadata": {
        "id": "FRdzago_g6r7"
      },
      "source": [
        "## Dictionary"
      ]
    },
    {
      "cell_type": "code",
      "metadata": {
        "colab": {
          "base_uri": "https://localhost:8080/"
        },
        "id": "64HCsRF6bnP8",
        "outputId": "00ba53e1-85df-43fa-bd02-e5e573756360"
      },
      "source": [
        "cabinet = {3:\"지준환\", 100:\"조중희\"}\n",
        "print(cabinet[3])"
      ],
      "execution_count": 8,
      "outputs": [
        {
          "output_type": "stream",
          "text": [
            "지준환\n"
          ],
          "name": "stdout"
        }
      ]
    },
    {
      "cell_type": "code",
      "metadata": {
        "colab": {
          "base_uri": "https://localhost:8080/"
        },
        "id": "XvJ0Y3xvhQFT",
        "outputId": "bbba0363-5f8b-401f-a14c-abed3f6011c2"
      },
      "source": [
        "print(cabinet.get(3))"
      ],
      "execution_count": 10,
      "outputs": [
        {
          "output_type": "stream",
          "text": [
            "지준환\n"
          ],
          "name": "stdout"
        }
      ]
    },
    {
      "cell_type": "code",
      "metadata": {
        "colab": {
          "base_uri": "https://localhost:8080/"
        },
        "id": "CSDzo3jDhVzr",
        "outputId": "640f077a-c95f-4962-af0e-28c5ad9b8e55"
      },
      "source": [
        "print(3 in cabinet) # print(key in cabinet)"
      ],
      "execution_count": 12,
      "outputs": [
        {
          "output_type": "stream",
          "text": [
            "True\n"
          ],
          "name": "stdout"
        }
      ]
    },
    {
      "cell_type": "code",
      "metadata": {
        "colab": {
          "base_uri": "https://localhost:8080/"
        },
        "id": "qfbQ8O9VhqDL",
        "outputId": "a93258ce-0733-4159-8be0-6d5ba6f75927"
      },
      "source": [
        "#새 손님\n",
        "print(cabinet)\n",
        "cabinet[\"99\"] = \"김호준\""
      ],
      "execution_count": 14,
      "outputs": [
        {
          "output_type": "stream",
          "text": [
            "{3: '지준환', 100: '조중희'}\n"
          ],
          "name": "stdout"
        }
      ]
    },
    {
      "cell_type": "code",
      "metadata": {
        "colab": {
          "base_uri": "https://localhost:8080/"
        },
        "id": "vsscEoU2h8oj",
        "outputId": "62aa4779-277d-453a-a7a5-cfef6c682b98"
      },
      "source": [
        "print(cabinet)"
      ],
      "execution_count": 15,
      "outputs": [
        {
          "output_type": "stream",
          "text": [
            "{3: '지준환', 100: '조중희', '99': '김호준'}\n"
          ],
          "name": "stdout"
        }
      ]
    },
    {
      "cell_type": "code",
      "metadata": {
        "colab": {
          "base_uri": "https://localhost:8080/"
        },
        "id": "_bAqwmoziESi",
        "outputId": "de84a7aa-156a-407a-ecaa-efffbe3d8e21"
      },
      "source": [
        "# key, value 쌍으로 출력\n",
        "print(cabinet.items())"
      ],
      "execution_count": 23,
      "outputs": [
        {
          "output_type": "stream",
          "text": [
            "dict_items([(3, '지준환'), (100, '조중희'), ('99', '김호준')])\n"
          ],
          "name": "stdout"
        }
      ]
    },
    {
      "cell_type": "code",
      "metadata": {
        "id": "AA7KaYV_jX8p"
      },
      "source": [
        ""
      ],
      "execution_count": null,
      "outputs": []
    }
  ]
}