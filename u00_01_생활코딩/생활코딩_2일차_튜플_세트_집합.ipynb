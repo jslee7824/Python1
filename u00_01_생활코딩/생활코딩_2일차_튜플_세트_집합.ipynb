{
  "nbformat": 4,
  "nbformat_minor": 0,
  "metadata": {
    "colab": {
      "name": "생활코딩_2일차_튜플_세트_집합.ipynb",
      "provenance": [],
      "collapsed_sections": []
    },
    "kernelspec": {
      "name": "python3",
      "display_name": "Python 3"
    },
    "language_info": {
      "name": "python"
    }
  },
  "cells": [
    {
      "cell_type": "markdown",
      "metadata": {
        "id": "nkF9R6LxkRoX"
      },
      "source": [
        "## 튜플"
      ]
    },
    {
      "cell_type": "code",
      "metadata": {
        "colab": {
          "base_uri": "https://localhost:8080/"
        },
        "id": "CMHYQfW6jjxN",
        "outputId": "cf6f8d34-0fde-4e34-ab4f-55007eeeecd3"
      },
      "source": [
        "menu = (\"치킨\", \"마라탕\")\n",
        "print(menu[0])\n",
        "print(menu[1])\n",
        "\n",
        "#menu.add(\"계란\") # () 튜플은 add. 지원하지 않아유. 에러나옴"
      ],
      "execution_count": 4,
      "outputs": [
        {
          "output_type": "stream",
          "text": [
            "치킨\n",
            "마라탕\n"
          ],
          "name": "stdout"
        }
      ]
    },
    {
      "cell_type": "code",
      "metadata": {
        "id": "KKFOLfVmk5MO"
      },
      "source": [
        "#name = \"이계인\"\n",
        "#age = \"1\"\n",
        "#hobby = \"연기\"\n",
        "#print(name, age, hobby)"
      ],
      "execution_count": null,
      "outputs": []
    },
    {
      "cell_type": "code",
      "metadata": {
        "colab": {
          "base_uri": "https://localhost:8080/"
        },
        "id": "QR5-F1iEkh0K",
        "outputId": "ad4087d1-caf8-43a3-9edb-6e6fcf4db730"
      },
      "source": [
        "(name, age, hobby) = \"이계인\", 1, \"연기\" # 튜플을 활용하여 한 줄로 간단하게 값 지정 가능하다\n",
        "print(name, age, hobby)"
      ],
      "execution_count": 9,
      "outputs": [
        {
          "output_type": "stream",
          "text": [
            "이계인 1 연기\n"
          ],
          "name": "stdout"
        }
      ]
    },
    {
      "cell_type": "markdown",
      "metadata": {
        "id": "L7iSJMDclgdQ"
      },
      "source": [
        "## 집합(set)"
      ]
    },
    {
      "cell_type": "code",
      "metadata": {
        "colab": {
          "base_uri": "https://localhost:8080/"
        },
        "id": "Lx5ghETMlNEK",
        "outputId": "dcb33e6b-461b-46d8-ac85-6b9df3e6050d"
      },
      "source": [
        "# 중복 안됨, 순서 없음\n",
        "my_set = {1,2,3,3,3}\n",
        "print(my_set)"
      ],
      "execution_count": 10,
      "outputs": [
        {
          "output_type": "stream",
          "text": [
            "{1, 2, 3}\n"
          ],
          "name": "stdout"
        }
      ]
    },
    {
      "cell_type": "code",
      "metadata": {
        "id": "KQCLFCoklrza"
      },
      "source": [
        ""
      ],
      "execution_count": null,
      "outputs": []
    }
  ]
}