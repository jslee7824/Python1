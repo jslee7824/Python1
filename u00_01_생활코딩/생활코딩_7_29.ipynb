{
  "nbformat": 4,
  "nbformat_minor": 0,
  "metadata": {
    "colab": {
      "name": "생활코딩_7.29.ipynb",
      "provenance": [],
      "collapsed_sections": []
    },
    "kernelspec": {
      "name": "python3",
      "display_name": "Python 3"
    },
    "language_info": {
      "name": "python"
    }
  },
  "cells": [
    {
      "cell_type": "markdown",
      "metadata": {
        "id": "6WN9BPNYZHUQ"
      },
      "source": [
        "#생활코딩 강의"
      ]
    },
    {
      "cell_type": "markdown",
      "metadata": {
        "id": "lkB0fX6cZYUC"
      },
      "source": [
        "##문자열"
      ]
    },
    {
      "cell_type": "code",
      "metadata": {
        "colab": {
          "base_uri": "https://localhost:8080/"
        },
        "id": "UKjj28jzZFWG",
        "outputId": "9f0377aa-87a6-4a8b-eb36-f34a1f294f30"
      },
      "source": [
        "print('ㅗㅜㅑ'*2)"
      ],
      "execution_count": 2,
      "outputs": [
        {
          "output_type": "stream",
          "text": [
            "ㅗㅜㅑㅗㅜㅑ\n"
          ],
          "name": "stdout"
        }
      ]
    },
    {
      "cell_type": "markdown",
      "metadata": {
        "id": "TYUuB1BVZaQ0"
      },
      "source": [
        "## Boolean"
      ]
    },
    {
      "cell_type": "code",
      "metadata": {
        "colab": {
          "base_uri": "https://localhost:8080/"
        },
        "id": "07u8smXOZOAC",
        "outputId": "ba9ea5d7-a5a1-4c63-d55c-66347195c900"
      },
      "source": [
        "print( 5 > 10)"
      ],
      "execution_count": 3,
      "outputs": [
        {
          "output_type": "stream",
          "text": [
            "False\n"
          ],
          "name": "stdout"
        }
      ]
    },
    {
      "cell_type": "code",
      "metadata": {
        "colab": {
          "base_uri": "https://localhost:8080/"
        },
        "id": "9fZoT_d2ZVy5",
        "outputId": "267244fa-901b-4119-bc60-ab2ce2d1bf1e"
      },
      "source": [
        "print(not(10 > 5))"
      ],
      "execution_count": 7,
      "outputs": [
        {
          "output_type": "stream",
          "text": [
            "False\n"
          ],
          "name": "stdout"
        }
      ]
    },
    {
      "cell_type": "markdown",
      "metadata": {
        "id": "-1Xvi26kZu1-"
      },
      "source": [
        "##변수\n"
      ]
    },
    {
      "cell_type": "code",
      "metadata": {
        "colab": {
          "base_uri": "https://localhost:8080/"
        },
        "id": "q_l4p8QrZjNx",
        "outputId": "45a435ac-91fd-42a7-9596-0ce98af00214"
      },
      "source": [
        "name = \"잔디\"\n",
        "animal = \"댕댕이\"\n",
        "age = 5\n",
        "hobby = \"산책\"\n",
        "is_adult = age >= 10 \n",
        "print(\"우리집 \" + animal + \"의 이름은 \" + name +\"에요.\")\n",
        "#print(name + \"는 \" + str(age) + \"살이며, \" + hobby + \"을 아주 좋아해요.\")\n",
        "print(name,'는 ', str(age), \"살이며 \", hobby, \"을 아주 좋아해요.\") # ','사용할 경우 띄어서 써짐\n",
        "print(name + \"는 어른일까요? \" + str(is_adult))\n"
      ],
      "execution_count": 14,
      "outputs": [
        {
          "output_type": "stream",
          "text": [
            "우리집 댕댕이의 이름은 잔디에요.\n",
            "잔디 는  5 살이며  산책 을 아주 좋아해요.\n",
            "잔디는 어른일까요? False\n"
          ],
          "name": "stdout"
        }
      ]
    },
    {
      "cell_type": "code",
      "metadata": {
        "id": "LoDCtKa1a30h"
      },
      "source": [
        ""
      ],
      "execution_count": null,
      "outputs": []
    }
  ]
}